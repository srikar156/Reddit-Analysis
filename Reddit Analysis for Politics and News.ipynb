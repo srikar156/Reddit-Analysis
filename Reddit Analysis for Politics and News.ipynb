{
 "cells": [
  {
   "cell_type": "markdown",
   "metadata": {},
   "source": [
    "# Reddit Text Corpus Analysis: for News and Politics Data"
   ]
  },
  {
   "cell_type": "markdown",
   "metadata": {},
   "source": [
    "#### Import all the libraries here"
   ]
  },
  {
   "cell_type": "code",
   "execution_count": 1,
   "metadata": {},
   "outputs": [],
   "source": [
    "import nltk\n",
    "from lxml import html  \n",
    "import requests\n",
    "from nltk.corpus import stopwords\n",
    "from textblob import TextBlob\n",
    "import sys\n",
    "import numpy as np\n",
    "import pandas as pd\n",
    "import matplotlib\n",
    "import matplotlib.pyplot as plt\n",
    "import sklearn\n",
    "import scikitplot as skplt\n",
    "import re\n",
    "from textblob import Word\n",
    "from wordcloud import WordCloud, STOPWORDS \n",
    "import spacy\n",
    "from spacy import displacy\n",
    "from collections import Counter\n",
    "import en_core_web_sm\n",
    "nlp = en_core_web_sm.load()\n",
    "import nltk\n",
    "from nltk.tokenize import word_tokenize\n",
    "from nltk.tag import pos_tag"
   ]
  },
  {
   "cell_type": "code",
   "execution_count": 2,
   "metadata": {},
   "outputs": [
    {
     "name": "stdout",
     "output_type": "stream",
     "text": [
      "[nltk_data] Downloading package stopwords to\n",
      "[nltk_data]     /Users/vaibhav.verdhan/nltk_data...\n",
      "[nltk_data]   Package stopwords is already up-to-date!\n"
     ]
    },
    {
     "data": {
      "text/plain": [
       "True"
      ]
     },
     "execution_count": 2,
     "metadata": {},
     "output_type": "execute_result"
    }
   ],
   "source": [
    "nltk.download('stopwords')"
   ]
  },
  {
   "cell_type": "code",
   "execution_count": 3,
   "metadata": {},
   "outputs": [
    {
     "name": "stdout",
     "output_type": "stream",
     "text": [
      "[nltk_data] Downloading package wordnet to\n",
      "[nltk_data]     /Users/vaibhav.verdhan/nltk_data...\n",
      "[nltk_data]   Package wordnet is already up-to-date!\n"
     ]
    },
    {
     "data": {
      "text/plain": [
       "True"
      ]
     },
     "execution_count": 3,
     "metadata": {},
     "output_type": "execute_result"
    }
   ],
   "source": [
    "# wordnet is lexical batabse for Engligh\n",
    "nltk.download('wordnet')"
   ]
  },
  {
   "cell_type": "code",
   "execution_count": 4,
   "metadata": {},
   "outputs": [
    {
     "name": "stdout",
     "output_type": "stream",
     "text": [
      "[nltk_data] Downloading package averaged_perceptron_tagger to\n",
      "[nltk_data]     /Users/vaibhav.verdhan/nltk_data...\n",
      "[nltk_data]   Package averaged_perceptron_tagger is already up-to-\n",
      "[nltk_data]       date!\n"
     ]
    },
    {
     "data": {
      "text/plain": [
       "True"
      ]
     },
     "execution_count": 4,
     "metadata": {},
     "output_type": "execute_result"
    }
   ],
   "source": [
    "nltk.download('averaged_perceptron_tagger')"
   ]
  },
  {
   "cell_type": "code",
   "execution_count": 5,
   "metadata": {},
   "outputs": [
    {
     "name": "stdout",
     "output_type": "stream",
     "text": [
      "[nltk_data] Downloading package maxent_ne_chunker to\n",
      "[nltk_data]     /Users/vaibhav.verdhan/nltk_data...\n",
      "[nltk_data]   Package maxent_ne_chunker is already up-to-date!\n"
     ]
    },
    {
     "data": {
      "text/plain": [
       "True"
      ]
     },
     "execution_count": 5,
     "metadata": {},
     "output_type": "execute_result"
    }
   ],
   "source": [
    "#In NLTK, chunking is the process of extracting short, well-formed phrases, or chunks, from a sentence. \n",
    "\n",
    "nltk.download('maxent_ne_chunker')"
   ]
  },
  {
   "cell_type": "code",
   "execution_count": 6,
   "metadata": {},
   "outputs": [
    {
     "name": "stdout",
     "output_type": "stream",
     "text": [
      "[nltk_data] Downloading package words to\n",
      "[nltk_data]     /Users/vaibhav.verdhan/nltk_data...\n",
      "[nltk_data]   Package words is already up-to-date!\n"
     ]
    },
    {
     "data": {
      "text/plain": [
       "True"
      ]
     },
     "execution_count": 6,
     "metadata": {},
     "output_type": "execute_result"
    }
   ],
   "source": [
    "nltk.download('words')"
   ]
  },
  {
   "cell_type": "code",
   "execution_count": 188,
   "metadata": {},
   "outputs": [],
   "source": [
    "news = pd.read_csv(\"news_politics.csv\")"
   ]
  },
  {
   "cell_type": "code",
   "execution_count": 31,
   "metadata": {},
   "outputs": [
    {
     "data": {
      "text/plain": [
       "(94086, 12)"
      ]
     },
     "execution_count": 31,
     "metadata": {},
     "output_type": "execute_result"
    }
   ],
   "source": [
    "news.shape"
   ]
  },
  {
   "cell_type": "code",
   "execution_count": 32,
   "metadata": {},
   "outputs": [
    {
     "data": {
      "text/html": [
       "<div>\n",
       "<style scoped>\n",
       "    .dataframe tbody tr th:only-of-type {\n",
       "        vertical-align: middle;\n",
       "    }\n",
       "\n",
       "    .dataframe tbody tr th {\n",
       "        vertical-align: top;\n",
       "    }\n",
       "\n",
       "    .dataframe thead th {\n",
       "        text-align: right;\n",
       "    }\n",
       "</style>\n",
       "<table border=\"1\" class=\"dataframe\">\n",
       "  <thead>\n",
       "    <tr style=\"text-align: right;\">\n",
       "      <th></th>\n",
       "      <th>Row</th>\n",
       "      <th>Text</th>\n",
       "      <th>ID</th>\n",
       "      <th>Subreddit</th>\n",
       "      <th>Meta</th>\n",
       "      <th>TimeStamp</th>\n",
       "      <th>UserName</th>\n",
       "      <th>UpVote</th>\n",
       "      <th>DownVote</th>\n",
       "      <th>LinkKarma</th>\n",
       "      <th>UserKarma</th>\n",
       "      <th>Gold</th>\n",
       "    </tr>\n",
       "  </thead>\n",
       "  <tbody>\n",
       "    <tr>\n",
       "      <th>0</th>\n",
       "      <td>0</td>\n",
       "      <td>disclaimer  i think obama should nominate some...</td>\n",
       "      <td>d028c5d</td>\n",
       "      <td>politics</td>\n",
       "      <td>news</td>\n",
       "      <td>1.455651e+09</td>\n",
       "      <td>degausse</td>\n",
       "      <td>3.0</td>\n",
       "      <td>0.0</td>\n",
       "      <td>1</td>\n",
       "      <td>1941</td>\n",
       "      <td>0.0</td>\n",
       "    </tr>\n",
       "    <tr>\n",
       "      <th>1</th>\n",
       "      <td>1</td>\n",
       "      <td>NaN</td>\n",
       "      <td>463sa9</td>\n",
       "      <td>politics</td>\n",
       "      <td>news</td>\n",
       "      <td>1.455647e+09</td>\n",
       "      <td>trash_reason</td>\n",
       "      <td>371.0</td>\n",
       "      <td>0.0</td>\n",
       "      <td>5613</td>\n",
       "      <td>1361</td>\n",
       "      <td>0.0</td>\n",
       "    </tr>\n",
       "    <tr>\n",
       "      <th>2</th>\n",
       "      <td>2</td>\n",
       "      <td>either way the process will be dragged out unt...</td>\n",
       "      <td>d026od6</td>\n",
       "      <td>politics</td>\n",
       "      <td>news</td>\n",
       "      <td>1.455648e+09</td>\n",
       "      <td>cyberspyder</td>\n",
       "      <td>5.0</td>\n",
       "      <td>0.0</td>\n",
       "      <td>1300</td>\n",
       "      <td>6462</td>\n",
       "      <td>1.0</td>\n",
       "    </tr>\n",
       "    <tr>\n",
       "      <th>3</th>\n",
       "      <td>3</td>\n",
       "      <td>republicans have always battled with severe ca...</td>\n",
       "      <td>d026wk3</td>\n",
       "      <td>politics</td>\n",
       "      <td>news</td>\n",
       "      <td>1.455649e+09</td>\n",
       "      <td>jabb0</td>\n",
       "      <td>15.0</td>\n",
       "      <td>0.0</td>\n",
       "      <td>44981</td>\n",
       "      <td>141501</td>\n",
       "      <td>0.0</td>\n",
       "    </tr>\n",
       "    <tr>\n",
       "      <th>4</th>\n",
       "      <td>4</td>\n",
       "      <td>politics were so different back then people on...</td>\n",
       "      <td>d02a3k3</td>\n",
       "      <td>politics</td>\n",
       "      <td>news</td>\n",
       "      <td>1.455653e+09</td>\n",
       "      <td>Hypertension123456</td>\n",
       "      <td>2.0</td>\n",
       "      <td>0.0</td>\n",
       "      <td>46</td>\n",
       "      <td>42036</td>\n",
       "      <td>0.0</td>\n",
       "    </tr>\n",
       "  </tbody>\n",
       "</table>\n",
       "</div>"
      ],
      "text/plain": [
       "   Row                                               Text       ID Subreddit  \\\n",
       "0    0  disclaimer  i think obama should nominate some...  d028c5d  politics   \n",
       "1    1                                                NaN   463sa9  politics   \n",
       "2    2  either way the process will be dragged out unt...  d026od6  politics   \n",
       "3    3  republicans have always battled with severe ca...  d026wk3  politics   \n",
       "4    4  politics were so different back then people on...  d02a3k3  politics   \n",
       "\n",
       "   Meta     TimeStamp            UserName  UpVote  DownVote  LinkKarma  \\\n",
       "0  news  1.455651e+09            degausse     3.0       0.0          1   \n",
       "1  news  1.455647e+09        trash_reason   371.0       0.0       5613   \n",
       "2  news  1.455648e+09         cyberspyder     5.0       0.0       1300   \n",
       "3  news  1.455649e+09               jabb0    15.0       0.0      44981   \n",
       "4  news  1.455653e+09  Hypertension123456     2.0       0.0         46   \n",
       "\n",
       "   UserKarma  Gold  \n",
       "0       1941   0.0  \n",
       "1       1361   0.0  \n",
       "2       6462   1.0  \n",
       "3     141501   0.0  \n",
       "4      42036   0.0  "
      ]
     },
     "execution_count": 32,
     "metadata": {},
     "output_type": "execute_result"
    }
   ],
   "source": [
    "news.head()"
   ]
  },
  {
   "cell_type": "code",
   "execution_count": 189,
   "metadata": {},
   "outputs": [],
   "source": [
    "# dropping the first ID column here\n",
    "news = news.drop('Row', axis=1)"
   ]
  },
  {
   "cell_type": "code",
   "execution_count": 190,
   "metadata": {},
   "outputs": [
    {
     "data": {
      "text/html": [
       "<div>\n",
       "<style scoped>\n",
       "    .dataframe tbody tr th:only-of-type {\n",
       "        vertical-align: middle;\n",
       "    }\n",
       "\n",
       "    .dataframe tbody tr th {\n",
       "        vertical-align: top;\n",
       "    }\n",
       "\n",
       "    .dataframe thead th {\n",
       "        text-align: right;\n",
       "    }\n",
       "</style>\n",
       "<table border=\"1\" class=\"dataframe\">\n",
       "  <thead>\n",
       "    <tr style=\"text-align: right;\">\n",
       "      <th></th>\n",
       "      <th>Text</th>\n",
       "      <th>ID</th>\n",
       "      <th>Subreddit</th>\n",
       "      <th>Meta</th>\n",
       "      <th>TimeStamp</th>\n",
       "      <th>UserName</th>\n",
       "      <th>UpVote</th>\n",
       "      <th>DownVote</th>\n",
       "      <th>LinkKarma</th>\n",
       "      <th>UserKarma</th>\n",
       "      <th>Gold</th>\n",
       "    </tr>\n",
       "  </thead>\n",
       "  <tbody>\n",
       "    <tr>\n",
       "      <th>0</th>\n",
       "      <td>disclaimer  i think obama should nominate some...</td>\n",
       "      <td>d028c5d</td>\n",
       "      <td>politics</td>\n",
       "      <td>news</td>\n",
       "      <td>1.455651e+09</td>\n",
       "      <td>degausse</td>\n",
       "      <td>3.0</td>\n",
       "      <td>0.0</td>\n",
       "      <td>1</td>\n",
       "      <td>1941</td>\n",
       "      <td>0.0</td>\n",
       "    </tr>\n",
       "    <tr>\n",
       "      <th>1</th>\n",
       "      <td>NaN</td>\n",
       "      <td>463sa9</td>\n",
       "      <td>politics</td>\n",
       "      <td>news</td>\n",
       "      <td>1.455647e+09</td>\n",
       "      <td>trash_reason</td>\n",
       "      <td>371.0</td>\n",
       "      <td>0.0</td>\n",
       "      <td>5613</td>\n",
       "      <td>1361</td>\n",
       "      <td>0.0</td>\n",
       "    </tr>\n",
       "    <tr>\n",
       "      <th>2</th>\n",
       "      <td>either way the process will be dragged out unt...</td>\n",
       "      <td>d026od6</td>\n",
       "      <td>politics</td>\n",
       "      <td>news</td>\n",
       "      <td>1.455648e+09</td>\n",
       "      <td>cyberspyder</td>\n",
       "      <td>5.0</td>\n",
       "      <td>0.0</td>\n",
       "      <td>1300</td>\n",
       "      <td>6462</td>\n",
       "      <td>1.0</td>\n",
       "    </tr>\n",
       "    <tr>\n",
       "      <th>3</th>\n",
       "      <td>republicans have always battled with severe ca...</td>\n",
       "      <td>d026wk3</td>\n",
       "      <td>politics</td>\n",
       "      <td>news</td>\n",
       "      <td>1.455649e+09</td>\n",
       "      <td>jabb0</td>\n",
       "      <td>15.0</td>\n",
       "      <td>0.0</td>\n",
       "      <td>44981</td>\n",
       "      <td>141501</td>\n",
       "      <td>0.0</td>\n",
       "    </tr>\n",
       "    <tr>\n",
       "      <th>4</th>\n",
       "      <td>politics were so different back then people on...</td>\n",
       "      <td>d02a3k3</td>\n",
       "      <td>politics</td>\n",
       "      <td>news</td>\n",
       "      <td>1.455653e+09</td>\n",
       "      <td>Hypertension123456</td>\n",
       "      <td>2.0</td>\n",
       "      <td>0.0</td>\n",
       "      <td>46</td>\n",
       "      <td>42036</td>\n",
       "      <td>0.0</td>\n",
       "    </tr>\n",
       "  </tbody>\n",
       "</table>\n",
       "</div>"
      ],
      "text/plain": [
       "                                                Text       ID Subreddit  Meta  \\\n",
       "0  disclaimer  i think obama should nominate some...  d028c5d  politics  news   \n",
       "1                                                NaN   463sa9  politics  news   \n",
       "2  either way the process will be dragged out unt...  d026od6  politics  news   \n",
       "3  republicans have always battled with severe ca...  d026wk3  politics  news   \n",
       "4  politics were so different back then people on...  d02a3k3  politics  news   \n",
       "\n",
       "      TimeStamp            UserName  UpVote  DownVote  LinkKarma  UserKarma  \\\n",
       "0  1.455651e+09            degausse     3.0       0.0          1       1941   \n",
       "1  1.455647e+09        trash_reason   371.0       0.0       5613       1361   \n",
       "2  1.455648e+09         cyberspyder     5.0       0.0       1300       6462   \n",
       "3  1.455649e+09               jabb0    15.0       0.0      44981     141501   \n",
       "4  1.455653e+09  Hypertension123456     2.0       0.0         46      42036   \n",
       "\n",
       "   Gold  \n",
       "0   0.0  \n",
       "1   0.0  \n",
       "2   1.0  \n",
       "3   0.0  \n",
       "4   0.0  "
      ]
     },
     "execution_count": 190,
     "metadata": {},
     "output_type": "execute_result"
    }
   ],
   "source": [
    "news.head()"
   ]
  },
  {
   "cell_type": "code",
   "execution_count": 191,
   "metadata": {},
   "outputs": [],
   "source": [
    "# Dropping all the rows with Blank Text\n",
    "news = news.dropna(subset=['Text'])"
   ]
  },
  {
   "cell_type": "code",
   "execution_count": 192,
   "metadata": {},
   "outputs": [
    {
     "data": {
      "text/plain": [
       "(86852, 11)"
      ]
     },
     "execution_count": 192,
     "metadata": {},
     "output_type": "execute_result"
    }
   ],
   "source": [
    "news.shape"
   ]
  },
  {
   "cell_type": "code",
   "execution_count": 193,
   "metadata": {},
   "outputs": [],
   "source": [
    "news = news.drop_duplicates()"
   ]
  },
  {
   "cell_type": "code",
   "execution_count": 194,
   "metadata": {},
   "outputs": [
    {
     "data": {
      "text/plain": [
       "(3599, 11)"
      ]
     },
     "execution_count": 194,
     "metadata": {},
     "output_type": "execute_result"
    }
   ],
   "source": [
    "news.shape\n",
    "# Finally we have 3599 rows to be analysed"
   ]
  },
  {
   "cell_type": "code",
   "execution_count": 55,
   "metadata": {},
   "outputs": [
    {
     "data": {
      "text/html": [
       "<div>\n",
       "<style scoped>\n",
       "    .dataframe tbody tr th:only-of-type {\n",
       "        vertical-align: middle;\n",
       "    }\n",
       "\n",
       "    .dataframe tbody tr th {\n",
       "        vertical-align: top;\n",
       "    }\n",
       "\n",
       "    .dataframe thead th {\n",
       "        text-align: right;\n",
       "    }\n",
       "</style>\n",
       "<table border=\"1\" class=\"dataframe\">\n",
       "  <thead>\n",
       "    <tr style=\"text-align: right;\">\n",
       "      <th></th>\n",
       "      <th>Text</th>\n",
       "      <th>ID</th>\n",
       "      <th>Subreddit</th>\n",
       "      <th>Meta</th>\n",
       "      <th>TimeStamp</th>\n",
       "      <th>UserName</th>\n",
       "      <th>UpVote</th>\n",
       "      <th>DownVote</th>\n",
       "      <th>LinkKarma</th>\n",
       "      <th>UserKarma</th>\n",
       "      <th>Gold</th>\n",
       "    </tr>\n",
       "  </thead>\n",
       "  <tbody>\n",
       "    <tr>\n",
       "      <th>0</th>\n",
       "      <td>disclaimer  i think obama should nominate some...</td>\n",
       "      <td>d028c5d</td>\n",
       "      <td>politics</td>\n",
       "      <td>news</td>\n",
       "      <td>1.455651e+09</td>\n",
       "      <td>degausse</td>\n",
       "      <td>3.0</td>\n",
       "      <td>0.0</td>\n",
       "      <td>1</td>\n",
       "      <td>1941</td>\n",
       "      <td>0.0</td>\n",
       "    </tr>\n",
       "    <tr>\n",
       "      <th>2</th>\n",
       "      <td>either way the process will be dragged out unt...</td>\n",
       "      <td>d026od6</td>\n",
       "      <td>politics</td>\n",
       "      <td>news</td>\n",
       "      <td>1.455648e+09</td>\n",
       "      <td>cyberspyder</td>\n",
       "      <td>5.0</td>\n",
       "      <td>0.0</td>\n",
       "      <td>1300</td>\n",
       "      <td>6462</td>\n",
       "      <td>1.0</td>\n",
       "    </tr>\n",
       "    <tr>\n",
       "      <th>3</th>\n",
       "      <td>republicans have always battled with severe ca...</td>\n",
       "      <td>d026wk3</td>\n",
       "      <td>politics</td>\n",
       "      <td>news</td>\n",
       "      <td>1.455649e+09</td>\n",
       "      <td>jabb0</td>\n",
       "      <td>15.0</td>\n",
       "      <td>0.0</td>\n",
       "      <td>44981</td>\n",
       "      <td>141501</td>\n",
       "      <td>0.0</td>\n",
       "    </tr>\n",
       "    <tr>\n",
       "      <th>4</th>\n",
       "      <td>politics were so different back then people on...</td>\n",
       "      <td>d02a3k3</td>\n",
       "      <td>politics</td>\n",
       "      <td>news</td>\n",
       "      <td>1.455653e+09</td>\n",
       "      <td>Hypertension123456</td>\n",
       "      <td>2.0</td>\n",
       "      <td>0.0</td>\n",
       "      <td>46</td>\n",
       "      <td>42036</td>\n",
       "      <td>0.0</td>\n",
       "    </tr>\n",
       "    <tr>\n",
       "      <th>5</th>\n",
       "      <td>equally ridiculous  here s a 1970 law review a...</td>\n",
       "      <td>d025wad</td>\n",
       "      <td>politics</td>\n",
       "      <td>news</td>\n",
       "      <td>1.455647e+09</td>\n",
       "      <td>trash_reason</td>\n",
       "      <td>26.0</td>\n",
       "      <td>0.0</td>\n",
       "      <td>5613</td>\n",
       "      <td>1361</td>\n",
       "      <td>0.0</td>\n",
       "    </tr>\n",
       "  </tbody>\n",
       "</table>\n",
       "</div>"
      ],
      "text/plain": [
       "                                                Text       ID Subreddit  Meta  \\\n",
       "0  disclaimer  i think obama should nominate some...  d028c5d  politics  news   \n",
       "2  either way the process will be dragged out unt...  d026od6  politics  news   \n",
       "3  republicans have always battled with severe ca...  d026wk3  politics  news   \n",
       "4  politics were so different back then people on...  d02a3k3  politics  news   \n",
       "5  equally ridiculous  here s a 1970 law review a...  d025wad  politics  news   \n",
       "\n",
       "      TimeStamp            UserName  UpVote  DownVote  LinkKarma  UserKarma  \\\n",
       "0  1.455651e+09            degausse     3.0       0.0          1       1941   \n",
       "2  1.455648e+09         cyberspyder     5.0       0.0       1300       6462   \n",
       "3  1.455649e+09               jabb0    15.0       0.0      44981     141501   \n",
       "4  1.455653e+09  Hypertension123456     2.0       0.0         46      42036   \n",
       "5  1.455647e+09        trash_reason    26.0       0.0       5613       1361   \n",
       "\n",
       "   Gold  \n",
       "0   0.0  \n",
       "2   1.0  \n",
       "3   0.0  \n",
       "4   0.0  \n",
       "5   0.0  "
      ]
     },
     "execution_count": 55,
     "metadata": {},
     "output_type": "execute_result"
    }
   ],
   "source": [
    "news.head()"
   ]
  },
  {
   "cell_type": "markdown",
   "metadata": {},
   "source": [
    "## Prepare the date here"
   ]
  },
  {
   "cell_type": "code",
   "execution_count": 195,
   "metadata": {},
   "outputs": [],
   "source": [
    "# A list of contractions from http://stackoverflow.com/questions/19790188/expanding-english-language-contractions-in-python\n",
    "contractions = { \n",
    "\"ain't\": \"am not\",\n",
    "\"aren't\": \"are not\",\n",
    "\"can't\": \"cannot\",\n",
    "\"can't've\": \"cannot have\",\n",
    "\"'cause\": \"because\",\n",
    "\"could've\": \"could have\",\n",
    "\"couldn't\": \"could not\",\n",
    "\"couldn't've\": \"could not have\",\n",
    "\"didn't\": \"did not\",\n",
    "\"doesn't\": \"does not\",\n",
    "\"don't\": \"do not\",\n",
    "\"hadn't\": \"had not\",\n",
    "\"hadn't've\": \"had not have\",\n",
    "\"hasn't\": \"has not\",\n",
    "\"haven't\": \"have not\",\n",
    "\"he'd\": \"he would\",\n",
    "\"he'd've\": \"he would have\",\n",
    "\"he'll\": \"he will\",\n",
    "\"he's\": \"he is\",\n",
    "\"how'd\": \"how did\",\n",
    "\"how'll\": \"how will\",\n",
    "\"how's\": \"how is\",\n",
    "\"i'd\": \"i would\",\n",
    "\"i'll\": \"i will\",\n",
    "\"i'm\": \"i am\",\n",
    "\"i've\": \"i have\",\n",
    "\"isn't\": \"is not\",\n",
    "\"it'd\": \"it would\",\n",
    "\"it'll\": \"it will\",\n",
    "\"it's\": \"it is\",\n",
    "\"let's\": \"let us\",\n",
    "\"ma'am\": \"madam\",\n",
    "\"mayn't\": \"may not\",\n",
    "\"might've\": \"might have\",\n",
    "\"mightn't\": \"might not\",\n",
    "\"must've\": \"must have\",\n",
    "\"mustn't\": \"must not\",\n",
    "\"needn't\": \"need not\",\n",
    "\"oughtn't\": \"ought not\",\n",
    "\"shan't\": \"shall not\",\n",
    "\"sha'n't\": \"shall not\",\n",
    "\"she'd\": \"she would\",\n",
    "\"she'll\": \"she will\",\n",
    "\"she's\": \"she is\",\n",
    "\"should've\": \"should have\",\n",
    "\"shouldn't\": \"should not\",\n",
    "\"that'd\": \"that would\",\n",
    "\"that's\": \"that is\",\n",
    "\"there'd\": \"there had\",\n",
    "\"there's\": \"there is\",\n",
    "\"they'd\": \"they would\",\n",
    "\"they'll\": \"they will\",\n",
    "\"they're\": \"they are\",\n",
    "\"they've\": \"they have\",\n",
    "\"wasn't\": \"was not\",\n",
    "\"we'd\": \"we would\",\n",
    "\"we'll\": \"we will\",\n",
    "\"we're\": \"we are\",\n",
    "\"we've\": \"we have\",\n",
    "\"weren't\": \"were not\",\n",
    "\"what'll\": \"what will\",\n",
    "\"what're\": \"what are\",\n",
    "\"what's\": \"what is\",\n",
    "\"what've\": \"what have\",\n",
    "\"where'd\": \"where did\",\n",
    "\"where's\": \"where is\",\n",
    "\"who'll\": \"who will\",\n",
    "\"who's\": \"who is\",\n",
    "\"won't\": \"will not\",\n",
    "\"wouldn't\": \"would not\",\n",
    "\"you'd\": \"you would\",\n",
    "\"you'll\": \"you will\",\n",
    "\"you're\": \"you are\"\n",
    "}"
   ]
  },
  {
   "cell_type": "markdown",
   "metadata": {},
   "source": [
    "#### Convert all the news to Lower here"
   ]
  },
  {
   "cell_type": "code",
   "execution_count": 196,
   "metadata": {},
   "outputs": [],
   "source": [
    "news.Text = news.Text.str.lower()"
   ]
  },
  {
   "cell_type": "markdown",
   "metadata": {},
   "source": [
    "#### Let's clean the text here"
   ]
  },
  {
   "cell_type": "code",
   "execution_count": 197,
   "metadata": {},
   "outputs": [],
   "source": [
    "def clean_text(text, remove_stopwords = True):\n",
    "    '''Remove unwanted characters, stopwords, and format the text to create fewer nulls word embeddings'''\n",
    "    \n",
    "    # Convert words to lower case\n",
    "    text = text.lower()\n",
    "    \n",
    "    # Replace contractions with their longer forms \n",
    "    if True:\n",
    "        # We are not using \"text.split()\" here\n",
    "        #since it is not fool proof, e.g. words followed by punctuations \"Are you kidding?I think you aren't.\"\n",
    "        text = re.findall(r\"[\\w']+\", text)\n",
    "        new_text = []\n",
    "        for word in text:\n",
    "            if word in contractions:\n",
    "                new_text.append(contractions[word])\n",
    "            else:\n",
    "                new_text.append(word)\n",
    "        text = \" \".join(new_text)\n",
    "    \n",
    "    # Format words and remove unwanted characters\n",
    "    text = re.sub(r'https?:\\/\\/.*[\\r\\n]*', '', text, flags=re.MULTILINE)# remove links\n",
    "    text = re.sub(r'\\<a href', ' ', text)# remove html link tag\n",
    "    text = re.sub(r'&amp;', '', text) \n",
    "    text = re.sub(r'[_\"\\-;%()|+&=*%.,!?:#$@\\[\\]/]', ' ', text)\n",
    "    text = re.sub(r'<br />', ' ', text)\n",
    "    text = re.sub(r'\\'', ' ', text)\n",
    "    \n",
    "    # Optionally, remove stop words\n",
    "    if remove_stopwords:\n",
    "        text = text.split()\n",
    "        stops = set(stopwords.words(\"english\"))\n",
    "        text = [w for w in text if not w in stops]\n",
    "        text = \" \".join(text)\n",
    "\n",
    "    return text"
   ]
  },
  {
   "cell_type": "code",
   "execution_count": 480,
   "metadata": {},
   "outputs": [
    {
     "data": {
      "text/plain": [
       "'indeed great news may believe right'"
      ]
     },
     "execution_count": 480,
     "metadata": {},
     "output_type": "execute_result"
    }
   ],
   "source": [
    "clean_text(\"It's indeed a great news!, may be you believe it? Right? Are you?\")"
   ]
  },
  {
   "cell_type": "code",
   "execution_count": 199,
   "metadata": {},
   "outputs": [],
   "source": [
    "# Cleaning our Text data here\n",
    "news['Text'] = news['Text'].map(lambda text: clean_text(text))"
   ]
  },
  {
   "cell_type": "code",
   "execution_count": 19,
   "metadata": {},
   "outputs": [
    {
     "data": {
      "text/plain": [
       "0    disclaimer think obama nominate someone senate...\n",
       "2    either way process dragged elections gop votes...\n",
       "3    republicans always battled severe cases select...\n",
       "4    politics different back people sides least pre...\n",
       "5    equally ridiculous 1970 law review article mcc...\n",
       "Name: Text, dtype: object"
      ]
     },
     "execution_count": 19,
     "metadata": {},
     "output_type": "execute_result"
    }
   ],
   "source": [
    "news.Text.head()"
   ]
  },
  {
   "cell_type": "markdown",
   "metadata": {},
   "source": [
    "#### Count the number of occurances of words here "
   ]
  },
  {
   "cell_type": "code",
   "execution_count": 20,
   "metadata": {},
   "outputs": [],
   "source": [
    "def count_words(count_dict, text):\n",
    "    for sentence in text:\n",
    "        for word in sentence.split():\n",
    "            if word not in count_dict:\n",
    "                count_dict[word] = 1\n",
    "            else:\n",
    "                count_dict[word] += 1"
   ]
  },
  {
   "cell_type": "code",
   "execution_count": 21,
   "metadata": {},
   "outputs": [
    {
     "data": {
      "text/plain": [
       "{'a': 2, 'dog': 2, 'great': 4, 'have': 1, 'is': 1, 'that': 1, 'you': 1}"
      ]
     },
     "execution_count": 21,
     "metadata": {},
     "output_type": "execute_result"
    }
   ],
   "source": [
    "mydict = {}\n",
    "count_words(mydict, [\"that is a great great great dog\",\"you have a great dog\"])\n",
    "mydict"
   ]
  },
  {
   "cell_type": "markdown",
   "metadata": {},
   "source": [
    "##### These are the most comonly occuring words in our corpus. "
   ]
  },
  {
   "cell_type": "code",
   "execution_count": 22,
   "metadata": {},
   "outputs": [],
   "source": [
    "freq = pd.Series(' '.join(news.Text).split()).value_counts()[:50]"
   ]
  },
  {
   "cell_type": "code",
   "execution_count": 23,
   "metadata": {},
   "outputs": [
    {
     "data": {
      "text/plain": [
       "nt            1129\n",
       "e              819\n",
       "would          601\n",
       "people         601\n",
       "sanders        571\n",
       "r              555\n",
       "hillary        554\n",
       "bernie         543\n",
       "n              540\n",
       "like           486\n",
       "clinton        416\n",
       "obama          331\n",
       "president      326\n",
       "gt             315\n",
       "think          313\n",
       "trump          302\n",
       "get            292\n",
       "one            287\n",
       "b              276\n",
       "even           260\n",
       "going          254\n",
       "really         244\n",
       "campaign       228\n",
       "see            206\n",
       "know           198\n",
       "vote           185\n",
       "support        184\n",
       "party          183\n",
       "want           181\n",
       "government     175\n",
       "black          173\n",
       "could          172\n",
       "political      170\n",
       "http           168\n",
       "much           166\n",
       "article        166\n",
       "say            165\n",
       "well           161\n",
       "also           160\n",
       "many           160\n",
       "make           157\n",
       "said           156\n",
       "time           155\n",
       "us             151\n",
       "money          151\n",
       "right          151\n",
       "big            149\n",
       "women          146\n",
       "years          145\n",
       "bill           143\n",
       "dtype: int64"
      ]
     },
     "execution_count": 23,
     "metadata": {},
     "output_type": "execute_result"
    }
   ],
   "source": [
    "freq"
   ]
  },
  {
   "cell_type": "markdown",
   "metadata": {},
   "source": [
    "#### Still more cleaning is reqiured, we have words with 1 length also coming, lets remove the words with less than 3 length"
   ]
  },
  {
   "cell_type": "code",
   "execution_count": 200,
   "metadata": {},
   "outputs": [],
   "source": [
    "news.Text = news.Text.apply(lambda i: ' '.join(filter(lambda j: len(j) > 3, i.split())))"
   ]
  },
  {
   "cell_type": "code",
   "execution_count": 201,
   "metadata": {},
   "outputs": [],
   "source": [
    "maxFreq = pd.Series(' '.join(news.Text).split()).value_counts()[:100]"
   ]
  },
  {
   "cell_type": "code",
   "execution_count": 202,
   "metadata": {},
   "outputs": [
    {
     "data": {
      "text/plain": [
       "people        601\n",
       "would         601\n",
       "sanders       571\n",
       "hillary       554\n",
       "bernie        543\n",
       "like          486\n",
       "clinton       416\n",
       "obama         331\n",
       "president     326\n",
       "think         313\n",
       "trump         302\n",
       "even          260\n",
       "going         254\n",
       "really        244\n",
       "campaign      228\n",
       "know          198\n",
       "vote          185\n",
       "support       184\n",
       "party         183\n",
       "want          181\n",
       "government    175\n",
       "black         173\n",
       "could         172\n",
       "political     170\n",
       "http          168\n",
       "much          166\n",
       "article       166\n",
       "well          161\n",
       "also          160\n",
       "many          160\n",
       "             ... \n",
       "point         101\n",
       "white         101\n",
       "things        100\n",
       "last           99\n",
       "pretty         98\n",
       "saying         98\n",
       "better         97\n",
       "system         95\n",
       "world          93\n",
       "nevada         92\n",
       "wants          92\n",
       "media          91\n",
       "voter          91\n",
       "democratic     91\n",
       "since          90\n",
       "believe        89\n",
       "banks          89\n",
       "getting        89\n",
       "real           88\n",
       "another        87\n",
       "insurance      85\n",
       "thought        84\n",
       "come           83\n",
       "https          83\n",
       "never          83\n",
       "nominee        82\n",
       "federal        81\n",
       "love           81\n",
       "probably       80\n",
       "everyone       80\n",
       "Length: 100, dtype: int64"
      ]
     },
     "execution_count": 202,
     "metadata": {},
     "output_type": "execute_result"
    }
   ],
   "source": [
    "maxFreq"
   ]
  },
  {
   "cell_type": "markdown",
   "metadata": {},
   "source": [
    "##### Lets see which are the rare words"
   ]
  },
  {
   "cell_type": "code",
   "execution_count": 106,
   "metadata": {},
   "outputs": [],
   "source": [
    "freq = pd.Series(' '.join(news.Text).split()).value_counts()[-10:]"
   ]
  },
  {
   "cell_type": "code",
   "execution_count": 107,
   "metadata": {},
   "outputs": [
    {
     "data": {
      "text/plain": [
       "hastert        1\n",
       "doublespeak    1\n",
       "lend           1\n",
       "hearts         1\n",
       "laura          1\n",
       "demagogues     1\n",
       "gotcha         1\n",
       "plummets       1\n",
       "accounting     1\n",
       "originality    1\n",
       "dtype: int64"
      ]
     },
     "execution_count": 107,
     "metadata": {},
     "output_type": "execute_result"
    }
   ],
   "source": [
    "freq"
   ]
  },
  {
   "cell_type": "markdown",
   "metadata": {},
   "source": [
    "#### Doing Lemmatization"
   ]
  },
  {
   "cell_type": "code",
   "execution_count": 203,
   "metadata": {},
   "outputs": [
    {
     "data": {
      "text/plain": [
       "0    disclaimer think obama nominate someone senate...\n",
       "2    either process dragged election vote senate wo...\n",
       "3    republican always battled severe case selectiv...\n",
       "4    politics different back people side least pret...\n",
       "5    equally ridiculous 1970 review article mcconne...\n",
       "Name: Text, dtype: object"
      ]
     },
     "execution_count": 203,
     "metadata": {},
     "output_type": "execute_result"
    }
   ],
   "source": [
    "news.Text = news.Text.apply(lambda x: \" \".join([Word(word).lemmatize() for word in x.split()]))\n",
    "news.Text.head()"
   ]
  },
  {
   "cell_type": "markdown",
   "metadata": {},
   "source": [
    "#### Generate a word cloud here"
   ]
  },
  {
   "cell_type": "code",
   "execution_count": 257,
   "metadata": {},
   "outputs": [],
   "source": [
    "def generate_wordcloud(text): \n",
    "    wordcloud = WordCloud(font_path='/Library/Fonts/Verdana.ttf',\n",
    "                          relative_scaling = 1.0,\n",
    "                          stopwords = {'to', 'of'} \n",
    "                          ).generate(text)\n",
    "    plt.imshow(wordcloud)\n",
    "    plt.axis(\"off\")\n",
    "    plt.show()"
   ]
  },
  {
   "cell_type": "code",
   "execution_count": 29,
   "metadata": {},
   "outputs": [
    {
     "data": {
      "text/plain": [
       "'either process dragged election vote senate would rather gamble 2016 least decency inform everyone exactly time around'"
      ]
     },
     "execution_count": 29,
     "metadata": {},
     "output_type": "execute_result"
    }
   ],
   "source": [
    "wordCloudStringData = news.iloc[1,0]\n",
    "wordCloudStringData"
   ]
  },
  {
   "cell_type": "code",
   "execution_count": 30,
   "metadata": {},
   "outputs": [],
   "source": [
    "# append to this string \n",
    "for i in range(2,len(news)):\n",
    "    wordCloudStringData = wordCloudStringData + news.iloc[i,0]"
   ]
  },
  {
   "cell_type": "code",
   "execution_count": 31,
   "metadata": {},
   "outputs": [
    {
     "data": {
      "image/png": "[encoded data removed]",
      "text/plain": [
       "<matplotlib.figure.Figure at 0x1a2ed73198>"
      ]
     },
     "metadata": {},
     "output_type": "display_data"
    }
   ],
   "source": [
    "generate_wordcloud(wordCloudStringData)\n",
    "#### would is coming "
   ]
  },
  {
   "cell_type": "markdown",
   "metadata": {},
   "source": [
    "## Topic Modelling"
   ]
  },
  {
   "cell_type": "code",
   "execution_count": 461,
   "metadata": {},
   "outputs": [],
   "source": [
    "import re\n",
    "import numpy as np\n",
    "import pandas as pd\n",
    "from pprint import pprint\n",
    "\n",
    "# Gensim\n",
    "import gensim\n",
    "import gensim.corpora as corpora\n",
    "from gensim.utils import simple_preprocess\n",
    "from gensim.models import CoherenceModel\n",
    "\n",
    "# spacy for lemmatization\n",
    "import spacy\n",
    "\n",
    "# Plotting tools\n",
    "import pyLDAvis\n",
    "import pyLDAvis.gensim  # don't skip this\n",
    "import matplotlib.pyplot as plt\n",
    "%matplotlib inline\n",
    "\n",
    "# Enable logging for gensim - optional\n",
    "import logging\n",
    "logging.basicConfig(format='%(asctime)s : %(levelname)s : %(message)s', level=logging.ERROR)\n",
    "\n",
    "import warnings\n",
    "warnings.filterwarnings(\"ignore\",category=DeprecationWarning)"
   ]
  },
  {
   "cell_type": "code",
   "execution_count": 462,
   "metadata": {},
   "outputs": [],
   "source": [
    "# NLTK Stop words\n",
    "from nltk.corpus import stopwords\n",
    "stop_words = stopwords.words('english')\n",
    "stop_words.extend(['from', 'subject', 're', 'edu', 'use'])"
   ]
  },
  {
   "cell_type": "code",
   "execution_count": 463,
   "metadata": {},
   "outputs": [
    {
     "data": {
      "text/html": [
       "<div>\n",
       "<style scoped>\n",
       "    .dataframe tbody tr th:only-of-type {\n",
       "        vertical-align: middle;\n",
       "    }\n",
       "\n",
       "    .dataframe tbody tr th {\n",
       "        vertical-align: top;\n",
       "    }\n",
       "\n",
       "    .dataframe thead th {\n",
       "        text-align: right;\n",
       "    }\n",
       "</style>\n",
       "<table border=\"1\" class=\"dataframe\">\n",
       "  <thead>\n",
       "    <tr style=\"text-align: right;\">\n",
       "      <th></th>\n",
       "      <th>Text</th>\n",
       "    </tr>\n",
       "  </thead>\n",
       "  <tbody>\n",
       "    <tr>\n",
       "      <th>0</th>\n",
       "      <td>disclaimer think obama nominate someone senate...</td>\n",
       "    </tr>\n",
       "    <tr>\n",
       "      <th>2</th>\n",
       "      <td>either process dragged election vote senate wo...</td>\n",
       "    </tr>\n",
       "    <tr>\n",
       "      <th>3</th>\n",
       "      <td>republican always battled severe case selectiv...</td>\n",
       "    </tr>\n",
       "    <tr>\n",
       "      <th>4</th>\n",
       "      <td>politics different back people side least pret...</td>\n",
       "    </tr>\n",
       "    <tr>\n",
       "      <th>5</th>\n",
       "      <td>equally ridiculous 1970 review article mcconne...</td>\n",
       "    </tr>\n",
       "  </tbody>\n",
       "</table>\n",
       "</div>"
      ],
      "text/plain": [
       "                                                Text\n",
       "0  disclaimer think obama nominate someone senate...\n",
       "2  either process dragged election vote senate wo...\n",
       "3  republican always battled severe case selectiv...\n",
       "4  politics different back people side least pret...\n",
       "5  equally ridiculous 1970 review article mcconne..."
      ]
     },
     "execution_count": 463,
     "metadata": {},
     "output_type": "execute_result"
    }
   ],
   "source": [
    "# Import Dataset\n",
    "df = news.Text.to_frame()\n",
    "df.head()"
   ]
  },
  {
   "cell_type": "code",
   "execution_count": 464,
   "metadata": {},
   "outputs": [
    {
     "data": {
      "text/plain": [
       "pandas.core.frame.DataFrame"
      ]
     },
     "execution_count": 464,
     "metadata": {},
     "output_type": "execute_result"
    }
   ],
   "source": [
    "type(df)"
   ]
  },
  {
   "cell_type": "code",
   "execution_count": 465,
   "metadata": {},
   "outputs": [
    {
     "name": "stdout",
     "output_type": "stream",
     "text": [
      "[['disclaimer think obama nominate someone senate hold confirmation hearing '\n",
      "  'article accurately describe republican statement issue vast majority '\n",
      "  'republican statement although notably cruz cited article carefully phrase '\n",
      "  'issue whether nominee nominated confirmed president last year office '\n",
      "  'although kennedy confirmed 1988 nominated reagan 1987 fall definition']]\n"
     ]
    }
   ],
   "source": [
    "# Convert to list\n",
    "data = df.values.tolist()\n",
    "\n",
    "pprint(data[:1])"
   ]
  },
  {
   "cell_type": "code",
   "execution_count": 466,
   "metadata": {},
   "outputs": [
    {
     "name": "stdout",
     "output_type": "stream",
     "text": [
      "[['disclaimer', 'think', 'obama', 'nominate', 'someone', 'senate', 'hold', 'confirmation', 'hearing', 'article', 'accurately', 'describe', 'republican', 'statement', 'issue', 'vast', 'majority', 'republican', 'statement', 'although', 'notably', 'cruz', 'cited', 'article', 'carefully', 'phrase', 'issue', 'whether', 'nominee', 'nominated', 'confirmed', 'president', 'last', 'year', 'office', 'although', 'kennedy', 'confirmed', 'nominated', 'reagan', 'fall', 'definition']]\n"
     ]
    }
   ],
   "source": [
    "def sent_to_words(sentences):\n",
    "    for sentence in sentences:\n",
    "        yield(gensim.utils.simple_preprocess(str(sentence), deacc=True))  # deacc=True removes punctuations\n",
    "\n",
    "data_words = list(sent_to_words(data))\n",
    "\n",
    "print(data_words[:1])"
   ]
  },
  {
   "cell_type": "code",
   "execution_count": 467,
   "metadata": {},
   "outputs": [
    {
     "name": "stderr",
     "output_type": "stream",
     "text": [
      "/anaconda3/lib/python3.6/site-packages/gensim/models/phrases.py:598: UserWarning: For a faster implementation, use the gensim.models.phrases.Phraser class\n",
      "  warnings.warn(\"For a faster implementation, use the gensim.models.phrases.Phraser class\")\n"
     ]
    },
    {
     "name": "stdout",
     "output_type": "stream",
     "text": [
      "['either', 'process', 'dragged', 'election', 'vote', 'senate', 'would', 'rather', 'gamble', 'least', 'decency', 'inform', 'everyone', 'exactly', 'time', 'around']\n"
     ]
    }
   ],
   "source": [
    "# Build the bigram and trigram models\n",
    "bigram = gensim.models.Phrases(data_words, min_count=5, threshold=100) # higher threshold fewer phrases.\n",
    "trigram = gensim.models.Phrases(bigram[data_words], threshold=100)  \n",
    "\n",
    "# Faster way to get a sentence clubbed as a trigram/bigram\n",
    "bigram_mod = gensim.models.phrases.Phraser(bigram)\n",
    "trigram_mod = gensim.models.phrases.Phraser(trigram)\n",
    "\n",
    "# See trigram example\n",
    "print(trigram_mod[bigram_mod[data_words[1]]])"
   ]
  },
  {
   "cell_type": "code",
   "execution_count": 468,
   "metadata": {},
   "outputs": [],
   "source": [
    "# Define functions for stopwords, bigrams, trigrams and lemmatization\n",
    "def remove_stopwords(texts):\n",
    "    return [[word for word in simple_preprocess(str(doc)) if word not in stop_words] for doc in texts]\n",
    "\n",
    "def make_bigrams(texts):\n",
    "    return [bigram_mod[doc] for doc in texts]\n",
    "\n",
    "def make_trigrams(texts):\n",
    "    return [trigram_mod[bigram_mod[doc]] for doc in texts]\n",
    "\n",
    "def lemmatization(texts, allowed_postags=['NOUN', 'ADJ', 'VERB', 'ADV']):\n",
    "    \"\"\"https://spacy.io/api/annotation\"\"\"\n",
    "    texts_out = []\n",
    "    for sent in texts:\n",
    "        doc = nlp(\" \".join(sent)) \n",
    "        texts_out.append([token.lemma_ for token in doc if token.pos_ in allowed_postags])\n",
    "    return texts_out"
   ]
  },
  {
   "cell_type": "code",
   "execution_count": 469,
   "metadata": {},
   "outputs": [
    {
     "name": "stdout",
     "output_type": "stream",
     "text": [
      "[['disclaimer', 'think', 'obama', 'nominate', 'someone', 'senate', 'hold', 'confirmation', 'hearing', 'article', 'accurately', 'describe', 'republican', 'statement', 'issue', 'vast', 'majority', 'republican', 'statement', 'notably', 'cruz', 'cite', 'article', 'carefully', 'phrase', 'issue', 'nominee', 'nominate', 'confirm', 'president', 'last', 'year', 'office', 'kennedy', 'confirm', 'nominate', 'reagan', 'fall', 'definition']]\n"
     ]
    }
   ],
   "source": [
    "\n",
    "# Form Bigrams\n",
    "data_words_bigrams = make_bigrams(data_words_nostops)\n",
    "\n",
    "# Initialize spacy 'en' model, keeping only tagger component (for efficiency)\n",
    "# python3 -m spacy download en\n",
    "nlp = spacy.load('en', disable=['parser', 'ner'])\n",
    "\n",
    "# Do lemmatization keeping only noun, adj, vb, adv\n",
    "data_lemmatized = lemmatization(data_words_bigrams, allowed_postags=['NOUN', 'ADJ', 'VERB', 'ADV'])\n",
    "\n",
    "print(data_lemmatized[:1])"
   ]
  },
  {
   "cell_type": "code",
   "execution_count": null,
   "metadata": {},
   "outputs": [],
   "source": [
    "# Create Dictionary\n",
    "id2word = corpora.Dictionary(data_lemmatized)\n",
    "\n",
    "# Create Corpus\n",
    "texts = data_lemmatized\n",
    "\n",
    "# Term Document Frequency\n",
    "corpus = [id2word.doc2bow(text) for text in texts]\n",
    "\n",
    "# View\n",
    "print(corpus[:1])"
   ]
  },
  {
   "cell_type": "code",
   "execution_count": 470,
   "metadata": {},
   "outputs": [],
   "source": [
    "# Build LDA model\n",
    "lda_model = gensim.models.ldamodel.LdaModel(corpus=corpus,\n",
    "                                           id2word=id2word,\n",
    "                                           num_topics=20, \n",
    "                                           random_state=100,\n",
    "                                           update_every=1,\n",
    "                                           chunksize=100,\n",
    "                                           passes=10,\n",
    "                                           alpha='auto',\n",
    "                                           per_word_topics=True)"
   ]
  },
  {
   "cell_type": "code",
   "execution_count": 471,
   "metadata": {},
   "outputs": [
    {
     "name": "stdout",
     "output_type": "stream",
     "text": [
      "[(0,\n",
      "  '0.070*\"come\" + 0.042*\"feel\" + 0.041*\"bill\" + 0.027*\"email\" + '\n",
      "  '0.027*\"current\" + 0.023*\"base\" + 0.021*\"hell\" + 0.018*\"miss\" + '\n",
      "  '0.018*\"still\" + 0.017*\"industry\"'),\n",
      " (1,\n",
      "  '0.117*\"clinton\" + 0.107*\"campaign\" + 0.061*\"candidate\" + 0.047*\"political\" '\n",
      "  '+ 0.035*\"bush\" + 0.028*\"america\" + 0.027*\"much\" + 0.023*\"close\" + '\n",
      "  '0.022*\"american\" + 0.021*\"show\"'),\n",
      " (2,\n",
      "  '0.107*\"say\" + 0.084*\"vote\" + 0.083*\"make\" + 0.043*\"party\" + 0.034*\"justice\" '\n",
      "  '+ 0.029*\"thing\" + 0.026*\"hear\" + 0.026*\"scalia\" + 0.023*\"insurance\" + '\n",
      "  '0.021*\"leave\"'),\n",
      " (3,\n",
      "  '0.141*\"woman\" + 0.059*\"well\" + 0.044*\"may\" + 0.040*\"plan\" + 0.037*\"post\" + '\n",
      "  '0.037*\"white\" + 0.035*\"nonhispanic\" + 0.017*\"course\" + 0.015*\"trust\" + '\n",
      "  '0.013*\"running\"'),\n",
      " (4,\n",
      "  '0.054*\"abortion\" + 0.030*\"would\" + 0.026*\"fact\" + 0.022*\"week\" + '\n",
      "  '0.021*\"racism\" + 0.021*\"name\" + 0.021*\"play\" + 0.020*\"argument\" + '\n",
      "  '0.018*\"hour\" + 0.018*\"rather\"'),\n",
      " (5,\n",
      "  '0.036*\"change\" + 0.036*\"love\" + 0.035*\"tell\" + 0.032*\"reason\" + '\n",
      "  '0.031*\"court\" + 0.029*\"try\" + 0.029*\"free\" + 0.028*\"decide\" + '\n",
      "  '0.028*\"democrat\" + 0.028*\"pick\"'),\n",
      " (6,\n",
      "  '0.060*\"world\" + 0.057*\"real\" + 0.053*\"life\" + 0.051*\"never\" + 0.048*\"power\" '\n",
      "  '+ 0.037*\"live\" + 0.032*\"attack\" + 0.028*\"maybe\" + 0.028*\"carson\" + '\n",
      "  '0.026*\"agenda\"'),\n",
      " (7,\n",
      "  '0.065*\"would\" + 0.056*\"think\" + 0.047*\"president\" + 0.038*\"obama\" + '\n",
      "  '0.035*\"year\" + 0.033*\"go\" + 0.023*\"election\" + 0.022*\"supporter\" + '\n",
      "  '0.021*\"could\" + 0.021*\"republican\"'),\n",
      " (8,\n",
      "  '0.087*\"government\" + 0.065*\"look\" + 0.053*\"fuck\" + 0.039*\"federal\" + '\n",
      "  '0.035*\"policy\" + 0.031*\"mind\" + 0.028*\"congress\" + 0.028*\"else\" + '\n",
      "  '0.025*\"political\" + 0.018*\"kind\"'),\n",
      " (9,\n",
      "  '0.073*\"want\" + 0.071*\"trump\" + 0.058*\"get\" + 0.025*\"become\" + 0.023*\"great\" '\n",
      "  '+ 0.022*\"away\" + 0.019*\"american\" + 0.018*\"little\" + 0.016*\"job\" + '\n",
      "  '0.014*\"happy\"'),\n",
      " (10,\n",
      "  '0.051*\"point\" + 0.038*\"do\" + 0.032*\"http\" + 0.030*\"give\" + 0.028*\"idea\" + '\n",
      "  '0.022*\"trump\" + 0.021*\"not\" + 0.020*\"pretty\" + 0.019*\"population\" + '\n",
      "  '0.018*\"video\"'),\n",
      " (11,\n",
      "  '0.099*\"people\" + 0.039*\"know\" + 0.039*\"good\" + 0.031*\"country\" + '\n",
      "  '0.021*\"problem\" + 0.020*\"bank\" + 0.017*\"shit\" + 0.014*\"care\" + 0.013*\"also\" '\n",
      "  '+ 0.012*\"suppose\"'),\n",
      " (12,\n",
      "  '0.064*\"thing\" + 0.053*\"person\" + 0.039*\"sure\" + 0.031*\"exactly\" + '\n",
      "  '0.030*\"voting\" + 0.025*\"wrong\" + 0.023*\"moderate\" + 0.023*\"revolution\" + '\n",
      "  '0.020*\"south\" + 0.020*\"guy\"'),\n",
      " (13,\n",
      "  '0.078*\"voter\" + 0.041*\"democratic\" + 0.035*\"flint\" + 0.035*\"see\" + '\n",
      "  '0.029*\"record\" + 0.029*\"turn\" + 0.024*\"give\" + 0.023*\"primary\" + '\n",
      "  '0.021*\"much\" + 0.020*\"vote\"'),\n",
      " (14,\n",
      "  '0.051*\"right\" + 0.036*\"call\" + 0.035*\"money\" + 0.032*\"use\" + '\n",
      "  '0.031*\"believe\" + 0.030*\"everyone\" + 0.024*\"pay\" + 0.022*\"trump\" + '\n",
      "  '0.021*\"lead\" + 0.020*\"bring\"'),\n",
      " (15,\n",
      "  '0.055*\"article\" + 0.053*\"nevada\" + 0.039*\"probably\" + 0.037*\"read\" + '\n",
      "  '0.021*\"take\" + 0.020*\"second\" + 0.017*\"also\" + 0.015*\"illinois\" + '\n",
      "  '0.014*\"continuous_quote\" + 0.013*\"endorse\"'),\n",
      " (16,\n",
      "  '0.089*\"http\" + 0.080*\"need\" + 0.046*\"speak\" + 0.037*\"rally\" + '\n",
      "  '0.020*\"healthcare\" + 0.019*\"bern\" + 0.015*\"moment\" + 0.014*\"random\" + '\n",
      "  '0.014*\"interested\" + 0.013*\"amazing\"'),\n",
      " (17,\n",
      "  '0.080*\"black\" + 0.020*\"percent\" + 0.016*\"racial\" + 0.016*\"able\" + '\n",
      "  '0.015*\"racism_sexism\" + 0.015*\"datum\" + 0.013*\"allow\" + 0.013*\"dislike\" + '\n",
      "  '0.013*\"move\" + 0.012*\"millennial\"'),\n",
      " (18,\n",
      "  '0.152*\"sander\" + 0.147*\"bernie\" + 0.109*\"hillary\" + 0.072*\"support\" + '\n",
      "  '0.019*\"article\" + 0.018*\"headline\" + 0.016*\"platform\" + 0.016*\"win\" + '\n",
      "  '0.015*\"news\" + 0.013*\"hate\"'),\n",
      " (19,\n",
      "  '0.087*\"even\" + 0.073*\"really\" + 0.056*\"state\" + 0.056*\"many\" + '\n",
      "  '0.038*\"break\" + 0.038*\"back\" + 0.032*\"something\" + 0.032*\"mean\" + '\n",
      "  '0.028*\"poll\" + 0.027*\"system\"')]\n"
     ]
    }
   ],
   "source": [
    "# Print the Keyword in the 20 topics\n",
    "pprint(lda_model.print_topics())\n",
    "doc_lda = lda_model[corpus]"
   ]
  },
  {
   "cell_type": "code",
   "execution_count": 472,
   "metadata": {},
   "outputs": [
    {
     "name": "stdout",
     "output_type": "stream",
     "text": [
      "\n",
      "Perplexity:  -7.65260790673157\n",
      "\n",
      "Coherence Score:  0.4234693187328209\n"
     ]
    }
   ],
   "source": [
    "# Compute Perplexity\n",
    "print('\\nPerplexity: ', lda_model.log_perplexity(corpus))  # a measure of how good the model is. lower the better.\n",
    "\n",
    "# Compute Coherence Score\n",
    "coherence_model_lda = CoherenceModel(model=lda_model, texts=data_lemmatized, dictionary=id2word, coherence='c_v')\n",
    "coherence_lda = coherence_model_lda.get_coherence()\n",
    "print('\\nCoherence Score: ', coherence_lda)\n",
    "\n",
    "## Coherence can be used to find the most optimum number of topics"
   ]
  },
  {
   "cell_type": "code",
   "execution_count": 473,
   "metadata": {},
   "outputs": [
    {
     "data": {
      "text/html": [
       "\n",
       "<link rel=\"stylesheet\" type=\"text/css\" href=\"https://cdn.rawgit.com/bmabey/pyLDAvis/files/ldavis.v1.0.0.css\">\n",
       "\n",
       "\n",
       "<div id=\"ldavis_el821861122498010085091665199\"></div>\n",
       "<script type=\"text/javascript\">\n",
       "\n",
       "var ldavis_el821861122498010085091665199_data = {\"mdsDat\": {\"Freq\": [13.874096870422363, 10.720253944396973, 6.443686008453369, 5.517879962921143, 5.366857051849365, 5.360128402709961, 5.359236240386963, 5.19931697845459, 5.151007175445557, 4.661749839782715, 3.8871355056762695, 3.661806106567383, 3.5437703132629395, 3.500549077987671, 3.4360125064849854, 3.1580052375793457, 2.8862476348876953, 2.864945650100708, 2.8231923580169678, 2.5841221809387207], \"cluster\": [1, 1, 1, 1, 1, 1, 1, 1, 1, 1, 1, 1, 1, 1, 1, 1, 1, 1, 1, 1], \"topics\": [1, 2, 3, 4, 5, 6, 7, 8, 9, 10, 11, 12, 13, 14, 15, 16, 17, 18, 19, 20], \"x\": [-0.3209278726613586, -0.10506888071600487, -0.16794649580767462, 0.11479163558000244, 0.03437958718352871, -0.12442591620022198, -0.05490569712555306, 0.010053032916198029, 0.0772870780622419, 0.10096793479287453, -0.0935689052380257, 0.04634811346656326, 0.10244164864179886, 0.021691783526759382, 0.013530242170053578, 0.134122132032557, 0.09292161593702847, 0.07717912259851571, -0.016005862902438304, 0.05713570374315539], \"y\": [-0.06161433669433411, 0.04189396359889717, 0.13985661017313802, 0.028435238197630913, 0.17409673989077196, 0.004781242255917912, -0.17071003061985268, -0.10058188176250714, 0.0888190624341063, -0.2346080405582039, 0.04210725511113756, 0.08203186017149236, -0.021404054426455408, -0.18212015601590248, -0.027967856821327304, 0.08940735073000217, 0.0741195913510166, -0.09371066225596969, 0.0591906692433219, 0.06797743599712039]}, \"tinfo\": {\"Category\": [\"Default\", \"Default\", \"Default\", \"Default\", \"Default\", \"Default\", \"Default\", \"Default\", \"Default\", \"Default\", \"Default\", \"Default\", \"Default\", \"Default\", \"Default\", \"Default\", \"Default\", \"Default\", \"Default\", \"Default\", \"Default\", \"Default\", \"Default\", \"Default\", \"Default\", \"Default\", \"Default\", \"Default\", \"Default\", \"Default\", \"Topic1\", \"Topic1\", \"Topic1\", \"Topic1\", \"Topic1\", \"Topic1\", \"Topic1\", \"Topic1\", \"Topic1\", \"Topic1\", \"Topic1\", \"Topic1\", \"Topic1\", \"Topic1\", \"Topic1\", \"Topic1\", \"Topic1\", \"Topic1\", \"Topic1\", \"Topic1\", \"Topic1\", \"Topic1\", \"Topic1\", \"Topic1\", \"Topic1\", \"Topic1\", \"Topic1\", \"Topic1\", \"Topic1\", \"Topic1\", \"Topic1\", \"Topic1\", \"Topic1\", \"Topic1\", \"Topic1\", \"Topic1\", \"Topic1\", \"Topic1\", \"Topic1\", \"Topic1\", \"Topic1\", \"Topic1\", \"Topic1\", \"Topic1\", \"Topic2\", \"Topic2\", \"Topic2\", \"Topic2\", \"Topic2\", \"Topic2\", \"Topic2\", \"Topic2\", \"Topic2\", \"Topic2\", \"Topic2\", \"Topic2\", \"Topic2\", \"Topic2\", \"Topic2\", \"Topic2\", \"Topic2\", \"Topic2\", \"Topic2\", \"Topic2\", \"Topic2\", \"Topic2\", \"Topic2\", \"Topic2\", \"Topic2\", \"Topic2\", \"Topic2\", \"Topic2\", \"Topic2\", \"Topic2\", \"Topic2\", \"Topic2\", \"Topic2\", \"Topic2\", \"Topic2\", \"Topic2\", \"Topic3\", \"Topic3\", \"Topic3\", \"Topic3\", \"Topic3\", \"Topic3\", \"Topic3\", \"Topic3\", \"Topic3\", \"Topic3\", \"Topic3\", \"Topic3\", \"Topic3\", \"Topic3\", \"Topic3\", \"Topic3\", \"Topic3\", \"Topic3\", \"Topic3\", \"Topic3\", \"Topic3\", \"Topic3\", \"Topic3\", \"Topic3\", \"Topic3\", \"Topic3\", \"Topic3\", \"Topic3\", \"Topic3\", \"Topic3\", \"Topic3\", \"Topic3\", \"Topic3\", \"Topic3\", \"Topic3\", \"Topic4\", \"Topic4\", \"Topic4\", \"Topic4\", \"Topic4\", \"Topic4\", \"Topic4\", \"Topic4\", \"Topic4\", \"Topic4\", \"Topic4\", \"Topic4\", \"Topic4\", \"Topic4\", \"Topic4\", \"Topic4\", \"Topic4\", \"Topic4\", \"Topic4\", \"Topic4\", \"Topic4\", \"Topic4\", \"Topic4\", \"Topic4\", \"Topic4\", \"Topic4\", \"Topic4\", \"Topic4\", \"Topic4\", \"Topic4\", \"Topic4\", \"Topic4\", \"Topic4\", \"Topic4\", \"Topic4\", \"Topic4\", \"Topic4\", \"Topic4\", \"Topic4\", \"Topic4\", \"Topic4\", \"Topic5\", \"Topic5\", \"Topic5\", \"Topic5\", \"Topic5\", \"Topic5\", \"Topic5\", \"Topic5\", \"Topic5\", \"Topic5\", \"Topic5\", \"Topic5\", \"Topic5\", \"Topic5\", \"Topic5\", \"Topic5\", \"Topic5\", \"Topic5\", \"Topic5\", \"Topic5\", \"Topic5\", \"Topic5\", \"Topic5\", \"Topic5\", \"Topic5\", \"Topic5\", \"Topic5\", \"Topic5\", \"Topic5\", \"Topic5\", \"Topic5\", \"Topic5\", \"Topic5\", \"Topic5\", \"Topic6\", \"Topic6\", \"Topic6\", \"Topic6\", \"Topic6\", \"Topic6\", \"Topic6\", \"Topic6\", \"Topic6\", \"Topic6\", \"Topic6\", \"Topic6\", \"Topic6\", \"Topic6\", \"Topic6\", \"Topic6\", \"Topic6\", \"Topic6\", \"Topic6\", \"Topic6\", \"Topic6\", \"Topic6\", \"Topic6\", \"Topic6\", \"Topic6\", \"Topic6\", \"Topic6\", \"Topic6\", \"Topic6\", \"Topic6\", \"Topic6\", \"Topic6\", \"Topic6\", \"Topic6\", \"Topic6\", \"Topic6\", \"Topic6\", \"Topic6\", \"Topic6\", \"Topic7\", \"Topic7\", \"Topic7\", \"Topic7\", \"Topic7\", \"Topic7\", \"Topic7\", \"Topic7\", \"Topic7\", \"Topic7\", \"Topic7\", \"Topic7\", \"Topic7\", \"Topic7\", \"Topic7\", \"Topic7\", \"Topic7\", \"Topic7\", \"Topic7\", \"Topic7\", \"Topic7\", \"Topic7\", \"Topic7\", \"Topic7\", \"Topic7\", \"Topic7\", \"Topic7\", \"Topic7\", \"Topic7\", \"Topic7\", \"Topic7\", \"Topic7\", \"Topic7\", \"Topic7\", \"Topic7\", \"Topic7\", \"Topic7\", \"Topic7\", \"Topic7\", \"Topic7\", \"Topic7\", \"Topic7\", \"Topic7\", \"Topic8\", \"Topic8\", \"Topic8\", \"Topic8\", \"Topic8\", \"Topic8\", \"Topic8\", \"Topic8\", \"Topic8\", \"Topic8\", \"Topic8\", \"Topic8\", \"Topic8\", \"Topic8\", \"Topic8\", \"Topic8\", \"Topic8\", \"Topic8\", \"Topic8\", \"Topic8\", \"Topic8\", \"Topic8\", \"Topic8\", \"Topic8\", \"Topic8\", \"Topic8\", \"Topic8\", \"Topic8\", \"Topic8\", \"Topic8\", \"Topic8\", \"Topic8\", \"Topic8\", \"Topic8\", \"Topic8\", \"Topic8\", \"Topic9\", \"Topic9\", \"Topic9\", \"Topic9\", \"Topic9\", \"Topic9\", \"Topic9\", \"Topic9\", \"Topic9\", \"Topic9\", \"Topic9\", \"Topic9\", \"Topic9\", \"Topic9\", \"Topic9\", \"Topic9\", \"Topic9\", \"Topic9\", \"Topic9\", \"Topic9\", \"Topic9\", \"Topic9\", \"Topic9\", \"Topic9\", \"Topic9\", \"Topic9\", \"Topic9\", \"Topic9\", \"Topic9\", \"Topic9\", \"Topic9\", \"Topic9\", \"Topic9\", \"Topic9\", \"Topic10\", \"Topic10\", \"Topic10\", \"Topic10\", \"Topic10\", \"Topic10\", \"Topic10\", \"Topic10\", \"Topic10\", \"Topic10\", \"Topic10\", \"Topic10\", \"Topic10\", \"Topic10\", \"Topic10\", \"Topic10\", \"Topic10\", \"Topic10\", \"Topic10\", \"Topic10\", \"Topic10\", \"Topic10\", \"Topic10\", \"Topic10\", \"Topic10\", \"Topic10\", \"Topic10\", \"Topic10\", \"Topic10\", \"Topic10\", \"Topic10\", \"Topic10\", \"Topic10\", \"Topic10\", \"Topic10\", \"Topic10\", \"Topic10\", \"Topic10\", \"Topic10\", \"Topic10\", \"Topic11\", \"Topic11\", \"Topic11\", \"Topic11\", \"Topic11\", \"Topic11\", \"Topic11\", \"Topic11\", \"Topic11\", \"Topic11\", \"Topic11\", \"Topic11\", \"Topic11\", \"Topic11\", \"Topic11\", \"Topic11\", \"Topic11\", \"Topic11\", \"Topic11\", \"Topic11\", \"Topic11\", \"Topic11\", \"Topic11\", \"Topic11\", \"Topic11\", \"Topic11\", \"Topic11\", \"Topic11\", \"Topic11\", \"Topic11\", \"Topic11\", \"Topic11\", \"Topic11\", \"Topic11\", \"Topic12\", \"Topic12\", \"Topic12\", \"Topic12\", \"Topic12\", \"Topic12\", \"Topic12\", \"Topic12\", \"Topic12\", \"Topic12\", \"Topic12\", \"Topic12\", \"Topic12\", \"Topic12\", \"Topic12\", \"Topic12\", \"Topic12\", \"Topic12\", \"Topic12\", \"Topic12\", \"Topic12\", \"Topic12\", \"Topic12\", \"Topic12\", \"Topic12\", \"Topic12\", \"Topic12\", \"Topic12\", \"Topic12\", \"Topic12\", \"Topic12\", \"Topic12\", \"Topic13\", \"Topic13\", \"Topic13\", \"Topic13\", \"Topic13\", \"Topic13\", \"Topic13\", \"Topic13\", \"Topic13\", \"Topic13\", \"Topic13\", \"Topic13\", \"Topic13\", \"Topic13\", \"Topic13\", \"Topic13\", \"Topic13\", \"Topic13\", \"Topic13\", \"Topic13\", \"Topic13\", \"Topic13\", \"Topic13\", \"Topic13\", \"Topic13\", \"Topic13\", \"Topic13\", \"Topic13\", \"Topic13\", \"Topic13\", \"Topic13\", \"Topic13\", \"Topic13\", \"Topic13\", \"Topic13\", \"Topic13\", \"Topic13\", \"Topic14\", \"Topic14\", \"Topic14\", \"Topic14\", \"Topic14\", \"Topic14\", \"Topic14\", \"Topic14\", \"Topic14\", \"Topic14\", \"Topic14\", \"Topic14\", \"Topic14\", \"Topic14\", \"Topic14\", \"Topic14\", \"Topic14\", \"Topic14\", \"Topic14\", \"Topic14\", \"Topic14\", \"Topic14\", \"Topic14\", \"Topic14\", \"Topic14\", \"Topic14\", \"Topic14\", \"Topic14\", \"Topic14\", \"Topic14\", \"Topic14\", \"Topic14\", \"Topic14\", \"Topic14\", \"Topic14\", \"Topic14\", \"Topic14\", \"Topic15\", \"Topic15\", \"Topic15\", \"Topic15\", \"Topic15\", \"Topic15\", \"Topic15\", \"Topic15\", \"Topic15\", \"Topic15\", \"Topic15\", \"Topic15\", \"Topic15\", \"Topic15\", \"Topic15\", \"Topic15\", \"Topic15\", \"Topic15\", \"Topic15\", \"Topic15\", \"Topic15\", \"Topic15\", \"Topic15\", \"Topic15\", \"Topic15\", \"Topic15\", \"Topic15\", \"Topic15\", \"Topic15\", \"Topic15\", \"Topic15\", \"Topic15\", \"Topic15\", \"Topic16\", \"Topic16\", \"Topic16\", \"Topic16\", \"Topic16\", \"Topic16\", \"Topic16\", \"Topic16\", \"Topic16\", \"Topic16\", \"Topic16\", \"Topic16\", \"Topic16\", \"Topic16\", \"Topic16\", \"Topic16\", \"Topic16\", \"Topic16\", \"Topic16\", \"Topic16\", \"Topic16\", \"Topic16\", \"Topic16\", \"Topic16\", \"Topic16\", \"Topic16\", \"Topic16\", \"Topic16\", \"Topic16\", \"Topic16\", \"Topic16\", \"Topic16\", \"Topic16\", \"Topic16\", \"Topic17\", \"Topic17\", \"Topic17\", \"Topic17\", \"Topic17\", \"Topic17\", \"Topic17\", \"Topic17\", \"Topic17\", \"Topic17\", \"Topic17\", \"Topic17\", \"Topic17\", \"Topic17\", \"Topic17\", \"Topic17\", \"Topic17\", \"Topic17\", \"Topic17\", \"Topic17\", \"Topic17\", \"Topic17\", \"Topic17\", \"Topic17\", \"Topic17\", \"Topic17\", \"Topic17\", \"Topic17\", \"Topic17\", \"Topic17\", \"Topic17\", \"Topic17\", \"Topic18\", \"Topic18\", \"Topic18\", \"Topic18\", \"Topic18\", \"Topic18\", \"Topic18\", \"Topic18\", \"Topic18\", \"Topic18\", \"Topic18\", \"Topic18\", \"Topic18\", \"Topic18\", \"Topic18\", \"Topic18\", \"Topic18\", \"Topic18\", \"Topic18\", \"Topic18\", \"Topic18\", \"Topic18\", \"Topic18\", \"Topic18\", \"Topic18\", \"Topic18\", \"Topic18\", \"Topic18\", \"Topic18\", \"Topic18\", \"Topic18\", \"Topic18\", \"Topic18\", \"Topic18\", \"Topic18\", \"Topic18\", \"Topic19\", \"Topic19\", \"Topic19\", \"Topic19\", \"Topic19\", \"Topic19\", \"Topic19\", \"Topic19\", \"Topic19\", \"Topic19\", \"Topic19\", \"Topic19\", \"Topic19\", \"Topic19\", \"Topic19\", \"Topic19\", \"Topic19\", \"Topic19\", \"Topic19\", \"Topic19\", \"Topic19\", \"Topic19\", \"Topic19\", \"Topic19\", \"Topic19\", \"Topic19\", \"Topic19\", \"Topic19\", \"Topic19\", \"Topic19\", \"Topic19\", \"Topic19\", \"Topic19\", \"Topic19\", \"Topic19\", \"Topic20\", \"Topic20\", \"Topic20\", \"Topic20\", \"Topic20\", \"Topic20\", \"Topic20\", \"Topic20\", \"Topic20\", \"Topic20\", \"Topic20\", \"Topic20\", \"Topic20\", \"Topic20\", \"Topic20\", \"Topic20\", \"Topic20\", \"Topic20\", \"Topic20\", \"Topic20\", \"Topic20\", \"Topic20\", \"Topic20\", \"Topic20\", \"Topic20\", \"Topic20\", \"Topic20\", \"Topic20\", \"Topic20\", \"Topic20\", \"Topic20\", \"Topic20\", \"Topic20\"], \"Freq\": [543.0, 522.0, 588.0, 388.0, 347.0, 359.0, 316.0, 577.0, 438.0, 225.0, 296.0, 280.0, 260.0, 362.0, 255.0, 228.0, 294.0, 225.0, 233.0, 269.0, 288.0, 165.0, 201.0, 271.0, 204.0, 153.0, 233.0, 255.0, 168.0, 212.0, 362.0520324707031, 288.01220703125, 271.1126403808594, 176.95306396484375, 152.9618682861328, 129.1881866455078, 127.62724304199219, 103.90541076660156, 101.60238647460938, 97.06365203857422, 88.74081420898438, 85.80870056152344, 84.32955932617188, 84.22044372558594, 70.3845443725586, 65.82779693603516, 59.06007766723633, 432.62713623046875, 51.660980224609375, 50.13386154174805, 48.17441177368164, 46.66313171386719, 43.71536636352539, 41.377723693847656, 40.46965026855469, 48.099246978759766, 38.06629180908203, 37.089500427246094, 36.95928192138672, 36.923240661621094, 159.3939208984375, 166.93942260742188, 498.03277587890625, 254.08787536621094, 131.50892639160156, 105.25086975097656, 157.9115753173828, 57.00667953491211, 90.00035858154297, 93.55909729003906, 104.51992797851562, 128.20652770996094, 67.19009399414062, 74.61148071289062, 232.31906127929688, 186.1787567138672, 585.9544677734375, 122.5438003540039, 116.8776626586914, 100.55783081054688, 82.19658660888672, 72.02633666992188, 71.587158203125, 62.63325881958008, 62.62986373901367, 62.20187759399414, 61.451087951660156, 50.96980285644531, 42.36614227294922, 41.23965835571289, 41.02735900878906, 40.6547737121582, 39.322174072265625, 37.5443229675293, 37.349002838134766, 37.26248550415039, 36.356475830078125, 36.263328552246094, 34.214290618896484, 32.95689010620117, 32.42005157470703, 31.850961685180664, 30.6356143951416, 30.31108283996582, 232.8235321044922, 63.258323669433594, 42.85927200317383, 62.8199462890625, 74.7176284790039, 48.13405227661133, 522.1837768554688, 387.8160400390625, 255.1087646484375, 540.19580078125, 65.51567840576172, 57.617523193359375, 57.063045501708984, 54.48134994506836, 47.099586486816406, 44.51498031616211, 42.99700927734375, 42.75609588623047, 40.12123489379883, 38.4542350769043, 32.957122802734375, 30.691604614257812, 28.176481246948242, 27.205158233642578, 26.594615936279297, 25.21295738220215, 24.825279235839844, 21.590314865112305, 20.063833236694336, 17.891878128051758, 17.757335662841797, 16.62006187438965, 16.153188705444336, 15.934818267822266, 15.898582458496094, 15.026532173156738, 41.75019836425781, 66.16417694091797, 39.523353576660156, 27.680343627929688, 17.26167869567871, 132.28323364257812, 77.93492126464844, 70.66873931884766, 49.00011444091797, 45.265438079833984, 45.093509674072266, 38.77531051635742, 37.993072509765625, 35.695613861083984, 28.189136505126953, 26.731977462768555, 26.731977462768555, 24.100229263305664, 252.0555877685547, 23.18889617919922, 22.96621322631836, 21.327207565307617, 20.744808197021484, 20.42445945739746, 19.576759338378906, 17.465381622314453, 17.452579498291016, 17.319618225097656, 17.027088165283203, 16.87261199951172, 15.344924926757812, 15.128986358642578, 15.128986358642578, 15.128986358642578, 15.128986358642578, 15.128986358642578, 327.0536804199219, 256.516357421875, 79.18292999267578, 104.67119598388672, 62.52783966064453, 23.552501678466797, 88.72225189208984, 44.36922073364258, 33.9439697265625, 23.132080078125, 167.44561767578125, 164.7823028564453, 113.01022338867188, 111.78959655761719, 95.7461166381836, 95.61571502685547, 82.84391784667969, 70.18252563476562, 69.39562225341797, 69.3782958984375, 60.31958770751953, 54.063865661621094, 46.468284606933594, 46.42021179199219, 40.986663818359375, 37.91072082519531, 35.79008102416992, 35.667606353759766, 31.946340560913086, 31.39142608642578, 28.72457504272461, 24.304096221923828, 23.656017303466797, 23.076562881469727, 22.917757034301758, 22.600820541381836, 22.22735595703125, 21.63255500793457, 19.601362228393555, 18.360841751098633, 217.0101318359375, 259.3405456542969, 57.46823501586914, 78.8195571899414, 106.24186706542969, 105.33334350585938, 102.50968170166016, 93.62703704833984, 91.59322357177734, 85.67545318603516, 82.57393646240234, 82.29637145996094, 75.53401184082031, 68.0849838256836, 66.19417572021484, 63.45877456665039, 59.80131149291992, 55.426734924316406, 45.76105880737305, 43.108604431152344, 41.53916931152344, 33.06412124633789, 31.533430099487305, 31.318220138549805, 25.356124877929688, 25.028976440429688, 83.10472869873047, 23.198352813720703, 22.428552627563477, 21.117841720581055, 19.380414962768555, 17.06867218017578, 16.621240615844727, 15.273885726928711, 54.89076232910156, 45.38441467285156, 86.76524353027344, 46.0860481262207, 34.22642517089844, 24.8536319732666, 31.120553970336914, 28.87653923034668, 28.18722915649414, 346.8288269042969, 315.7757568359375, 102.5774154663086, 68.70642852783203, 54.52883529663086, 47.84739685058594, 45.92946243286133, 36.58382797241211, 33.19183349609375, 32.66976547241211, 30.089195251464844, 27.968673706054688, 25.556699752807617, 25.420082092285156, 20.992490768432617, 19.886201858520508, 19.074861526489258, 18.05267906188965, 17.108732223510742, 17.100444793701172, 16.635738372802734, 16.49102783203125, 16.22922706604004, 16.074880599975586, 15.843134880065918, 15.60039234161377, 15.59166431427002, 15.503996849060059, 15.461913108825684, 13.758532524108887, 181.8728790283203, 82.17731475830078, 140.06178283691406, 81.34597778320312, 62.30733871459961, 65.3969497680664, 21.357013702392578, 32.17224884033203, 46.318992614746094, 32.795284271240234, 21.729673385620117, 20.345474243164062, 19.18245506286621, 147.7979736328125, 102.86083984375, 93.03541564941406, 89.81304168701172, 85.04154205322266, 68.01811218261719, 61.02976608276367, 58.26223373413086, 50.43876647949219, 48.32258605957031, 47.57672119140625, 47.2062873840332, 45.11933517456055, 44.70937728881836, 42.685340881347656, 40.518245697021484, 39.15472412109375, 32.23881530761719, 31.52737808227539, 31.0955753326416, 26.10957908630371, 25.05125617980957, 23.952369689941406, 23.89229965209961, 23.649301528930664, 23.272621154785156, 23.07301902770996, 23.052682876586914, 22.466093063354492, 20.08742332458496, 44.56201934814453, 99.93583679199219, 62.73942947387695, 38.22661209106445, 25.277366638183594, 28.95413589477539, 227.40940856933594, 57.58143997192383, 46.05423355102539, 45.66975784301758, 42.27327346801758, 41.75994110107422, 36.26301574707031, 36.1187744140625, 34.41371536254883, 30.814659118652344, 29.282907485961914, 29.102901458740234, 26.144258499145508, 25.492416381835938, 25.418018341064453, 25.15908432006836, 23.433448791503906, 23.23328399658203, 23.071701049804688, 22.766128540039062, 21.895769119262695, 20.901140213012695, 20.639102935791016, 18.896663665771484, 18.008331298828125, 17.648550033569336, 17.59760284423828, 17.287696838378906, 17.199796676635742, 15.950252532958984, 36.90585708618164, 30.44634437561035, 22.732868194580078, 25.597856521606445, 131.9434051513672, 98.75061798095703, 72.79155731201172, 52.84292221069336, 48.622947692871094, 47.10822296142578, 46.76268768310547, 43.177703857421875, 37.64080810546875, 37.14408874511719, 36.84658432006836, 36.388484954833984, 31.08102798461914, 28.91631507873535, 25.980012893676758, 25.887954711914062, 25.88379669189453, 23.71761703491211, 23.0898380279541, 20.90140724182129, 20.54593276977539, 19.788429260253906, 19.56806182861328, 19.201045989990234, 18.85026741027832, 18.303050994873047, 17.717750549316406, 17.002429962158203, 16.963958740234375, 16.433462142944336, 76.18319702148438, 51.741519927978516, 83.4823989868164, 33.6231575012207, 44.694793701171875, 56.15679931640625, 27.923675537109375, 31.852109909057617, 24.254253387451172, 21.255754470825195, 116.16218566894531, 55.29780197143555, 47.424564361572266, 46.154258728027344, 44.681583404541016, 44.21883773803711, 42.26060485839844, 38.64936828613281, 38.46805191040039, 38.13406753540039, 36.74627685546875, 36.422725677490234, 36.210811614990234, 33.25593566894531, 30.398204803466797, 29.433507919311523, 27.90020179748535, 27.546010971069336, 24.28949737548828, 24.221614837646484, 22.452959060668945, 21.358945846557617, 20.921403884887695, 18.385467529296875, 17.020896911621094, 16.542861938476562, 15.648543357849121, 15.046360969543457, 14.363300323486328, 13.862271308898926, 36.096275329589844, 63.84180450439453, 23.612882614135742, 16.70496368408203, 141.66754150390625, 83.67533874511719, 54.7451171875, 54.68879699707031, 46.443748474121094, 43.36833190917969, 36.320865631103516, 34.03158187866211, 32.932373046875, 32.727027893066406, 32.01023483276367, 30.466936111450195, 28.352014541625977, 27.715055465698242, 21.517841339111328, 21.219831466674805, 20.885446548461914, 20.686809539794922, 20.227048873901367, 19.682697296142578, 17.584325790405273, 17.160802841186523, 16.955596923828125, 16.3892765045166, 16.092735290527344, 15.707545280456543, 15.606124877929688, 15.083483695983887, 14.642084121704102, 13.982686042785645, 84.76715087890625, 35.81863784790039, 152.3833465576172, 79.78014373779297, 69.10986328125, 68.43175506591797, 57.517791748046875, 57.45745086669922, 44.37947463989258, 35.161869049072266, 34.56884765625, 32.6204833984375, 31.360321044921875, 24.721160888671875, 23.150819778442383, 22.614948272705078, 20.470609664916992, 19.93524169921875, 19.1883602142334, 17.675485610961914, 16.804012298583984, 16.627195358276367, 16.617658615112305, 16.123510360717773, 15.922163009643555, 15.810851097106934, 14.512680053710938, 14.234598159790039, 13.959389686584473, 13.035788536071777, 12.9307279586792, 12.840652465820312, 47.935150146484375, 35.414241790771484, 41.08430480957031, 21.120681762695312, 39.435203552246094, 16.0643253326416, 21.44875144958496, 111.26576232910156, 49.29304885864258, 41.88321304321289, 35.20521926879883, 30.423795700073242, 27.03697395324707, 26.75496482849121, 24.83551597595215, 24.174774169921875, 22.37724494934082, 19.747854232788086, 19.133211135864258, 17.160682678222656, 15.259479522705078, 14.85108470916748, 14.077112197875977, 13.416601181030273, 13.187504768371582, 13.0894775390625, 12.903388023376465, 12.873431205749512, 12.774666786193848, 12.553876876831055, 11.397955894470215, 11.325610160827637, 10.64901351928711, 10.610456466674805, 10.552680969238281, 10.252538681030273, 10.23642349243164, 21.47372817993164, 136.7036895751953, 140.59210205078125, 43.8026123046875, 37.00925827026367, 24.51371192932129, 21.990140914916992, 164.5223846435547, 122.5974349975586, 100.50222778320312, 73.41416931152344, 66.86598205566406, 59.73771286010742, 52.53837966918945, 52.30813980102539, 34.42310333251953, 32.717918395996094, 32.087867736816406, 26.29996681213379, 25.907899856567383, 25.703472137451172, 25.58339500427246, 24.092010498046875, 21.971904754638672, 21.11107063293457, 20.273630142211914, 18.926694869995117, 17.399337768554688, 16.013853073120117, 15.386007308959961, 14.854089736938477, 12.823685646057129, 12.354920387268066, 12.02970027923584, 11.035408020019531, 10.924019813537598, 10.805330276489258, 34.27251052856445, 48.228328704833984, 17.175655364990234, 91.8901596069336, 68.0984878540039, 53.732383728027344, 52.003173828125, 43.31325149536133, 40.08537292480469, 40.06080627441406, 35.65714645385742, 35.44731521606445, 34.569488525390625, 31.957841873168945, 29.59467887878418, 20.57745933532715, 19.305927276611328, 19.093175888061523, 16.896278381347656, 14.20350456237793, 14.16240119934082, 13.966930389404297, 13.551468849182129, 13.356315612792969, 13.173216819763184, 12.623391151428223, 12.594937324523926, 12.038390159606934, 11.91154670715332, 11.332139015197754, 10.817119598388672, 10.627193450927734, 10.342202186584473, 112.44444274902344, 15.940524101257324, 18.548097610473633, 20.297325134277344, 224.6791534423828, 94.49512481689453, 70.9366683959961, 63.164005279541016, 59.81633758544922, 55.969398498535156, 26.421707153320312, 23.731287002563477, 20.89171600341797, 20.206064224243164, 17.73228645324707, 15.908093452453613, 15.200289726257324, 15.105766296386719, 14.11320972442627, 13.747337341308594, 13.399129867553711, 13.148112297058105, 12.903736114501953, 12.588400840759277, 11.952692985534668, 11.480486869812012, 11.224088668823242, 11.224088668823242, 11.224088668823242, 11.224088668823242, 9.606034278869629, 9.530434608459473, 9.243621826171875, 9.19304370880127, 58.85566711425781, 13.355292320251465, 127.44135284423828, 72.60447692871094, 58.92987823486328, 29.530536651611328, 23.16761589050293, 22.918468475341797, 21.458091735839844, 21.12567901611328, 18.92443084716797, 17.930814743041992, 17.597570419311523, 17.32569122314453, 16.517284393310547, 15.794217109680176, 15.532696723937988, 14.025825500488281, 13.536774635314941, 13.100010871887207, 12.739190101623535, 12.467924118041992, 11.629331588745117, 11.421914100646973, 11.052733421325684, 10.359786033630371, 9.89278793334961, 9.636561393737793, 9.319253921508789, 8.773590087890625, 8.18110179901123, 7.786830902099609, 31.235748291015625, 141.68699645996094, 17.40496063232422, 16.591121673583984, 14.067145347595215, 14.729738235473633, 83.03744506835938, 61.63205337524414, 58.42424774169922, 30.449296951293945, 23.15328025817871, 21.11727523803711, 21.036596298217773, 19.91083335876465, 16.957834243774414, 16.538660049438477, 15.885284423828125, 15.595433235168457, 15.498814582824707, 15.265715599060059, 14.226922035217285, 13.80251407623291, 13.405885696411133, 12.268020629882812, 11.814271926879883, 11.595906257629395, 11.512824058532715, 10.918631553649902, 10.730048179626465, 10.577902793884277, 10.577902793884277, 10.557619094848633, 10.034539222717285, 9.859253883361816, 9.683116912841797, 9.659175872802734, 86.03555297851562, 33.044822692871094, 18.34885597229004, 26.030485153198242, 12.185402870178223, 85.0267105102539, 81.88114166259766, 75.93268585205078, 73.35579681396484, 68.08320617675781, 52.1909065246582, 45.98200988769531, 39.57946014404297, 36.9144172668457, 36.75487518310547, 33.28736114501953, 23.24677848815918, 19.970455169677734, 17.06163215637207, 16.540414810180664, 16.279998779296875, 14.536616325378418, 14.536616325378418, 13.786125183105469, 12.44090747833252, 12.139853477478027, 11.98149299621582, 11.98149299621582, 11.98149299621582, 11.853226661682129, 11.853226661682129, 10.984338760375977, 9.797955513000488, 9.322219848632812, 8.714171409606934, 40.49555206298828, 21.742589950561523, 10.746360778808594], \"Term\": [\"sander\", \"bernie\", \"people\", \"hillary\", \"clinton\", \"say\", \"campaign\", \"would\", \"think\", \"woman\", \"vote\", \"even\", \"make\", \"president\", \"support\", \"black\", \"want\", \"http\", \"really\", \"trump\", \"obama\", \"government\", \"thing\", \"year\", \"candidate\", \"voter\", \"good\", \"know\", \"state\", \"article\", \"president\", \"obama\", \"year\", \"election\", \"nominate\", \"senate\", \"someone\", \"seem\", \"first\", \"anyone\", \"last\", \"work\", \"keep\", \"position\", \"hold\", \"part\", \"large\", \"think\", \"general\", \"hope\", \"nomination\", \"entire\", \"confirm\", \"similar\", \"interesting\", \"interest\", \"report\", \"advise\", \"place\", \"surprised\", \"could\", \"supporter\", \"would\", \"go\", \"issue\", \"actually\", \"republican\", \"office\", \"nominee\", \"still\", \"take\", \"want\", \"happen\", \"medium\", \"good\", \"country\", \"people\", \"problem\", \"bank\", \"shit\", \"care\", \"suppose\", \"whole\", \"line\", \"wall_street\", \"matter\", \"poverty\", \"already\", \"hard\", \"lift\", \"begin\", \"alone\", \"attempt\", \"child\", \"better\", \"sound\", \"effect\", \"business\", \"public\", \"regardless\", \"strong\", \"like\", \"answer\", \"tax\", \"know\", \"talk\", \"single\", \"young\", \"also\", \"time\", \"bernie\", \"hillary\", \"support\", \"sander\", \"headline\", \"platform\", \"win\", \"news\", \"hate\", \"title\", \"must\", \"minority\", \"story\", \"firewall\", \"latino\", \"serious\", \"goldman_sach\", \"damn\", \"college\", \"actual\", \"front_page\", \"straight\", \"succeed\", \"honestly\", \"fly\", \"desperate\", \"version\", \"soon\", \"slogan\", \"affect\", \"family\", \"article\", \"take\", \"time\", \"quote\", \"party\", \"scalia\", \"insurance\", \"thank\", \"cruz\", \"health\", \"georgia\", \"appear\", \"case\", \"limit\", \"resume_capability\", \"almost_identical\", \"local\", \"make\", \"remain\", \"uber\", \"team\", \"movement\", \"increasingly\", \"guide\", \"currently\", \"appointment\", \"status\", \"thoma\", \"tilli\", \"assertion\", \"seeking_serve\", \"looking_promotion\", \"perspective_naturally\", \"larger_electorate\", \"earned_contrarily\", \"say\", \"vote\", \"hear\", \"justice\", \"leave\", \"reality\", \"thing\", \"white\", \"liberal\", \"feel\", \"state\", \"many\", \"break\", \"back\", \"something\", \"mean\", \"poll\", \"find\", \"month\", \"consider\", \"claim\", \"elect\", \"senator\", \"decision\", \"nearly\", \"secretary\", \"side\", \"different\", \"tough\", \"study\", \"hispanic\", \"corporate\", \"reasonable\", \"endorsement\", \"texas\", \"surprise\", \"whatev\", \"upset\", \"completely\", \"gain\", \"really\", \"even\", \"politic\", \"system\", \"change\", \"love\", \"tell\", \"reason\", \"court\", \"free\", \"democrat\", \"pick\", \"conservative\", \"majority\", \"spend\", \"anything\", \"least\", \"however\", \"remember\", \"literally\", \"fail\", \"almost\", \"exist\", \"appoint\", \"judge\", \"ideologue\", \"decide\", \"oppose\", \"rule\", \"create\", \"rise\", \"way\", \"constitutional\", \"several\", \"establishment\", \"stop\", \"try\", \"liberal\", \"time\", \"next\", \"republican\", \"money\", \"nominee\", \"clinton\", \"campaign\", \"bush\", \"close\", \"today\", \"respect\", \"especially\", \"house\", \"website\", \"main\", \"stupid\", \"barack\", \"former\", \"tactic\", \"speaker\", \"redirect\", \"search\", \"ask\", \"confirmation\", \"clearly\", \"governor\", \"financial_institution\", \"gun\", \"instead\", \"topic\", \"panic\", \"smear\", \"site\", \"florida\", \"online\", \"candidate\", \"america\", \"political\", \"much\", \"show\", \"american\", \"ever\", \"race\", \"try\", \"go\", \"great\", \"medium\", \"young\", \"right\", \"call\", \"use\", \"believe\", \"everyone\", \"pay\", \"lead\", \"bring\", \"member\", \"start\", \"clear\", \"national\", \"enough\", \"refuse\", \"lose\", \"water\", \"small\", \"table\", \"force\", \"tomorrow\", \"female\", \"obstructionist\", \"high_energy\", \"influence\", \"holy\", \"protester\", \"terrible\", \"mention\", \"important\", \"perhaps\", \"everything\", \"money\", \"trump\", \"system\", \"understand\", \"pretty\", \"black\", \"percent\", \"racial\", \"able\", \"racism_sexism\", \"datum\", \"dislike\", \"move\", \"millennial\", \"speech\", \"future\", \"social\", \"law\", \"crime\", \"percentage\", \"ratio\", \"civil\", \"register\", \"iowa_hampshire\", \"taking_advantage\", \"neighborhood\", \"stream\", \"hilary\", \"super\", \"forefront\", \"class\", \"portion\", \"face\", \"price\", \"extremely\", \"allow\", \"solve\", \"sign\", \"race\", \"point\", \"do\", \"idea\", \"not\", \"population\", \"video\", \"rate\", \"funny\", \"link\", \"debate\", \"reddit\", \"stuff\", \"thread\", \"absolutely\", \"weird\", \"step\", \"bunch\", \"count\", \"be\", \"inspire\", \"passionate\", \"end\", \"often\", \"effective\", \"message\", \"individual\", \"moron\", \"plenty\", \"marketing\", \"economist\", \"give\", \"pretty\", \"http\", \"city\", \"show\", \"trump\", \"also\", \"say\", \"great\", \"american\", \"abortion\", \"fact\", \"week\", \"racism\", \"name\", \"play\", \"argument\", \"hour\", \"rather\", \"chance\", \"information\", \"sexism\", \"community\", \"group\", \"audience\", \"rpolitic\", \"comment\", \"difference\", \"process\", \"word\", \"hand\", \"ready\", \"stand\", \"york\", \"essentially\", \"foreign_policy\", \"discrimination_lgbt\", \"medical\", \"barrier\", \"decency\", \"health_care\", \"would\", \"time\", \"much\", \"come\", \"bill\", \"email\", \"current\", \"base\", \"hell\", \"miss\", \"industry\", \"classified\", \"fort\", \"stay\", \"george\", \"environment\", \"worker\", \"cut\", \"form\", \"later\", \"goal\", \"company\", \"bad\", \"couple\", \"action\", \"thinking\", \"beat\", \"meet\", \"longer\", \"account\", \"pursue\", \"cycle\", \"club\", \"feel\", \"still\", \"voter\", \"democratic\", \"flint\", \"see\", \"record\", \"turn\", \"primary\", \"compare\", \"big\", \"likely\", \"number\", \"low\", \"closing\", \"conclusion\", \"debt\", \"conform\", \"quickly\", \"atlanta\", \"failure\", \"constituent\", \"polltr\", \"history\", \"momentum\", \"page\", \"registration\", \"absolute\", \"potential\", \"surround\", \"unable\", \"previous\", \"give\", \"term\", \"much\", \"result\", \"vote\", \"prevent\", \"candidate\", \"get\", \"become\", \"away\", \"little\", \"job\", \"happy\", \"pull\", \"mark\", \"dream\", \"improve_life\", \"average\", \"program\", \"citizen\", \"preach\", \"planned_parenthood\", \"seriously\", \"alienate\", \"public_university\", \"mindblowing\", \"tool\", \"benefit\", \"maintain_status\", \"domain\", \"foundation\", \"list\", \"husband\", \"goddamn\", \"hipster\", \"prestige\", \"intervention\", \"half\", \"trump\", \"want\", \"great\", \"american\", \"leave\", \"know\", \"government\", \"look\", \"fuck\", \"federal\", \"policy\", \"mind\", \"congress\", \"else\", \"kind\", \"drive\", \"wonder\", \"home\", \"continue\", \"attention\", \"employee\", \"simply\", \"south_carolina\", \"protest\", \"stance\", \"bullshit\", \"civil_servant\", \"wish\", \"event\", \"demand\", \"throw\", \"student\", \"none\", \"middle_east\", \"slow\", \"walmart\", \"term\", \"political\", \"want\", \"person\", \"sure\", \"exactly\", \"voting\", \"wrong\", \"moderate\", \"revolution\", \"south\", \"guy\", \"run\", \"choose\", \"sometimes\", \"experience\", \"stating_fact\", \"idiot\", \"prove\", \"fear\", \"grab\", \"reject\", \"prohillary\", \"middle\", \"extreme\", \"actively\", \"factor\", \"product\", \"let\", \"supply\", \"type\", \"romney\", \"movie\", \"thing\", \"source\", \"result\", \"even\", \"woman\", \"well\", \"may\", \"plan\", \"post\", \"nonhispanic\", \"course\", \"trust\", \"running\", \"facebook_video\", \"remove\", \"entirely\", \"imagine\", \"neck\", \"wing_conspiracy\", \"spin\", \"game\", \"aged\", \"forget\", \"understanding\", \"personal\", \"asshole\", \"respectively\", \"racialethnic_group\", \"raceethnicity\", \"ratio_decreas\", \"rapist\", \"surely\", \"sinister\", \"abuela\", \"white\", \"fair\", \"need\", \"speak\", \"rally\", \"bern\", \"moment\", \"random\", \"interested\", \"amazing\", \"credit\", \"ship\", \"wage\", \"argue\", \"server\", \"easy\", \"particular\", \"charge\", \"ridiculous\", \"medicare\", \"document\", \"town\", \"illegal\", \"rcirclejerk\", \"material\", \"lump\", \"morehouse\", \"properly\", \"medicaid\", \"equal\", \"journal\", \"lucky\", \"healthcare\", \"http\", \"hear\", \"great\", \"america\", \"go\", \"nevada\", \"probably\", \"read\", \"second\", \"illinois\", \"continuous_quote\", \"endorse\", \"caucus\", \"trade\", \"identify\", \"citizen_unit\", \"somebody\", \"return\", \"contrast\", \"leverage\", \"diverse\", \"suggest\", \"branch\", \"favor\", \"toby\", \"email_address\", \"paste\", \"corrupt\", \"title_appropriate\", \"comprised_copied\", \"eye\", \"lack\", \"reno\", \"theory\", \"explain\", \"article\", \"take\", \"high\", \"also\", \"mostly\", \"world\", \"real\", \"life\", \"never\", \"power\", \"live\", \"attack\", \"carson\", \"agenda\", \"presidency\", \"warren\", \"death\", \"definitely\", \"impossible\", \"precedent\", \"loud\", \"hedge\", \"bet\", \"rival\", \"raise\", \"confused\", \"chat\", \"excited\", \"youtube\", \"ideological_purist\", \"purge_establishment\", \"koolaid\", \"safe\", \"worth\", \"snowden\", \"maybe\", \"fight\", \"defend\"], \"Total\": [543.0, 522.0, 588.0, 388.0, 347.0, 359.0, 316.0, 577.0, 438.0, 225.0, 296.0, 280.0, 260.0, 362.0, 255.0, 228.0, 294.0, 225.0, 233.0, 269.0, 288.0, 165.0, 201.0, 271.0, 204.0, 153.0, 233.0, 255.0, 168.0, 212.0, 362.8138427734375, 288.7740478515625, 271.8778991699219, 177.71482849121094, 153.7236328125, 129.949951171875, 128.38900756835938, 104.66719818115234, 102.36417388916016, 97.825439453125, 89.50260162353516, 86.57048797607422, 85.09134674072266, 84.98223114013672, 71.14633178710938, 66.58958435058594, 59.82185745239258, 438.73663330078125, 52.422760009765625, 50.8956413269043, 48.93619155883789, 47.42491149902344, 44.47714614868164, 42.139503479003906, 41.23143005371094, 49.048065185546875, 38.82807159423828, 37.851280212402344, 37.72106170654297, 37.685020446777344, 163.28216552734375, 172.18649291992188, 577.0777587890625, 304.0997619628906, 149.5611114501953, 119.60885620117188, 189.75271606445312, 61.42431640625, 118.90819549560547, 130.09762573242188, 195.91505432128906, 294.48785400390625, 89.92682647705078, 123.52081298828125, 233.08016967773438, 186.9398651123047, 588.4365844726562, 123.30493927001953, 117.63880157470703, 101.3189697265625, 82.95772552490234, 72.7874755859375, 72.34829711914062, 63.39439010620117, 63.390995025634766, 62.963008880615234, 62.21221923828125, 51.730934143066406, 43.12727355957031, 42.000789642333984, 41.788490295410156, 41.4159049987793, 40.08330535888672, 38.30545425415039, 38.11013412475586, 38.023616790771484, 37.11760711669922, 37.0255012512207, 34.97542190551758, 33.718021392822266, 33.181182861328125, 32.612091064453125, 31.396745681762695, 31.072214126586914, 255.54844665527344, 76.71698760986328, 48.00975799560547, 82.72212219238281, 132.71360778808594, 163.43736267089844, 522.9498901367188, 388.582275390625, 255.87496948242188, 543.3828125, 66.28191375732422, 58.38374710083008, 57.82926940917969, 55.24757385253906, 47.86581039428711, 45.28120422363281, 43.76323318481445, 43.52231979370117, 40.88745880126953, 39.220458984375, 33.72334671020508, 31.457828521728516, 28.942705154418945, 27.97138214111328, 27.36083984375, 25.97918128967285, 25.591503143310547, 22.356538772583008, 20.83005714416504, 18.65810203552246, 18.5235595703125, 17.38628578186035, 16.91941261291504, 16.70104217529297, 16.664806365966797, 15.792756080627441, 45.75273132324219, 212.42942810058594, 195.91505432128906, 163.43736267089844, 25.943145751953125, 133.04592895507812, 78.6976547241211, 71.43147277832031, 49.76283645629883, 46.028160095214844, 45.856231689453125, 39.53803253173828, 38.755794525146484, 36.458335876464844, 28.951858520507812, 27.494699478149414, 27.494699478149414, 24.862951278686523, 260.2488098144531, 23.951618194580078, 23.72893524169922, 22.089929580688477, 21.507530212402344, 21.18718147277832, 20.339481353759766, 18.228107452392578, 18.215301513671875, 18.082340240478516, 17.789810180664062, 17.635334014892578, 16.10764503479004, 15.891708374023438, 15.891708374023438, 15.891708374023438, 15.891708374023438, 15.891708374023438, 359.6283874511719, 296.67449951171875, 97.30982971191406, 134.41989135742188, 87.76441192626953, 28.675312042236328, 201.88427734375, 113.71285247802734, 80.7515640258789, 108.62007904052734, 168.2086639404297, 165.54534912109375, 113.77330017089844, 112.55267333984375, 96.50919342041016, 96.37879180908203, 83.60699462890625, 70.94560241699219, 70.15869903564453, 70.14137268066406, 61.0826530456543, 54.82693099975586, 47.23134994506836, 47.18327713012695, 41.74972915649414, 38.67378616333008, 36.55314636230469, 36.43067169189453, 32.709407806396484, 32.15449142456055, 29.487642288208008, 25.067163467407227, 24.419084548950195, 23.839630126953125, 23.680824279785156, 23.363887786865234, 22.99042320251465, 22.39562225341797, 20.364429473876953, 19.12390899658203, 233.32296752929688, 280.4692077636719, 68.3128890991211, 117.77113342285156, 107.00395202636719, 106.09542846679688, 103.27176666259766, 94.38912200927734, 92.35530853271484, 86.43753814697266, 83.33602142333984, 83.05845642089844, 76.29609680175781, 68.8470687866211, 66.95626068115234, 64.22085571289062, 60.570003509521484, 56.188804626464844, 46.523128509521484, 43.87067413330078, 42.301239013671875, 33.82619094848633, 32.29549789428711, 32.080291748046875, 26.118196487426758, 25.791048049926758, 85.73334503173828, 23.960424423217773, 23.190624237060547, 21.879913330078125, 20.142486572265625, 17.83074378967285, 17.383312225341797, 16.03595733642578, 60.050804138183594, 51.77227783203125, 133.8048553466797, 80.7515640258789, 163.43736267089844, 43.452880859375, 189.75271606445312, 129.5363311767578, 118.90819549560547, 347.5906677246094, 316.53759765625, 103.3392562866211, 69.46826934814453, 55.29066467285156, 48.60922622680664, 46.69129180908203, 37.34565734863281, 33.95366287231445, 33.43159484863281, 30.851024627685547, 28.73050308227539, 26.31852912902832, 26.18191146850586, 21.75432014465332, 20.64803123474121, 19.83669090270996, 18.81450843811035, 17.870561599731445, 17.862274169921875, 17.397567749023438, 17.252857208251953, 16.991056442260742, 16.83670997619629, 16.604963302612305, 16.36222267150879, 16.35349464416504, 16.265827178955078, 16.22374153137207, 14.52036190032959, 204.04360961914062, 96.97989654541016, 189.0087127685547, 139.82472229003906, 107.72380828857422, 124.34375762939453, 27.744503021240234, 58.49107360839844, 133.8048553466797, 304.0997619628906, 107.01866149902344, 123.52081298828125, 82.72212219238281, 148.5631103515625, 103.62600708007812, 93.80058288574219, 90.57832336425781, 85.80670928955078, 68.78327941894531, 61.79491424560547, 59.02738571166992, 51.203914642333984, 49.08773422241211, 48.34186935424805, 47.971435546875, 45.884483337402344, 45.474525451660156, 43.45048904418945, 41.28339385986328, 39.91987228393555, 33.003963470458984, 32.29252624511719, 31.860727310180664, 26.874731063842773, 25.816408157348633, 24.71752166748047, 24.657451629638672, 24.414453506469727, 24.03777313232422, 23.838171005249023, 23.817834854125977, 23.231245040893555, 20.852575302124023, 48.289833068847656, 129.5363311767578, 269.93988037109375, 117.77113342285156, 35.840187072753906, 90.75021362304688, 228.17178344726562, 58.343833923339844, 46.816627502441406, 46.432151794433594, 43.035667419433594, 42.522335052490234, 37.02540969848633, 36.881168365478516, 35.176109313964844, 31.577054977416992, 30.045303344726562, 29.865297317504883, 26.906654357910156, 26.254812240600586, 26.1804141998291, 25.921480178833008, 24.195844650268555, 23.99567985534668, 23.834096908569336, 23.52852439880371, 22.658164978027344, 21.663536071777344, 21.401498794555664, 19.659059524536133, 18.770727157592773, 18.410945892333984, 18.35999870300293, 18.050092697143555, 17.96219253540039, 16.712648391723633, 38.959449768066406, 40.948211669921875, 28.680641174316406, 58.49107360839844, 132.70648193359375, 99.51371765136719, 73.55465698242188, 53.60601043701172, 49.38603591918945, 47.87131118774414, 47.52577590942383, 43.940792083740234, 38.40389633178711, 37.90717697143555, 37.60967254638672, 37.151573181152344, 31.844120025634766, 29.679407119750977, 26.743104934692383, 26.651046752929688, 26.646888732910156, 24.480709075927734, 23.852930068969727, 21.664499282836914, 21.309024810791016, 20.55152130126953, 20.331153869628906, 19.96413803100586, 19.613359451293945, 19.066143035888672, 18.48084259033203, 17.765522003173828, 17.72705078125, 17.19655418395996, 124.84162139892578, 90.75021362304688, 225.89169311523438, 59.28605270385742, 107.72380828857422, 269.93988037109375, 132.71360778808594, 359.6283874511719, 107.01866149902344, 124.34375762939453, 116.93292999267578, 56.06853485107422, 48.19529724121094, 46.924991607666016, 45.45231628417969, 44.98957061767578, 43.03133773803711, 39.420101165771484, 39.23878479003906, 38.90480041503906, 37.51700973510742, 37.193458557128906, 36.981544494628906, 34.026668548583984, 31.168941497802734, 30.20424461364746, 28.67093849182129, 28.316747665405273, 25.06023406982422, 24.992351531982422, 23.223695755004883, 22.129682540893555, 21.692140579223633, 19.156204223632812, 17.79163360595703, 17.3135986328125, 16.419279098510742, 15.817097663879395, 15.134037017822266, 14.633008003234863, 42.232261657714844, 577.0777587890625, 163.43736267089844, 139.82472229003906, 142.4289093017578, 84.43672180175781, 55.506492614746094, 55.450172424316406, 47.20512390136719, 44.12970733642578, 37.08224105834961, 34.7929573059082, 33.693748474121094, 33.4884033203125, 32.771610260009766, 31.22831153869629, 29.11338996887207, 28.476430892944336, 22.279216766357422, 21.9812068939209, 21.646821975708008, 21.448184967041016, 20.98842430114746, 20.444072723388672, 18.345701217651367, 17.922178268432617, 17.71697235107422, 17.150651931762695, 16.854110717773438, 16.468921661376953, 16.36750030517578, 15.84485912322998, 15.403459548950195, 14.744061470031738, 108.62007904052734, 130.09762573242188, 153.1467742919922, 80.5435791015625, 69.87329864501953, 69.1951904296875, 58.28122329711914, 58.220882415771484, 45.142906188964844, 35.92530059814453, 35.332279205322266, 33.383914947509766, 32.12375259399414, 25.484594345092773, 23.91425323486328, 23.378381729125977, 21.23404312133789, 20.69867515563965, 19.951793670654297, 18.438919067382812, 17.567445755004883, 17.390628814697266, 17.381092071533203, 16.886943817138672, 16.685596466064453, 16.574283599853516, 15.276113510131836, 14.998031616210938, 14.722823143005371, 13.799221992492676, 13.694161415100098, 13.604085922241211, 124.84162139892578, 77.27234649658203, 139.82472229003906, 40.38655471801758, 296.67449951171875, 24.778942108154297, 204.04360961914062, 112.02914428710938, 50.056427001953125, 42.64659118652344, 35.968597412109375, 31.187175750732422, 27.80035400390625, 27.51834487915039, 25.598896026611328, 24.938154220581055, 23.140625, 20.511234283447266, 19.896591186523438, 17.924062728881836, 16.02286148071289, 15.614465713500977, 14.840493202209473, 14.17998218536377, 13.950885772705078, 13.852858543395996, 13.666769027709961, 13.636812210083008, 13.538047790527344, 13.31725788116455, 12.161336898803711, 12.088991165161133, 11.412394523620605, 11.3738374710083, 11.316061973571777, 11.01591968536377, 10.999804496765137, 25.023601531982422, 269.93988037109375, 294.48785400390625, 107.01866149902344, 124.34375762939453, 87.76441192626953, 255.54844665527344, 165.2824249267578, 123.35748291015625, 101.26227569580078, 74.1742172241211, 67.62602996826172, 60.49775314331055, 53.29841995239258, 53.068180084228516, 35.183143615722656, 33.47795867919922, 32.84790802001953, 27.06001091003418, 26.667943954467773, 26.463516235351562, 26.34343910217285, 24.852054595947266, 22.731948852539062, 21.87111473083496, 21.033674240112305, 19.686738967895508, 18.159381866455078, 16.773897171020508, 16.14605140686035, 15.614133834838867, 13.58372974395752, 13.114964485168457, 12.78974437713623, 11.795452117919922, 11.684063911437988, 11.565374374389648, 77.27234649658203, 189.0087127685547, 294.48785400390625, 92.64779663085938, 68.85608673095703, 54.48998260498047, 52.760772705078125, 44.07085037231445, 40.84297180175781, 40.81840515136719, 36.41474533081055, 36.20491409301758, 35.32708740234375, 32.71543884277344, 30.352275848388672, 21.33505630493164, 20.06352424621582, 19.850772857666016, 17.65387535095215, 14.961102485656738, 14.919999122619629, 14.724528312683105, 14.309066772460938, 14.113913536071777, 13.930815696716309, 13.380989074707031, 13.352535247802734, 12.795988082885742, 12.669144630432129, 12.089736938476562, 11.57471752166748, 11.384791374206543, 11.099800109863281, 201.88427734375, 23.852094650268555, 40.38655471801758, 280.4692077636719, 225.4446563720703, 95.26062774658203, 71.7021713256836, 63.929500579833984, 60.58183288574219, 56.734893798828125, 27.187204360961914, 24.496784210205078, 21.65721321105957, 20.971561431884766, 18.497783660888672, 16.67359161376953, 15.965787887573242, 15.871264457702637, 14.878707885742188, 14.512835502624512, 14.164628028869629, 13.913610458374023, 13.669234275817871, 13.353899002075195, 12.718192100524902, 12.24598503112793, 11.98958683013916, 11.98958683013916, 11.98958683013916, 11.98958683013916, 10.371532440185547, 10.29593276977539, 10.009119987487793, 9.958541870117188, 113.71285247802734, 36.489986419677734, 128.20382690429688, 73.366943359375, 59.692344665527344, 30.293001174926758, 23.93008041381836, 23.680932998657227, 22.220556259155273, 21.88814353942871, 19.6868953704834, 18.693279266357422, 18.360034942626953, 18.08815574645996, 17.279748916625977, 16.556682586669922, 16.295162200927734, 14.788291931152344, 14.299241065979004, 13.86247730255127, 13.501656532287598, 13.230390548706055, 12.39179801940918, 12.184380531311035, 11.815199851989746, 11.122252464294434, 10.655254364013672, 10.399027824401855, 10.081720352172852, 9.536056518554688, 8.943568229675293, 8.549297332763672, 35.98009490966797, 225.89169311523438, 97.30982971191406, 107.01866149902344, 96.97989654541016, 304.0997619628906, 83.80217742919922, 62.39678192138672, 59.1889762878418, 31.214025497436523, 23.91800880432129, 21.882003784179688, 21.80132484436035, 20.675561904907227, 17.722562789916992, 17.303388595581055, 16.650012969970703, 16.36016273498535, 16.2635440826416, 16.030445098876953, 14.99165153503418, 14.567242622375488, 14.170614242553711, 13.03274917602539, 12.579000473022461, 12.360634803771973, 12.277552604675293, 11.68336009979248, 11.494776725769043, 11.342631340026855, 11.342631340026855, 11.322347640991211, 10.799267768859863, 10.623982429504395, 10.447845458984375, 10.423904418945312, 212.42942810058594, 195.91505432128906, 49.32723617553711, 132.71360778808594, 40.590030670166016, 85.78988647460938, 82.64431762695312, 76.69586181640625, 74.11897277832031, 68.84638214111328, 52.95408248901367, 46.74518585205078, 40.34263610839844, 37.67759323120117, 37.51805114746094, 34.050537109375, 24.00995635986328, 20.733633041381836, 17.824810028076172, 17.303592681884766, 17.043176651000977, 15.299793243408203, 15.299793243408203, 14.549302101135254, 13.204084396362305, 12.903030395507812, 12.744669914245605, 12.744669914245605, 12.744669914245605, 12.616403579711914, 12.616403579711914, 11.747515678405762, 10.561132431030273, 10.085396766662598, 9.477352142333984, 47.58206558227539, 49.551246643066406, 15.647428512573242], \"loglift\": [30.0, 29.0, 28.0, 27.0, 26.0, 25.0, 24.0, 23.0, 22.0, 21.0, 20.0, 19.0, 18.0, 17.0, 16.0, 15.0, 14.0, 13.0, 12.0, 11.0, 10.0, 9.0, 8.0, 7.0, 6.0, 5.0, 4.0, 3.0, 2.0, 1.0, 1.9730000495910645, 1.972499966621399, 1.9723000526428223, 1.970900058746338, 1.9701999425888062, 1.9693000316619873, 1.9692000150680542, 1.9678000211715698, 1.9677000045776367, 1.9673000574111938, 1.966599941253662, 1.9663000106811523, 1.9661999940872192, 1.9660999774932861, 1.964400053024292, 1.9636000394821167, 1.9622999429702759, 1.9610999822616577, 1.9605000019073486, 1.9601000547409058, 1.9594999551773071, 1.9589999914169312, 1.957900047302246, 1.9569000005722046, 1.9565000534057617, 1.9556000232696533, 1.955299973487854, 1.954800009727478, 1.954699993133545, 1.954699993133545, 1.9509999752044678, 1.944200038909912, 1.8278000354766846, 1.7955000400543213, 1.846500039100647, 1.8473000526428223, 1.7914999723434448, 1.9005000591278076, 1.6965999603271484, 1.6454999446868896, 1.3467999696731567, 1.1435999870300293, 1.6836999654769897, 1.4709999561309814, 2.22979998588562, 2.2290000915527344, 2.228800058364868, 2.226799964904785, 2.2265000343322754, 2.2255001068115234, 2.22379994392395, 2.2225000858306885, 2.2225000858306885, 2.2209999561309814, 2.2209999561309814, 2.220900058746338, 2.2207000255584717, 2.2181999683380127, 2.2151999473571777, 2.2146999835968018, 2.2146999835968018, 2.2144999504089355, 2.213900089263916, 2.2130000591278076, 2.212899923324585, 2.2128000259399414, 2.2123000621795654, 2.2121999263763428, 2.2109999656677246, 2.210200071334839, 2.2098000049591064, 2.209399938583374, 2.2084999084472656, 2.208199977874756, 2.139899969100952, 2.04010009765625, 2.1196000576019287, 1.957800030708313, 1.6585999727249146, 1.010599970817566, 2.740600109100342, 2.7400999069213867, 2.7390999794006348, 2.7362000942230225, 2.7304000854492188, 2.7288999557495117, 2.7286999225616455, 2.728100061416626, 2.7258999347686768, 2.7249999046325684, 2.724400043487549, 2.724299907684326, 2.7232000827789307, 2.7223000526428223, 2.719099998474121, 2.717400074005127, 2.7151999473571777, 2.7142999172210693, 2.71370005607605, 2.712100028991699, 2.711699962615967, 2.707200050354004, 2.7046000957489014, 2.7000999450683594, 2.6998000144958496, 2.697000026702881, 2.69569993019104, 2.6951000690460205, 2.694999933242798, 2.6923000812530518, 2.6505000591278076, 1.575600028038025, 1.1412999629974365, 0.9664000272750854, 2.334700107574463, 2.891400098800659, 2.887399911880493, 2.886399984359741, 2.881700038909912, 2.880500078201294, 2.8803999423980713, 2.877700090408325, 2.8773000240325928, 2.875999927520752, 2.870500087738037, 2.86899995803833, 2.86899995803833, 2.865999937057495, 2.8652000427246094, 2.864799976348877, 2.864500045776367, 2.861999988555908, 2.8610999584198, 2.8605000972747803, 2.8589999675750732, 2.8543999195098877, 2.8543999195098877, 2.854099988937378, 2.8533999919891357, 2.8529999256134033, 2.8487000465393066, 2.8480000495910645, 2.8480000495910645, 2.8480000495910645, 2.8480000495910645, 2.8480000495910645, 2.8022000789642334, 2.751699924468994, 2.690999984741211, 2.6470000743865967, 2.5580999851226807, 2.7004001140594482, 2.075000047683716, 1.9559999704360962, 2.0304999351501465, 1.3504999876022339, 2.9203999042510986, 2.920300006866455, 2.9182000160217285, 2.918100118637085, 2.9170000553131104, 2.9170000553131104, 2.915800094604492, 2.914099931716919, 2.9140000343322754, 2.9140000343322754, 2.912400007247925, 2.910900115966797, 2.908600091934204, 2.908600091934204, 2.9065001010894775, 2.9049999713897705, 2.9038000106811523, 2.9038000106811523, 2.9012999534606934, 2.900899887084961, 2.898699998855591, 2.8940000534057617, 2.893199920654297, 2.892400026321411, 2.892199993133545, 2.891700029373169, 2.891200065612793, 2.8903000354766846, 2.886699914932251, 2.884200096130371, 2.852400064468384, 2.84660005569458, 2.7520999908447266, 2.5232999324798584, 2.9189999103546143, 2.9189999103546143, 2.918800115585327, 2.918100118637085, 2.9179000854492188, 2.91729998588562, 2.9170000553131104, 2.9170000553131104, 2.916100025177002, 2.91510009765625, 2.9147000312805176, 2.9142000675201416, 2.9133999347686768, 2.9124999046325684, 2.9096999168395996, 2.9086999893188477, 2.9079999923706055, 2.90339994430542, 2.9022998809814453, 2.902100086212158, 2.8966000080108643, 2.896199941635132, 2.8949999809265137, 2.893899917602539, 2.8928000926971436, 2.890700101852417, 2.8875999450683594, 2.882499933242798, 2.8814001083374023, 2.877500057220459, 2.8362998962402344, 2.7945001125335693, 2.493000030517578, 2.365299940109253, 1.3628000020980835, 2.367500066757202, 1.118299961090088, 1.4253000020980835, 1.4867000579833984, 2.9242000579833984, 2.9238998889923096, 2.9189000129699707, 2.915299892425537, 2.9124999046325684, 2.910599946975708, 2.909899950027466, 2.9056999683380127, 2.903700113296509, 2.9033000469207764, 2.9012999534606934, 2.8994998931884766, 2.8970000743865967, 2.8968000411987305, 2.890700101852417, 2.8887999057769775, 2.887200117111206, 2.884999990463257, 2.8828001022338867, 2.8828001022338867, 2.8815999031066895, 2.881200075149536, 2.880500078201294, 2.880000114440918, 2.8794000148773193, 2.878700017929077, 2.8785998821258545, 2.8784000873565674, 2.8782999515533447, 2.872499942779541, 2.811300039291382, 2.760699987411499, 2.6266000270843506, 2.384700059890747, 2.3789000511169434, 2.283799886703491, 2.6647000312805176, 2.3285999298095703, 1.8654999732971191, 0.6992999911308289, 1.3320000171661377, 1.1227999925613403, 1.464900016784668, 2.9514999389648438, 2.949199914932251, 2.948499917984009, 2.948199987411499, 2.947700023651123, 2.945499897003174, 2.944200038909912, 2.9435999393463135, 2.9416000843048096, 2.9409000873565674, 2.940700054168701, 2.9405999183654785, 2.9398000240325928, 2.93969988822937, 2.9388999938964844, 2.9379000663757324, 2.937299966812134, 2.933199882507324, 2.9326999187469482, 2.932300090789795, 2.927799940109253, 2.9265999794006348, 2.9251999855041504, 2.925100088119507, 2.924799919128418, 2.924299955368042, 2.9240000247955322, 2.9240000247955322, 2.9231998920440674, 2.919300079345703, 2.876300096511841, 2.697200059890747, 1.4974000453948975, 1.8314000368118286, 2.6075000762939453, 1.8142000436782837, 2.962599992752075, 2.9528000354766846, 2.9495999813079834, 2.949399948120117, 2.9481000900268555, 2.9479000568389893, 2.945199966430664, 2.9451000690460205, 2.9440999031066895, 2.941499948501587, 2.9402999877929688, 2.9400999546051025, 2.9372000694274902, 2.936500072479248, 2.9363999366760254, 2.9361000061035156, 2.934000015258789, 2.9337000846862793, 2.933500051498413, 2.933000087738037, 2.93179988861084, 2.9302000999450684, 2.9296998977661133, 2.9263999462127686, 2.924499988555908, 2.9237000942230225, 2.9235999584198, 2.922800064086914, 2.922600030899048, 2.919300079345703, 2.911799907684326, 2.669600009918213, 2.733599901199341, 2.1396000385284424, 3.059999942779541, 3.0580999851226807, 3.0553998947143555, 3.0513999462127686, 3.0501999855041504, 3.0497000217437744, 3.0495998859405518, 3.04830002784729, 3.0457000732421875, 3.0453999042510986, 3.045300006866455, 3.0450000762939453, 3.0415000915527344, 3.0397000312805176, 3.036799907684326, 3.0367000102996826, 3.0367000102996826, 3.03410005569458, 3.0332999229431152, 3.029900074005127, 3.0292999744415283, 3.027899980545044, 3.0274999141693115, 3.0267999172210693, 3.026099920272827, 3.024899959564209, 3.0236001014709473, 3.021899938583374, 3.0218000411987305, 3.020400047302246, 2.571899890899658, 2.5039000511169434, 2.0703999996185303, 2.4986000061035156, 2.1861000061035156, 1.4957000017166138, 1.507099986076355, 0.6417999863624573, 1.5814000368118286, 1.299399971961975, 3.2409000396728516, 3.2337000370025635, 3.2314000129699707, 3.2309000492095947, 3.2304000854492188, 3.2302000522613525, 3.2293999195098877, 3.227799892425537, 3.2276999950408936, 3.2274999618530273, 3.2267000675201416, 3.226599931716919, 3.2263998985290527, 3.224600076675415, 3.2225000858306885, 3.22160005569458, 3.2202000617980957, 3.219899892807007, 3.2163000106811523, 3.216200113296509, 3.21370005607605, 3.2119998931884766, 3.2112998962402344, 3.206399917602539, 3.203200101852417, 3.2019999027252197, 3.199399948120117, 3.197499990463257, 3.195199966430664, 3.1933999061584473, 3.0905001163482666, 1.0458999872207642, 1.3128999471664429, 1.1227999925613403, 3.3018999099731445, 3.2981998920440674, 3.2934000492095947, 3.2934000492095947, 3.2909998893737793, 3.289799928665161, 3.2864999771118164, 3.285099983215332, 3.28439998626709, 3.2841999530792236, 3.2836999893188477, 3.2825000286102295, 3.2806999683380127, 3.280100107192993, 3.27239990234375, 3.2720000743865967, 3.271399974822998, 3.2711000442504883, 3.2702999114990234, 3.2692999839782715, 3.2648000717163086, 3.2637999057769775, 3.2632999420166016, 3.2618000507354736, 3.260999917984009, 3.2599000930786133, 3.2595999240875244, 3.257999897003174, 3.256500005722046, 3.254199981689453, 3.059299945831299, 2.017400026321411, 3.3350000381469727, 3.3304998874664307, 3.3289999961853027, 3.328900098800659, 3.3268001079559326, 3.3268001079559326, 3.3229000568389893, 3.31850004196167, 3.3180999755859375, 3.316800117492676, 3.3159000873565674, 3.3096001148223877, 3.307499885559082, 3.30679988861084, 3.3034000396728516, 3.3024001121520996, 3.3010001182556152, 3.2976999282836914, 3.2955000400543213, 3.295099973678589, 3.295099973678589, 3.2936999797821045, 3.293100118637085, 3.292799949645996, 3.2887001037597656, 3.2876999378204346, 3.2867000102996826, 3.283099889755249, 3.282599925994873, 3.2822000980377197, 2.3828001022338867, 2.559799909591675, 2.1152000427246094, 2.691699981689453, 1.3220000267028809, 2.906599998474121, 1.0872999429702759, 3.345400094985962, 3.336899995803833, 3.334199905395508, 3.3308000564575195, 3.327500104904175, 3.324399948120117, 3.3241000175476074, 3.322000026702881, 3.321199893951416, 3.318700075149536, 3.314300060272217, 3.3131000995635986, 3.3087000846862793, 3.3034000396728516, 3.3020999431610107, 3.2994000911712646, 3.2969000339508057, 3.2960000038146973, 3.295599937438965, 3.294800043106079, 3.294600009918213, 3.2941999435424805, 3.2932000160217285, 3.287400007247925, 3.2869999408721924, 3.2829999923706055, 3.2827999591827393, 3.282399892807007, 3.280400037765503, 3.2802999019622803, 3.1993000507354736, 2.6719000339508057, 2.6129000186920166, 2.458899974822998, 2.140399932861328, 2.0768001079559326, 0.899399995803833, 3.3661999702453613, 3.3647000789642334, 3.363300085067749, 3.360599994659424, 3.359600067138672, 3.3582000732421875, 3.3564999103546143, 3.3564000129699707, 3.3489999771118164, 3.347899913787842, 3.347399950027466, 3.342400074005127, 3.341900110244751, 3.3417000770568848, 3.341599941253662, 3.3397998809814453, 3.336899995803833, 3.3355000019073486, 3.3341000080108643, 3.3315000534057617, 3.3280999660491943, 3.32450008392334, 3.3225998878479004, 3.321000099182129, 3.3132998943328857, 3.311199903488159, 3.3096001148223877, 3.30430006980896, 3.3036000728607178, 3.3029000759124756, 2.5578999519348145, 2.005000114440918, 0.5291000008583069, 3.447000026702881, 3.444200038909912, 3.441200017929077, 3.4407999515533447, 3.4379000663757324, 3.436500072479248, 3.436500072479248, 3.4342000484466553, 3.4340999126434326, 3.4335999488830566, 3.43179988861084, 3.430000066757202, 3.419100046157837, 3.4166998863220215, 3.416300058364868, 3.411400079727173, 3.4033000469207764, 3.40310001373291, 3.402400016784668, 3.4007999897003174, 3.400099992752075, 3.3993000984191895, 3.396899938583374, 3.3968000411987305, 3.394200086593628, 3.3935999870300293, 3.390500068664551, 3.387500047683716, 3.386399984359741, 3.384500026702881, 2.869999885559082, 3.0522000789642334, 2.6770999431610107, 0.8292999863624573, 3.541800022125244, 3.537100076675415, 3.5344998836517334, 3.5332000255584717, 3.5325000286102295, 3.531599998474121, 3.516700029373169, 3.5134999752044678, 3.509200096130371, 3.507999897003174, 3.5028998851776123, 3.498199939727783, 3.4960999488830566, 3.495800018310547, 3.4923999309539795, 3.490999937057495, 3.4897000789642334, 3.488600015640259, 3.487600088119507, 3.4862000942230225, 3.483099937438965, 3.4807000160217285, 3.4791998863220215, 3.4791998863220215, 3.4791998863220215, 3.4791998863220215, 3.4684998989105225, 3.4679999351501465, 3.46560001373291, 3.4651999473571777, 2.8866000175476074, 2.54010009765625, 3.5467000007629395, 3.5422000885009766, 3.539799928665161, 3.527100086212158, 3.52020001411438, 3.51990008354187, 3.517699956893921, 3.517199993133545, 3.5130999088287354, 3.510999917984009, 3.510200023651123, 3.5095999240875244, 3.507499933242798, 3.505500078201294, 3.504699945449829, 3.4997000694274902, 3.49780011177063, 3.496000051498413, 3.494499921798706, 3.493299961090088, 3.4890999794006348, 3.48799991607666, 3.4858999252319336, 3.481600046157837, 3.4783999919891357, 3.4765000343322754, 3.4739999771118164, 3.4693000316619873, 3.4635000228881836, 3.459199905395508, 3.4112000465393066, 3.086199998855591, 1.8315000534057617, 1.6885000467300415, 1.621999979019165, 0.5250999927520752, 3.5580999851226807, 3.555000066757202, 3.55430006980896, 3.5425000190734863, 3.5348000526428223, 3.5316998958587646, 3.531599998474121, 3.529599905014038, 3.523200035095215, 3.5220999717712402, 3.5202999114990234, 3.519399881362915, 3.5190999507904053, 3.518399953842163, 3.514899969100952, 3.513400077819824, 3.5118000507354736, 3.5067999362945557, 3.5046000480651855, 3.5034000873565674, 3.503000020980835, 3.4995999336242676, 3.498500108718872, 3.497499942779541, 3.497499942779541, 3.4974000453948975, 3.4939000606536865, 3.4925999641418457, 3.491300106048584, 3.4911000728607178, 2.6635000705718994, 1.787500023841858, 2.578399896621704, 1.9384000301361084, 2.364000082015991, 3.6468000411987305, 3.6465001106262207, 3.6458001136779785, 3.645400047302246, 3.6445999145507812, 3.6412999629974365, 3.6393001079559326, 3.636699914932251, 3.6352999210357666, 3.635200023651123, 3.6331000328063965, 3.623500108718872, 3.618299961090088, 3.611999988555908, 3.6106998920440674, 3.609999895095825, 3.604599952697754, 3.604599952697754, 3.601900100708008, 3.5961999893188477, 3.5947999954223633, 3.5940001010894775, 3.5940001010894775, 3.5940001010894775, 3.593400001525879, 3.593400001525879, 3.588599920272827, 3.5808000564575195, 3.5771000385284424, 3.5717999935150146, 3.494499921798706, 2.8320000171661377, 3.2799999713897705], \"logprob\": [30.0, 29.0, 28.0, 27.0, 26.0, 25.0, 24.0, 23.0, 22.0, 21.0, 20.0, 19.0, 18.0, 17.0, 16.0, 15.0, 14.0, 13.0, 12.0, 11.0, 10.0, 9.0, 8.0, 7.0, 6.0, 5.0, 4.0, 3.0, 2.0, 1.0, -3.052999973297119, -3.2818000316619873, -3.3422999382019043, -3.768899917602539, -3.914599895477295, -4.083600044250488, -4.095699787139893, -4.301300048828125, -4.323800086975098, -4.369500160217285, -4.459099769592285, -4.492700099945068, -4.5100998878479, -4.51140022277832, -4.690800189971924, -4.757800102233887, -4.866300106048584, -2.8749001026153564, -5.000100135803223, -5.030099868774414, -5.070000171661377, -5.101900100708008, -5.167099952697754, -5.222099781036377, -5.24429988861084, -5.071599960327148, -5.305500030517578, -5.331500053405762, -5.335000038146973, -5.335999965667725, -3.8733999729156494, -3.827199935913086, -2.7342000007629395, -3.407099962234497, -4.065700054168701, -4.28849983215332, -3.8828001022338867, -4.901700019836426, -4.445000171661377, -4.406199932098389, -4.295400142669678, -4.09119987487793, -4.737299919128418, -4.632500171661377, -3.238800048828125, -3.460200071334839, -2.313699960708618, -3.878499984741211, -3.925800085067749, -4.076200008392334, -4.2778000831604, -4.409900188446045, -4.415999889373779, -4.549600124359131, -4.549699783325195, -4.55649995803833, -4.568699836730957, -4.75570011138916, -4.9405999183654785, -4.96750020980835, -4.972700119018555, -4.981800079345703, -5.015100002288818, -5.061399936676025, -5.0665998458862305, -5.068900108337402, -5.093599796295166, -5.096099853515625, -5.154300212860107, -5.191699981689453, -5.208199977874756, -5.225900173187256, -5.264800071716309, -5.275400161743164, -3.2367000579833984, -4.539700031280518, -4.928999900817871, -4.5467000007629395, -4.373199939727783, -4.812900066375732, -1.9198999404907227, -2.217400074005127, -2.636199951171875, -1.8860000371932983, -3.9955999851226807, -4.124100208282471, -4.133699893951416, -4.179999828338623, -4.3256001472473145, -4.3821001052856445, -4.416800022125244, -4.422399997711182, -4.486000061035156, -4.52839994430542, -4.682700157165527, -4.753900051116943, -4.839399814605713, -4.874499797821045, -4.897200107574463, -4.950500011444092, -4.966000080108643, -5.1057000160217285, -5.178999900817871, -5.293600082397461, -5.30109977722168, -5.367300033569336, -5.3958001136779785, -5.40939998626709, -5.4116997718811035, -5.468100070953369, -4.446199893951416, -3.98580002784729, -4.500999927520752, -4.8572001457214355, -5.329400062561035, -3.1377999782562256, -3.6668999195098877, -3.7648000717163086, -4.13100004196167, -4.21019983291626, -4.214099884033203, -4.364999771118164, -4.38539981842041, -4.447800159454346, -4.683899879455566, -4.7368998527526855, -4.7368998527526855, -4.84060001373291, -2.4930999279022217, -4.8790998458862305, -4.888800144195557, -4.962800025939941, -4.990499973297119, -5.006100177764893, -5.048399925231934, -5.162600040435791, -5.163300037384033, -5.171000003814697, -5.188000202178955, -5.1971001625061035, -5.291999816894531, -5.30620002746582, -5.30620002746582, -5.30620002746582, -5.30620002746582, -5.30620002746582, -2.2327001094818115, -2.475600004196167, -3.6510000228881836, -3.371999979019165, -3.887200117111206, -4.86359977722168, -3.5373001098632812, -4.230199813842773, -4.4980998039245605, -4.8815999031066895, -2.8743999004364014, -2.890399932861328, -3.2676000595092773, -3.27839994430542, -3.433300018310547, -3.4347000122070312, -3.5780999660491943, -3.7439000606536865, -3.755199909210205, -3.755500078201294, -3.895400047302246, -4.004899978637695, -4.156300067901611, -4.157299995422363, -4.281799793243408, -4.359799861907959, -4.417399883270264, -4.42080020904541, -4.531000137329102, -4.548500061035156, -4.63730001449585, -4.8043999671936035, -4.831399917602539, -4.856200218200684, -4.863100051879883, -4.877099990844727, -4.893700122833252, -4.92080020904541, -5.019400119781494, -5.084799766540527, -2.6150999069213867, -2.4368999004364014, -3.9437999725341797, -3.6278998851776123, -3.3280999660491943, -3.336699962615967, -3.363800048828125, -3.4544999599456787, -3.4763998985290527, -3.5432000160217285, -3.5801000595092773, -3.5834999084472656, -3.6691999435424805, -3.7730000019073486, -3.8011999130249023, -3.843400001525879, -3.9028000831604004, -3.9786999225616455, -4.170400142669678, -4.230100154876709, -4.267099857330322, -4.495299816131592, -4.542699813842773, -4.549600124359131, -4.760799884796143, -4.773799896240234, -3.573699951171875, -4.849699974060059, -4.883500099182129, -4.943699836730957, -5.0295000076293945, -5.156499862670898, -5.18310022354126, -5.267600059509277, -3.9883999824523926, -4.178599834442139, -3.530600070953369, -4.163300037384033, -4.4608001708984375, -4.780799865722656, -4.5559000968933105, -4.630799770355225, -4.654900074005127, -2.1447999477386475, -2.238600015640259, -3.36299991607666, -3.7637999057769775, -3.9948999881744385, -4.1255998611450195, -4.166500091552734, -4.394000053405762, -4.491300106048584, -4.507199764251709, -4.5894999504089355, -4.662499904632568, -4.752699851989746, -4.7581000328063965, -4.94950008392334, -5.003600120544434, -5.045199871063232, -5.100299835205078, -5.1539998054504395, -5.1545000076293945, -5.18209981918335, -5.190800189971924, -5.2067999839782715, -5.216400146484375, -5.230899810791016, -5.246300220489502, -5.2469000816345215, -5.252500057220459, -5.255199909210205, -5.372000217437744, -2.790299892425537, -3.584700107574463, -3.051500082015991, -3.594899892807007, -3.8615000247955322, -3.8131000995635986, -4.932199954986572, -4.522500038146973, -4.158100128173828, -4.503300189971924, -4.914899826049805, -4.980800151824951, -5.039599895477295, -2.9674999713897705, -3.329900026321411, -3.430299997329712, -3.46560001373291, -3.52020001411438, -3.7435998916625977, -3.8519999980926514, -3.898400068283081, -4.042600154876709, -4.085400104522705, -4.10099983215332, -4.108799934387207, -4.1539998054504395, -4.163099765777588, -4.209499835968018, -4.261600017547607, -4.29580020904541, -4.490200042724609, -4.512499809265137, -4.526299953460693, -4.701000213623047, -4.742400169372559, -4.787300109863281, -4.78980016708374, -4.800000190734863, -4.815999984741211, -4.824699878692627, -4.825500011444092, -4.85129976272583, -4.963200092315674, -4.166399955749512, -3.358799934387207, -3.8243000507354736, -4.319799900054932, -4.733399868011475, -4.597599983215332, -2.5271999835968018, -3.9007999897003174, -4.124199867248535, -4.132599830627441, -4.209799766540527, -4.222099781036377, -4.3632001876831055, -4.367199897766113, -4.415500164031982, -4.526000022888184, -4.577000141143799, -4.583199977874756, -4.690400123596191, -4.71560001373291, -4.718500137329102, -4.728799819946289, -4.799799919128418, -4.8084001541137695, -4.815400123596191, -4.828700065612793, -4.867700099945068, -4.9141998291015625, -4.926799774169922, -5.014999866485596, -5.063199996948242, -5.0833001136779785, -5.08620023727417, -5.104000091552734, -5.109099864959717, -5.184500217437744, -4.345600128173828, -4.538000106811523, -4.8302001953125, -4.71150016784668, -2.9718000888824463, -3.2616000175476074, -3.5666000843048096, -3.886899948120117, -3.970099925994873, -4.001699924468994, -4.009099960327148, -4.088900089263916, -4.226099967956543, -4.2393999099731445, -4.247399806976318, -4.259900093078613, -4.417600154876709, -4.489799976348877, -4.59689998626709, -4.600399971008301, -4.600599765777588, -4.688000202178955, -4.714799880981445, -4.8144001960754395, -4.831500053405762, -4.869100093841553, -4.880300045013428, -4.899199962615967, -4.917699813842773, -4.9471001625061035, -4.979599952697754, -5.0208001136779785, -5.023099899291992, -5.054900169372559, -3.5209999084472656, -3.907900094985962, -3.4296000003814697, -4.339000225067139, -4.054299831390381, -3.8259999752044678, -4.524700164794922, -4.393099784851074, -4.665599822998047, -4.797599792480469, -2.9175000190734863, -3.6596999168395996, -3.8132998943328857, -3.8405001163482666, -3.8729000091552734, -3.8833000659942627, -3.9286000728607178, -4.017899990081787, -4.022600173950195, -4.031400203704834, -4.068399906158447, -4.077300071716309, -4.083099842071533, -4.1682000160217285, -4.2581000328063965, -4.290299892425537, -4.343800067901611, -4.356599807739258, -4.482399940490723, -4.485199928283691, -4.560999870300293, -4.611000061035156, -4.631700038909912, -4.760900020599365, -4.8379998207092285, -4.866499900817871, -4.922100067138672, -4.961299896240234, -5.007800102233887, -5.043300151824951, -4.086299896240234, -3.5160999298095703, -4.510700225830078, -4.856800079345703, -2.6593000888824463, -3.185800075531006, -3.610100030899048, -3.6110999584198, -3.7744998931884766, -3.8429999351501465, -4.020400047302246, -4.0854997634887695, -4.118299961090088, -4.124599933624268, -4.146699905395508, -4.196100234985352, -4.268099784851074, -4.290800094604492, -4.543900012969971, -4.557799816131592, -4.573699951171875, -4.5833001136779785, -4.6057000160217285, -4.632999897003174, -4.745699882507324, -4.770100116729736, -4.782199859619141, -4.816100120544434, -4.834400177001953, -4.85860013961792, -4.865099906921387, -4.899199962615967, -4.928899765014648, -4.974899768829346, -3.172800064086914, -4.034299850463867, -2.5536000728607178, -3.200700044631958, -3.3443000316619873, -3.3541998863220215, -3.527899980545044, -3.528899908065796, -3.7871999740600586, -4.019999980926514, -4.0370001792907715, -4.09499979019165, -4.134399890899658, -4.372300148010254, -4.438000202178955, -4.461400032043457, -4.560999870300293, -4.587500095367432, -4.625699996948242, -4.707799911499023, -4.758399963378906, -4.768899917602539, -4.769499778747559, -4.799699783325195, -4.812300205230713, -4.819300174713135, -4.90500020980835, -4.924300193786621, -4.94379997253418, -5.01230001449585, -5.020400047302246, -5.027400016784668, -3.710099935531616, -4.012899875640869, -3.8643999099731445, -4.529699802398682, -3.9052999019622803, -4.803400039672852, -4.5142998695373535, -2.855799913406372, -3.6698999404907227, -3.8327999114990234, -4.006499767303467, -4.152500152587891, -4.270500183105469, -4.281000137329102, -4.355400085449219, -4.382400035858154, -4.459700107574463, -4.584700107574463, -4.616300106048584, -4.725100040435791, -4.84250020980835, -4.86959981918335, -4.9232001304626465, -4.971199989318848, -4.988399982452393, -4.9959001541137695, -5.010200023651123, -5.012599945068359, -5.020299911499023, -5.037700176239014, -5.134300231933594, -5.140699863433838, -5.202199935913086, -5.205900192260742, -5.211299896240234, -5.240200042724609, -5.241799831390381, -4.500899791717529, -2.649899959564209, -2.6219000816345215, -3.7880001068115234, -3.9565000534057617, -4.368500232696533, -4.477099895477295, -2.4460999965667725, -2.7402000427246094, -2.9388999938964844, -3.253000020980835, -3.346400022506714, -3.4591000080108643, -3.587599992752075, -3.5920000076293945, -4.01039981842041, -4.061200141906738, -4.080599784851074, -4.2795000076293945, -4.294600009918213, -4.302499771118164, -4.307199954986572, -4.367199897766113, -4.4593000411987305, -4.499300003051758, -4.53980016708374, -4.608500003814697, -4.692699909210205, -4.775700092315674, -4.815700054168701, -4.850800037384033, -4.997799873352051, -5.035099983215332, -5.061699867248535, -5.1479997634887695, -5.158100128173828, -5.169099807739258, -4.014800071716309, -3.6731998920440674, -4.705599784851074, -2.9440999031066895, -3.243799924850464, -3.4807000160217285, -3.513400077819824, -3.6963000297546387, -3.773699998855591, -3.7743000984191895, -3.8907999992370605, -3.896699905395508, -3.921799898147583, -4.00029993057251, -4.077099800109863, -4.440499782562256, -4.504300117492676, -4.515399932861328, -4.637599945068359, -4.811200141906738, -4.8140997886657715, -4.828000068664551, -4.8582000732421875, -4.872700214385986, -4.886600017547607, -4.929200172424316, -4.931399822235107, -4.976600170135498, -4.987199783325195, -5.037099838256836, -5.083600044250488, -5.10129976272583, -5.128499984741211, -2.742300033569336, -4.695899963378906, -4.544400215148926, -4.45419979095459, -1.9601000547409058, -2.826200008392334, -3.11299991607666, -3.2290000915527344, -3.2834999561309814, -3.3499999046325684, -4.100599765777588, -4.208000183105469, -4.335400104522705, -4.368800163269043, -4.4994001388549805, -4.607900142669678, -4.65339994430542, -4.6596999168396, -4.72760009765625, -4.753900051116943, -4.779600143432617, -4.798500061035156, -4.817200183868408, -4.8420000076293945, -4.893799781799316, -4.934100151062012, -4.956699848175049, -4.956699848175049, -4.956699848175049, -4.956699848175049, -5.112400054931641, -5.120299816131592, -5.1508002281188965, -5.156300067901611, -3.2997000217437744, -4.782800197601318, -2.519700050354004, -3.0822999477386475, -3.2909998893737793, -3.9818999767303467, -4.224599838256836, -4.235400199890137, -4.301199913024902, -4.31689977645874, -4.4268999099731445, -4.480800151824951, -4.499599933624268, -4.515200138092041, -4.562900066375732, -4.607699871063232, -4.6244001388549805, -4.726399898529053, -4.761899948120117, -4.7947001457214355, -4.822700023651123, -4.844200134277344, -4.91379976272583, -4.93179988861084, -4.964700222015381, -5.029399871826172, -5.075500011444092, -5.101799964904785, -5.135300159454346, -5.1956000328063965, -5.265500068664551, -5.314899921417236, -3.925800085067749, -2.4137001037597656, -4.5106000900268555, -4.558499813079834, -4.723499774932861, -4.677499771118164, -2.9333999156951904, -3.2314999103546143, -3.284899950027466, -3.9365999698638916, -4.2104997634887695, -4.302599906921387, -4.306399822235107, -4.361400127410889, -4.521900177001953, -4.546999931335449, -4.587299823760986, -4.6057000160217285, -4.6118998527526855, -4.627099990844727, -4.697500228881836, -4.727799892425537, -4.756999969482422, -4.845699787139893, -4.883399963378906, -4.9019999504089355, -4.909200191497803, -4.962200164794922, -4.979599952697754, -4.993899822235107, -4.993899822235107, -4.995800018310547, -5.046599864959717, -5.064300060272217, -5.082300186157227, -5.084799766540527, -2.897900104522705, -3.85479998588562, -4.4430999755859375, -4.093400001525879, -4.852399826049805, -2.821199893951416, -2.8589000701904297, -2.934299945831299, -2.968899965286255, -3.0434999465942383, -3.309299945831299, -3.4358999729156494, -3.585900068283081, -3.655600070953369, -3.659899950027466, -3.759000062942505, -4.118000030517578, -4.269899845123291, -4.4274001121521, -4.458399772644043, -4.4741997718811035, -4.587500095367432, -4.587500095367432, -4.640500068664551, -4.743199825286865, -4.7677001953125, -4.780799865722656, -4.780799865722656, -4.780799865722656, -4.791600227355957, -4.791600227355957, -4.867700099945068, -4.98199987411499, -5.031799793243408, -5.0991997718811035, -3.562999963760376, -4.184899806976318, -4.889599800109863]}, \"token.table\": {\"Topic\": [9, 11, 13, 10, 17, 12, 12, 16, 3, 1, 7, 8, 1, 3, 17, 20, 14, 9, 16, 6, 4, 2, 2, 2, 10, 17, 19, 18, 7, 18, 7, 10, 14, 2, 1, 6, 4, 6, 4, 18, 11, 1, 3, 7, 19, 7, 4, 17, 13, 20, 2, 15, 11, 14, 14, 5, 12, 2, 7, 11, 12, 10, 12, 14, 2, 8, 14, 18, 3, 20, 2, 13, 12, 9, 19, 5, 8, 15, 10, 7, 2, 8, 7, 7, 13, 2, 20, 4, 19, 11, 6, 18, 20, 2, 16, 14, 19, 8, 10, 14, 9, 15, 5, 9, 12, 8, 7, 7, 7, 13, 12, 3, 12, 11, 11, 12, 13, 5, 19, 13, 1, 7, 13, 20, 15, 6, 5, 13, 6, 15, 19, 19, 5, 19, 1, 6, 10, 2, 12, 17, 6, 6, 18, 9, 4, 12, 4, 12, 12, 3, 9, 20, 10, 13, 11, 1, 6, 5, 11, 20, 20, 15, 6, 13, 3, 11, 5, 11, 9, 19, 10, 18, 14, 14, 15, 4, 18, 10, 2, 10, 5, 1, 15, 12, 19, 15, 10, 19, 5, 8, 1, 17, 12, 18, 7, 11, 6, 7, 5, 16, 15, 5, 7, 8, 6, 8, 16, 20, 6, 16, 19, 16, 9, 19, 9, 17, 11, 16, 6, 13, 2, 17, 3, 20, 19, 16, 15, 4, 12, 8, 1, 20, 7, 5, 3, 1, 13, 7, 3, 8, 9, 11, 17, 12, 7, 12, 14, 6, 3, 15, 10, 9, 5, 17, 1, 12, 4, 14, 10, 13, 1, 7, 11, 18, 19, 12, 14, 3, 2, 15, 7, 16, 7, 10, 14, 18, 11, 4, 7, 16, 4, 14, 11, 1, 6, 14, 2, 3, 3, 4, 7, 11, 13, 18, 4, 18, 20, 12, 4, 10, 19, 8, 9, 3, 14, 5, 13, 1, 8, 15, 3, 1, 11, 7, 6, 10, 18, 14, 10, 19, 20, 6, 16, 18, 19, 17, 8, 20, 14, 4, 10, 12, 8, 11, 10, 7, 4, 1, 18, 1, 14, 9, 1, 8, 14, 18, 6, 1, 4, 1, 15, 2, 14, 20, 19, 1, 4, 1, 12, 3, 9, 8, 6, 4, 14, 16, 19, 4, 6, 20, 2, 2, 13, 4, 2, 10, 14, 6, 14, 20, 4, 12, 15, 4, 8, 20, 6, 13, 18, 18, 7, 14, 6, 4, 16, 5, 14, 10, 18, 2, 17, 19, 20, 5, 18, 11, 18, 1, 2, 7, 15, 12, 8, 8, 10, 16, 15, 9, 15, 14, 3, 12, 16, 18, 13, 6, 8, 5, 18, 10, 2, 19, 9, 4, 16, 7, 11, 13, 3, 11, 8, 5, 17, 18, 9, 19, 20, 3, 1, 6, 1, 1, 1, 6, 15, 17, 10, 13, 1, 8, 1, 20, 10, 7, 6, 13, 7, 1, 18, 4, 10, 19, 8, 1, 2, 9, 9, 8, 16, 17, 4, 6, 1, 17, 14, 3, 11, 10, 10, 15, 5, 6, 7, 15, 5, 13, 10, 9, 1, 17, 13, 2, 20, 14, 20, 20, 1, 14, 8, 10, 16, 13, 20, 13, 9, 13, 19, 2, 11, 16, 14, 16, 18, 15, 8, 16, 2, 14, 14, 20, 12, 13, 1, 3, 7, 9, 17, 9, 17, 11, 9, 20, 18, 18, 17, 10, 11, 9, 17, 18, 19, 11, 20, 4, 18, 3, 5, 19, 6, 5, 13, 10, 7, 8, 2, 9, 13, 16, 4, 6, 17, 19, 1, 1, 6, 7, 17, 13, 16, 4, 19, 16, 18, 8, 6, 20, 16, 11, 6, 16, 17, 20, 3, 7, 4, 10, 4, 7, 19, 5, 13, 4, 1, 1, 5, 3, 14, 18, 6, 11, 18, 2, 7, 10, 5, 9, 17, 1, 15, 2, 12, 17, 7, 3, 15, 8, 7, 20, 9, 8, 9, 19, 1, 5, 16, 3, 2, 16, 17, 16, 15, 18, 7, 9, 6, 17, 15, 11, 8, 5, 16, 4, 12, 10, 1, 12, 6, 15, 3, 3, 9, 2, 15, 5, 10, 7, 3, 19, 9, 16, 3, 1, 18, 2, 16, 17, 5, 1, 13, 5, 8, 8, 7, 1, 3, 7, 19, 9, 2, 6, 8, 2, 4, 6, 6, 13, 15, 8, 5, 4, 19, 4, 16, 1, 2, 12, 4, 10, 15, 4, 1, 2, 3, 6, 11, 14, 3, 19, 19, 7, 8, 14, 7, 5, 18, 19, 7, 8, 10, 14, 17, 6, 7, 13, 16, 4, 13, 6, 8, 17, 5, 8, 3, 10, 4, 13, 13, 16, 18, 2, 15, 1, 10, 14, 15, 20, 8, 6, 7, 11, 10, 17, 5, 4, 7, 17, 2, 3, 17, 15, 17, 15, 11, 1, 12, 20, 20, 1, 2, 4, 11, 15, 16, 1, 11, 2, 7, 20], \"Freq\": [0.9906928539276123, 0.9920216798782349, 0.9334558248519897, 0.9771084785461426, 0.9037467837333679, 0.9775469303131104, 0.9485453963279724, 0.9715275764465332, 0.9623090028762817, 0.8778614401817322, 0.05016351118683815, 0.06688468158245087, 0.9775098562240601, 0.949802577495575, 0.9343369007110596, 0.9820160269737244, 0.9167853593826294, 0.9497054219245911, 0.025667713955044746, 0.9755753874778748, 0.9820074439048767, 0.989957869052887, 0.9858704805374146, 0.5651266574859619, 0.210980623960495, 0.022605067119002342, 0.19591058790683746, 0.9594235420227051, 0.8455360531806946, 0.14435981214046478, 0.522744357585907, 0.16888664662837982, 0.2975621819496155, 0.9873634576797485, 0.9915621280670166, 0.9809897541999817, 0.9804985523223877, 0.9663254022598267, 0.9332813024520874, 0.9398415088653564, 0.9760328531265259, 0.21183505654335022, 0.3106914162635803, 0.06590423732995987, 0.4048403203487396, 0.9567084908485413, 0.9312348365783691, 0.8982535600662231, 0.9761960506439209, 0.9840585589408875, 0.972973644733429, 0.9824846982955933, 0.9624965786933899, 0.9750754237174988, 0.9848383665084839, 0.9950896501541138, 0.978278636932373, 0.9945697784423828, 0.9745739698410034, 0.925067126750946, 0.9744704961776733, 0.9642421007156372, 0.9329091310501099, 0.9788953065872192, 0.981131374835968, 0.9936152100563049, 0.9533019661903381, 0.990327775478363, 0.9981836080551147, 0.9804053902626038, 0.9708703756332397, 0.9905955791473389, 0.9948278069496155, 0.9948644638061523, 0.9207573533058167, 0.9932031631469727, 0.9825947880744934, 0.9651166796684265, 0.9757236838340759, 0.9967170357704163, 0.9723028540611267, 0.9939589500427246, 0.99830162525177, 0.8919661641120911, 0.10291917622089386, 0.9884552359580994, 0.9915068745613098, 0.9874284863471985, 0.9673255681991577, 0.976743221282959, 0.9906176328659058, 0.9466948509216309, 0.9415701031684875, 0.9920258522033691, 0.9781314730644226, 0.9484456777572632, 0.9609602093696594, 0.26987797021865845, 0.5734906792640686, 0.15180636942386627, 0.9505764245986938, 0.9361552000045776, 0.9822756052017212, 0.9776792526245117, 0.9794101715087891, 0.9929280877113342, 0.951726496219635, 0.9983006715774536, 0.9932592511177063, 0.9617695212364197, 0.9495348334312439, 0.9868118166923523, 0.9969885945320129, 0.9765986800193787, 0.9734585285186768, 0.9529061913490295, 0.9742437601089478, 0.9821045994758606, 0.9697926044464111, 0.9838148951530457, 0.9892721176147461, 0.951285183429718, 0.9662454128265381, 0.9300140738487244, 0.9944009780883789, 0.9961190819740295, 0.9837275147438049, 0.977537989616394, 0.9779494404792786, 0.974953293800354, 0.9596927165985107, 0.9357194900512695, 0.9574278593063354, 0.9569563865661621, 0.9737744331359863, 0.018373101949691772, 0.9803637862205505, 0.9949723482131958, 0.9811562895774841, 0.956332266330719, 0.9961528182029724, 0.9597844481468201, 0.9651089906692505, 0.9522063732147217, 0.9776623845100403, 0.9918814897537231, 0.9326255917549133, 0.9874674081802368, 0.9738072156906128, 0.9652723073959351, 0.9877161979675293, 0.9579359292984009, 0.9760684370994568, 0.9418837428092957, 0.9567410945892334, 0.0233281459659338, 0.9681180715560913, 0.974921703338623, 0.25563305616378784, 0.7029908895492554, 0.9646162986755371, 0.9606680870056152, 0.9959678649902344, 0.9932511448860168, 0.977782130241394, 0.988814115524292, 0.9881783127784729, 0.9744642376899719, 0.9723052382469177, 0.9610604047775269, 0.9948377013206482, 0.9628447890281677, 0.976176917552948, 0.9623807668685913, 0.9857231974601746, 0.9438884258270264, 0.9663771390914917, 0.9304189682006836, 0.9698901176452637, 0.9517065286636353, 0.984917402267456, 0.9959776401519775, 0.9798715710639954, 0.9908750653266907, 0.9773935079574585, 0.9869630336761475, 0.9731639623641968, 0.9632441997528076, 0.9647800922393799, 0.9807236790657043, 0.9910403490066528, 0.9596012830734253, 0.9617567658424377, 0.9437863230705261, 0.9851944446563721, 0.9555053114891052, 0.915891170501709, 0.06661026179790497, 0.9234525561332703, 0.07130907475948334, 0.9290196895599365, 0.21625904738903046, 0.7569066882133484, 0.9905984997749329, 0.06212487816810608, 0.9318732023239136, 0.9910078644752502, 0.9415701031684875, 0.9908502101898193, 0.9842954874038696, 0.9593334197998047, 0.933182954788208, 0.957358717918396, 0.9715299606323242, 0.941823422908783, 0.9536724090576172, 0.9809423685073853, 0.9735978841781616, 0.9928787350654602, 0.9676989912986755, 0.6029051542282104, 0.35626211762428284, 0.9179779887199402, 0.06556985527276993, 0.9539708495140076, 0.9357599020004272, 0.9841694831848145, 0.21174722909927368, 0.7825440764427185, 0.9674515128135681, 0.5448904037475586, 0.4439848065376282, 0.9273826479911804, 0.9866714477539062, 0.9688820838928223, 0.9964423775672913, 0.9875016808509827, 0.9245709180831909, 0.9717354774475098, 0.9909413456916809, 0.9589399695396423, 0.98188716173172, 0.9510408639907837, 0.955361545085907, 0.9878971576690674, 0.9854157567024231, 0.9045058488845825, 0.99493807554245, 0.9768867492675781, 0.9974099397659302, 0.9785895347595215, 0.9652090668678284, 0.9412301778793335, 0.9177791476249695, 0.9919355511665344, 0.9606667160987854, 0.9863920211791992, 0.9908136129379272, 0.6087713241577148, 0.3844871520996094, 0.8352522253990173, 0.10851702094078064, 0.0032883945386856794, 0.04932591691613197, 0.0032883945386856794, 0.9791038036346436, 0.9671317934989929, 0.9674285650253296, 0.9953656792640686, 0.9982912540435791, 0.9771480560302734, 0.9383378624916077, 0.20557162165641785, 0.22425995767116547, 0.4111432433128357, 0.1588508039712906, 0.9698275327682495, 0.983309268951416, 0.9416718482971191, 0.9667196273803711, 0.11988682299852371, 0.8392077088356018, 0.9473083019256592, 0.7450501918792725, 0.24464334547519684, 0.9712106585502625, 0.9738616943359375, 0.9819117188453674, 0.9957467317581177, 0.9813278913497925, 0.11839289963245392, 0.8524289131164551, 0.11117257922887802, 0.8615875244140625, 0.8118398785591125, 0.17469972372055054, 0.9804053902626038, 0.9744002819061279, 0.26354607939720154, 0.36490997672080994, 0.36490997672080994, 0.9709711074829102, 0.9812396764755249, 0.9985015392303467, 0.9720696210861206, 0.9834628105163574, 0.9474775195121765, 0.9838876724243164, 0.9830242395401001, 0.9608274102210999, 0.9647283554077148, 0.9824023842811584, 0.989342987537384, 0.9907443523406982, 0.9788426756858826, 0.36743271350860596, 0.6286198496818542, 0.9638643264770508, 0.992459237575531, 0.9824665188789368, 0.9511426687240601, 0.9693285822868347, 0.9571415781974792, 0.9683824777603149, 0.9616184830665588, 0.9395089149475098, 0.9470004439353943, 0.9537268280982971, 0.9507089853286743, 0.9439669847488403, 0.9440818428993225, 0.9772092700004578, 0.9733365774154663, 0.9862193465232849, 0.9693277478218079, 0.9503044486045837, 0.9939596056938171, 0.978631854057312, 0.9450708627700806, 0.9701337218284607, 0.9091070890426636, 0.965004026889801, 0.8825823664665222, 0.11366590857505798, 0.9619338512420654, 0.8944975733757019, 0.9571870565414429, 0.21574187278747559, 0.7811343669891357, 0.987174391746521, 0.9663718342781067, 0.9117645025253296, 0.0860893502831459, 0.9363681674003601, 0.9259887337684631, 0.9862616062164307, 0.9438884258270264, 0.9943845272064209, 0.970119297504425, 0.9785505533218384, 0.9663037061691284, 0.9871362447738647, 0.9905893206596375, 0.7178308367729187, 0.2848534882068634, 0.9471831321716309, 0.9338530898094177, 0.4210444688796997, 0.5696483850479126, 0.99092698097229, 0.976172149181366, 0.981231153011322, 0.9884999990463257, 0.9671227335929871, 0.9937787652015686, 0.9894829392433167, 0.9099187850952148, 0.9801536202430725, 0.9730710387229919, 0.9819828271865845, 0.9652916789054871, 0.9715268611907959, 0.9971020817756653, 0.9438884258270264, 0.9896321296691895, 0.9387921094894409, 0.9896750450134277, 0.9809848070144653, 0.9357494115829468, 0.8990984559059143, 0.9870902299880981, 0.9602566361427307, 0.9876963496208191, 0.9683041572570801, 0.026897337287664413, 0.9967057704925537, 0.9766046404838562, 0.9589863419532776, 0.9310041666030884, 0.9847051501274109, 0.9902071356773376, 0.1260979324579239, 0.8406528830528259, 0.9960697889328003, 0.8927047848701477, 0.9483408331871033, 0.9377833008766174, 0.6071851253509521, 0.18620343506336212, 0.16191603243350983, 0.04047900810837746, 0.949323296546936, 0.9764878153800964, 0.9656628966331482, 0.9687274694442749, 0.9210768938064575, 0.9325628280639648, 0.9665651321411133, 0.9917723536491394, 0.9384344816207886, 0.9879987835884094, 0.970815122127533, 0.9793606400489807, 0.9611334204673767, 0.9589108824729919, 0.22387541830539703, 0.7719842195510864, 0.9834846258163452, 0.9385040998458862, 0.9739815592765808, 0.6898245811462402, 0.2956390976905823, 0.9761078953742981, 0.976402223110199, 0.900917112827301, 0.5792967081069946, 0.12158078700304031, 0.2932242453098297, 0.9825599193572998, 0.9900485277175903, 0.9797496795654297, 0.9820423126220703, 0.9451043009757996, 0.9906100630760193, 0.9709523916244507, 0.9904277324676514, 0.9849030375480652, 0.9774184823036194, 0.41424182057380676, 0.5753358602523804, 0.9952926635742188, 0.9808691143989563, 0.7568864226341248, 0.23547577857971191, 0.9382517337799072, 0.9870468974113464, 0.9886950850486755, 0.9650180339813232, 0.9973195195198059, 0.9683763980865479, 0.9279712438583374, 0.06512078642845154, 0.9837120175361633, 0.9641633033752441, 0.9599162340164185, 0.9653509259223938, 0.9778622388839722, 0.9911459684371948, 0.9818865060806274, 0.9921385645866394, 0.9854979515075684, 0.9415099620819092, 0.9886123538017273, 0.0033988370560109615, 0.9958592057228088, 0.9941067695617676, 0.9549123048782349, 0.959114134311676, 0.9930079579353333, 0.9435303211212158, 0.9438884258270264, 0.9872564673423767, 0.9808843731880188, 0.9854605197906494, 0.9606476426124573, 0.9934271574020386, 0.9780044555664062, 0.9569096565246582, 0.9946763515472412, 0.9907427430152893, 0.8343960046768188, 0.14638525247573853, 0.7407066226005554, 0.25395655632019043, 0.9927399158477783, 0.978074312210083, 0.9921833276748657, 0.9803922176361084, 0.9884419441223145, 0.9903959035873413, 0.9509046077728271, 0.9805147647857666, 0.9877062439918518, 0.9361623525619507, 0.9824549555778503, 0.9861919283866882, 0.997756838798523, 0.9077771306037903, 0.3195584714412689, 0.5730013847351074, 0.09917332231998444, 0.6457095742225647, 0.32285478711128235, 0.9555952548980713, 0.94643235206604, 0.9746825098991394, 0.9936409592628479, 0.9975269436836243, 0.957692563533783, 0.9377939105033875, 0.9549374580383301, 0.9784006476402283, 0.9616283774375916, 0.960170567035675, 0.9568274021148682, 0.9629613757133484, 0.9721112251281738, 0.9318404793739319, 0.9811636805534363, 0.9511426687240601, 0.9466792941093445, 0.9522953033447266, 0.3083666265010834, 0.6552790403366089, 0.5470920205116272, 0.444512277841568, 0.9174628257751465, 0.9825568795204163, 0.9174628257751465, 0.9802878499031067, 0.9759346842765808, 0.9088097214698792, 0.988401472568512, 0.971245527267456, 0.964177668094635, 0.9889370203018188, 0.9684295654296875, 0.9644510746002197, 0.9174628257751465, 0.9027951955795288, 0.9799122214317322, 0.9489517211914062, 0.9922037124633789, 0.8369569182395935, 0.13949280977249146, 0.034287236630916595, 0.9300413131713867, 0.030001332983374596, 0.9958774447441101, 0.9828378558158875, 0.9951747059822083, 0.9837895035743713, 0.9686153531074524, 0.9895650148391724, 0.978705108165741, 0.9585058689117432, 0.9819251298904419, 0.9507944583892822, 0.9602691531181335, 0.9887555241584778, 0.9730895757675171, 0.9412665963172913, 0.9786733984947205, 0.8326626420021057, 0.1633705198764801, 0.9874668717384338, 0.9174628257751465, 0.5199750065803528, 0.4704535901546478, 0.9820074439048767, 0.9223082065582275, 0.9799500703811646, 0.9790729284286499, 0.9962096214294434, 0.9432797431945801, 0.9622454643249512, 0.9662013053894043, 0.960129976272583, 0.9486592411994934, 0.9907411932945251, 0.969653844833374, 0.9468681812286377, 0.9937745332717896, 0.0036806464195251465, 0.9092719554901123, 0.08898074179887772, 0.9911350011825562, 0.9578210711479187, 0.9611064195632935, 0.9825776815414429, 0.9827272891998291, 0.9438884258270264, 0.9936255216598511, 0.992689847946167, 0.9739294052124023, 0.9854462742805481, 0.9433648586273193, 0.9838106036186218, 0.9353978633880615, 0.9679121375083923, 0.962912917137146, 0.9968518018722534, 0.5755459070205688, 0.41773495078086853, 0.9848673343658447, 0.8019346594810486, 0.1743336170911789, 0.9729588031768799, 0.9657149314880371, 0.8956512808799744, 0.0833163931965828, 0.8991799354553223, 0.9836573004722595, 0.960107147693634, 0.9414532780647278, 0.9769570231437683, 0.9783841371536255, 0.9496323466300964, 0.9710266590118408, 0.24421091377735138, 0.7326327562332153, 0.9779853820800781, 0.9969700574874878, 0.994723916053772, 0.9883937835693359, 0.9580240249633789, 0.9730794429779053, 0.6708006262779236, 0.29347527027130127, 0.9886105060577393, 0.9678008556365967, 0.9949985146522522, 0.9653254747390747, 0.9817255139350891, 0.9857181310653687, 0.9646633267402649, 0.9508562088012695, 0.9680925607681274, 0.9778410196304321, 0.9928144812583923, 0.9469921588897705, 0.9401438236236572, 0.9764549136161804, 0.9755714535713196, 0.7225342988967896, 0.2767152786254883, 0.86919105052948, 0.11589214205741882, 0.978295087814331, 0.9840521216392517, 0.9693708419799805, 0.9644020199775696, 0.9149852991104126, 0.9640954732894897, 0.9690033793449402, 0.972415030002594, 0.9601510167121887, 0.9173914194107056, 0.9664755463600159, 0.9098626375198364, 0.9965804815292358, 0.969878613948822, 0.029038282111287117, 0.9891811609268188, 0.9875670075416565, 0.9712573289871216, 0.9844251871109009, 0.9818224906921387, 0.9420821070671082, 0.6707925796508789, 0.3226597011089325, 0.9695805311203003, 0.9548577070236206, 0.5359465479850769, 0.2041701227426529, 0.0918765515089035, 0.1684403419494629, 0.9775368571281433, 0.8212001323699951, 0.05213969200849533, 0.11731430143117905, 0.965492844581604, 0.950659453868866, 0.9973684549331665, 0.09058868139982224, 0.4529434144496918, 0.4400021731853485, 0.9648391008377075, 0.9712499976158142, 0.9846705794334412, 0.9571351408958435, 0.44084662199020386, 0.5547732710838318, 0.9869246482849121, 0.011396358720958233, 0.9595319032669067, 0.9556032419204712, 0.9734921455383301, 0.9570272564888, 0.9639738202095032, 0.11013393849134445, 0.2936905026435852, 0.17131945490837097, 0.20803076028823853, 0.1468452513217926, 0.0734226256608963, 0.9937898516654968, 0.9697926044464111, 0.9708239436149597, 0.9947429895401001, 0.9729846715927124, 0.9512124061584473, 0.963567316532135, 0.9783118367195129, 0.9070026874542236, 0.9592292308807373, 0.051863398402929306, 0.23338529467582703, 0.20745359361171722, 0.5075204372406006, 0.979720413684845, 0.650200605392456, 0.34378424286842346, 0.979030191898346, 0.9503471851348877, 0.9692807197570801, 0.9493097066879272, 0.2790164053440094, 0.6975409984588623, 0.9734984636306763, 0.9823348522186279, 0.9914650321006775, 0.9456592798233032, 0.9817988872528076, 0.8662692904472351, 0.13145720958709717, 0.9925119280815125, 0.9855807423591614, 0.9803903102874756, 0.993831992149353, 0.9511148929595947, 0.4346528947353363, 0.02716580592095852, 0.4787973463535309, 0.05772733688354492, 0.9691476821899414, 0.993135392665863, 0.9534094929695129, 0.9719128012657166, 0.9751988649368286, 0.9722132086753845, 0.986766517162323, 0.9569202065467834, 0.38693955540657043, 0.08794080466032028, 0.5188507437705994, 0.9951858520507812, 0.9856600165367126, 0.9409419298171997, 0.9538630247116089, 0.9980276226997375, 0.9741868376731873, 0.9602937698364258, 0.9934101104736328, 0.9832692742347717, 0.9907927513122559, 0.8923793435096741, 0.8629686236381531, 0.006931474898010492, 0.010397212579846382, 0.11090359836816788, 0.008664343506097794, 0.975701630115509, 0.996770977973938, 0.939643383026123, 0.7615858912467957, 0.22968463599681854, 0.9415701031684875], \"Term\": [\"able\", \"abortion\", \"absolute\", \"absolutely\", \"abuela\", \"account\", \"action\", \"actively\", \"actual\", \"actually\", \"actually\", \"actually\", \"advise\", \"affect\", \"aged\", \"agenda\", \"alienate\", \"allow\", \"allow\", \"almost\", \"almost_identical\", \"alone\", \"already\", \"also\", \"also\", \"also\", \"also\", \"amazing\", \"america\", \"america\", \"american\", \"american\", \"american\", \"answer\", \"anyone\", \"anything\", \"appear\", \"appoint\", \"appointment\", \"argue\", \"argument\", \"article\", \"article\", \"article\", \"article\", \"ask\", \"assertion\", \"asshole\", \"atlanta\", \"attack\", \"attempt\", \"attention\", \"audience\", \"average\", \"away\", \"back\", \"bad\", \"bank\", \"barack\", \"barrier\", \"base\", \"be\", \"beat\", \"become\", \"begin\", \"believe\", \"benefit\", \"bern\", \"bernie\", \"bet\", \"better\", \"big\", \"bill\", \"black\", \"branch\", \"break\", \"bring\", \"bullshit\", \"bunch\", \"bush\", \"business\", \"call\", \"campaign\", \"candidate\", \"candidate\", \"care\", \"carson\", \"case\", \"caucus\", \"chance\", \"change\", \"charge\", \"chat\", \"child\", \"choose\", \"citizen\", \"citizen_unit\", \"city\", \"city\", \"city\", \"civil\", \"civil_servant\", \"claim\", \"class\", \"classified\", \"clear\", \"clearly\", \"clinton\", \"close\", \"closing\", \"club\", \"college\", \"come\", \"comment\", \"community\", \"company\", \"compare\", \"completely\", \"comprised_copied\", \"conclusion\", \"confirm\", \"confirmation\", \"conform\", \"confused\", \"congress\", \"conservative\", \"consider\", \"constituent\", \"constitutional\", \"continue\", \"continuous_quote\", \"contrast\", \"corporate\", \"corrupt\", \"could\", \"could\", \"count\", \"country\", \"couple\", \"course\", \"court\", \"create\", \"credit\", \"crime\", \"cruz\", \"current\", \"currently\", \"cut\", \"cycle\", \"damn\", \"datum\", \"death\", \"debate\", \"debt\", \"decency\", \"decide\", \"decide\", \"decision\", \"defend\", \"defend\", \"definitely\", \"demand\", \"democrat\", \"democratic\", \"desperate\", \"difference\", \"different\", \"discrimination_lgbt\", \"dislike\", \"diverse\", \"do\", \"document\", \"domain\", \"dream\", \"drive\", \"earned_contrarily\", \"easy\", \"economist\", \"effect\", \"effective\", \"elect\", \"election\", \"else\", \"email\", \"email_address\", \"employee\", \"end\", \"endorse\", \"endorsement\", \"enough\", \"entire\", \"entirely\", \"environment\", \"equal\", \"especially\", \"essentially\", \"establishment\", \"establishment\", \"even\", \"even\", \"event\", \"ever\", \"ever\", \"everyone\", \"everything\", \"everything\", \"exactly\", \"excited\", \"exist\", \"experience\", \"explain\", \"extreme\", \"extremely\", \"eye\", \"face\", \"facebook_video\", \"fact\", \"factor\", \"fail\", \"failure\", \"fair\", \"fair\", \"family\", \"family\", \"favor\", \"fear\", \"federal\", \"feel\", \"feel\", \"female\", \"fight\", \"fight\", \"financial_institution\", \"find\", \"firewall\", \"first\", \"flint\", \"florida\", \"fly\", \"force\", \"forefront\", \"foreign_policy\", \"forget\", \"form\", \"former\", \"fort\", \"foundation\", \"free\", \"front_page\", \"fuck\", \"funny\", \"future\", \"gain\", \"game\", \"general\", \"george\", \"georgia\", \"get\", \"give\", \"give\", \"go\", \"go\", \"go\", \"go\", \"go\", \"goal\", \"goddamn\", \"goldman_sach\", \"good\", \"government\", \"governor\", \"grab\", \"great\", \"great\", \"great\", \"great\", \"group\", \"guide\", \"gun\", \"guy\", \"half\", \"half\", \"hand\", \"happen\", \"happen\", \"happy\", \"hard\", \"hate\", \"headline\", \"health\", \"health_care\", \"health_care\", \"healthcare\", \"healthcare\", \"hear\", \"hear\", \"hedge\", \"hell\", \"high\", \"high\", \"high\", \"high_energy\", \"hilary\", \"hillary\", \"hipster\", \"hispanic\", \"history\", \"hold\", \"holy\", \"home\", \"honestly\", \"hope\", \"hour\", \"house\", \"however\", \"http\", \"http\", \"husband\", \"idea\", \"identify\", \"ideological_purist\", \"ideologue\", \"idiot\", \"illegal\", \"illinois\", \"imagine\", \"important\", \"impossible\", \"improve_life\", \"increasingly\", \"individual\", \"industry\", \"influence\", \"information\", \"inspire\", \"instead\", \"insurance\", \"interest\", \"interested\", \"interesting\", \"intervention\", \"iowa_hampshire\", \"issue\", \"issue\", \"job\", \"journal\", \"judge\", \"justice\", \"justice\", \"keep\", \"kind\", \"know\", \"know\", \"koolaid\", \"lack\", \"large\", \"larger_electorate\", \"last\", \"later\", \"latino\", \"law\", \"lead\", \"least\", \"leave\", \"leave\", \"let\", \"leverage\", \"liberal\", \"liberal\", \"life\", \"lift\", \"like\", \"likely\", \"limit\", \"line\", \"link\", \"list\", \"literally\", \"little\", \"live\", \"local\", \"longer\", \"look\", \"looking_promotion\", \"lose\", \"loud\", \"love\", \"low\", \"lucky\", \"lump\", \"main\", \"maintain_status\", \"majority\", \"make\", \"make\", \"many\", \"mark\", \"marketing\", \"material\", \"matter\", \"may\", \"maybe\", \"maybe\", \"mean\", \"medicaid\", \"medical\", \"medicare\", \"medium\", \"medium\", \"medium\", \"medium\", \"meet\", \"member\", \"mention\", \"message\", \"middle\", \"middle_east\", \"millennial\", \"mind\", \"mindblowing\", \"minority\", \"miss\", \"moderate\", \"moment\", \"momentum\", \"money\", \"money\", \"month\", \"morehouse\", \"moron\", \"mostly\", \"mostly\", \"move\", \"movement\", \"movie\", \"much\", \"much\", \"much\", \"must\", \"name\", \"national\", \"nearly\", \"neck\", \"need\", \"neighborhood\", \"nevada\", \"never\", \"news\", \"next\", \"next\", \"nominate\", \"nomination\", \"nominee\", \"nominee\", \"none\", \"nonhispanic\", \"not\", \"number\", \"obama\", \"obstructionist\", \"office\", \"office\", \"often\", \"online\", \"oppose\", \"page\", \"panic\", \"part\", \"particular\", \"party\", \"passionate\", \"paste\", \"pay\", \"people\", \"people\", \"percent\", \"percentage\", \"perhaps\", \"person\", \"personal\", \"perspective_naturally\", \"pick\", \"place\", \"plan\", \"planned_parenthood\", \"platform\", \"play\", \"plenty\", \"point\", \"policy\", \"politic\", \"politic\", \"political\", \"political\", \"poll\", \"polltr\", \"population\", \"portion\", \"position\", \"post\", \"potential\", \"poverty\", \"power\", \"preach\", \"precedent\", \"presidency\", \"president\", \"prestige\", \"pretty\", \"pretty\", \"pretty\", \"prevent\", \"prevent\", \"previous\", \"price\", \"primary\", \"probably\", \"problem\", \"process\", \"product\", \"program\", \"prohillary\", \"properly\", \"protest\", \"protester\", \"prove\", \"public\", \"public_university\", \"pull\", \"purge_establishment\", \"pursue\", \"quickly\", \"quote\", \"quote\", \"race\", \"race\", \"raceethnicity\", \"racial\", \"racialethnic_group\", \"racism\", \"racism_sexism\", \"raise\", \"rally\", \"random\", \"rapist\", \"rate\", \"rather\", \"ratio\", \"ratio_decreas\", \"rcirclejerk\", \"read\", \"ready\", \"real\", \"reality\", \"reality\", \"really\", \"really\", \"really\", \"reason\", \"reasonable\", \"record\", \"reddit\", \"redirect\", \"refuse\", \"regardless\", \"register\", \"registration\", \"reject\", \"remain\", \"remember\", \"remove\", \"reno\", \"report\", \"republican\", \"republican\", \"respect\", \"respectively\", \"result\", \"result\", \"resume_capability\", \"return\", \"revolution\", \"ridiculous\", \"right\", \"rise\", \"rival\", \"romney\", \"rpolitic\", \"rule\", \"run\", \"running\", \"safe\", \"sander\", \"sander\", \"say\", \"say\", \"scalia\", \"search\", \"second\", \"secretary\", \"see\", \"seeking_serve\", \"seem\", \"senate\", \"senator\", \"serious\", \"seriously\", \"server\", \"several\", \"sexism\", \"ship\", \"shit\", \"show\", \"show\", \"side\", \"sign\", \"sign\", \"similar\", \"simply\", \"single\", \"single\", \"sinister\", \"site\", \"slogan\", \"slow\", \"small\", \"smear\", \"snowden\", \"social\", \"solve\", \"solve\", \"somebody\", \"someone\", \"something\", \"sometimes\", \"soon\", \"sound\", \"source\", \"source\", \"south\", \"south_carolina\", \"speak\", \"speaker\", \"speech\", \"spend\", \"spin\", \"stance\", \"stand\", \"start\", \"state\", \"stating_fact\", \"status\", \"stay\", \"step\", \"still\", \"still\", \"stop\", \"stop\", \"story\", \"straight\", \"stream\", \"strong\", \"student\", \"study\", \"stuff\", \"stupid\", \"succeed\", \"suggest\", \"super\", \"supply\", \"support\", \"supporter\", \"supporter\", \"suppose\", \"sure\", \"surely\", \"surprise\", \"surprised\", \"surround\", \"system\", \"system\", \"table\", \"tactic\", \"take\", \"take\", \"take\", \"take\", \"taking_advantage\", \"talk\", \"talk\", \"talk\", \"tax\", \"team\", \"tell\", \"term\", \"term\", \"term\", \"terrible\", \"texas\", \"thank\", \"theory\", \"thing\", \"thing\", \"think\", \"think\", \"thinking\", \"thoma\", \"thread\", \"throw\", \"tilli\", \"time\", \"time\", \"time\", \"time\", \"time\", \"time\", \"title\", \"title_appropriate\", \"toby\", \"today\", \"tomorrow\", \"tool\", \"topic\", \"tough\", \"town\", \"trade\", \"trump\", \"trump\", \"trump\", \"trump\", \"trust\", \"try\", \"try\", \"turn\", \"type\", \"uber\", \"unable\", \"understand\", \"understand\", \"understanding\", \"upset\", \"use\", \"version\", \"video\", \"vote\", \"vote\", \"voter\", \"voting\", \"wage\", \"wall_street\", \"walmart\", \"want\", \"want\", \"want\", \"want\", \"warren\", \"water\", \"way\", \"website\", \"week\", \"weird\", \"well\", \"whatev\", \"white\", \"white\", \"white\", \"whole\", \"win\", \"wing_conspiracy\", \"wish\", \"woman\", \"wonder\", \"word\", \"work\", \"worker\", \"world\", \"worth\", \"would\", \"would\", \"would\", \"would\", \"would\", \"wrong\", \"year\", \"york\", \"young\", \"young\", \"youtube\"]}, \"R\": 30, \"lambda.step\": 0.01, \"plot.opts\": {\"xlab\": \"PC1\", \"ylab\": \"PC2\"}, \"topic.order\": [8, 12, 19, 3, 20, 6, 2, 15, 18, 11, 5, 1, 14, 10, 9, 13, 4, 17, 16, 7]};\n",
       "\n",
       "function LDAvis_load_lib(url, callback){\n",
       "  var s = document.createElement('script');\n",
       "  s.src = url;\n",
       "  s.async = true;\n",
       "  s.onreadystatechange = s.onload = callback;\n",
       "  s.onerror = function(){console.warn(\"failed to load library \" + url);};\n",
       "  document.getElementsByTagName(\"head\")[0].appendChild(s);\n",
       "}\n",
       "\n",
       "if(typeof(LDAvis) !== \"undefined\"){\n",
       "   // already loaded: just create the visualization\n",
       "   !function(LDAvis){\n",
       "       new LDAvis(\"#\" + \"ldavis_el821861122498010085091665199\", ldavis_el821861122498010085091665199_data);\n",
       "   }(LDAvis);\n",
       "}else if(typeof define === \"function\" && define.amd){\n",
       "   // require.js is available: use it to load d3/LDAvis\n",
       "   require.config({paths: {d3: \"https://cdnjs.cloudflare.com/ajax/libs/d3/3.5.5/d3.min\"}});\n",
       "   require([\"d3\"], function(d3){\n",
       "      window.d3 = d3;\n",
       "      LDAvis_load_lib(\"https://cdn.rawgit.com/bmabey/pyLDAvis/files/ldavis.v1.0.0.js\", function(){\n",
       "        new LDAvis(\"#\" + \"ldavis_el821861122498010085091665199\", ldavis_el821861122498010085091665199_data);\n",
       "      });\n",
       "    });\n",
       "}else{\n",
       "    // require.js not available: dynamically load d3 & LDAvis\n",
       "    LDAvis_load_lib(\"https://cdnjs.cloudflare.com/ajax/libs/d3/3.5.5/d3.min.js\", function(){\n",
       "         LDAvis_load_lib(\"https://cdn.rawgit.com/bmabey/pyLDAvis/files/ldavis.v1.0.0.js\", function(){\n",
       "                 new LDAvis(\"#\" + \"ldavis_el821861122498010085091665199\", ldavis_el821861122498010085091665199_data);\n",
       "            })\n",
       "         });\n",
       "}\n",
       "</script>"
      ],
      "text/plain": [
       "PreparedData(topic_coordinates=            Freq  cluster  topics         x         y\n",
       "topic                                                \n",
       "7      13.874097        1       1 -0.320928 -0.061614\n",
       "11     10.720254        1       2 -0.105069  0.041894\n",
       "18      6.443686        1       3 -0.167946  0.139857\n",
       "2       5.517880        1       4  0.114792  0.028435\n",
       "19      5.366857        1       5  0.034380  0.174097\n",
       "5       5.360128        1       6 -0.124426  0.004781\n",
       "1       5.359236        1       7 -0.054906 -0.170710\n",
       "14      5.199317        1       8  0.010053 -0.100582\n",
       "17      5.151007        1       9  0.077287  0.088819\n",
       "10      4.661750        1      10  0.100968 -0.234608\n",
       "4       3.887136        1      11 -0.093569  0.042107\n",
       "0       3.661806        1      12  0.046348  0.082032\n",
       "13      3.543770        1      13  0.102442 -0.021404\n",
       "9       3.500549        1      14  0.021692 -0.182120\n",
       "8       3.436013        1      15  0.013530 -0.027968\n",
       "12      3.158005        1      16  0.134122  0.089407\n",
       "3       2.886248        1      17  0.092922  0.074120\n",
       "16      2.864946        1      18  0.077179 -0.093711\n",
       "15      2.823192        1      19 -0.016006  0.059191\n",
       "6       2.584122        1      20  0.057136  0.067977, topic_info=     Category        Freq                 Term       Total  loglift  logprob\n",
       "term                                                                        \n",
       "500   Default  543.000000               sander  543.000000  30.0000  30.0000\n",
       "256   Default  522.000000               bernie  522.000000  29.0000  29.0000\n",
       "56    Default  588.000000               people  588.000000  28.0000  28.0000\n",
       "100   Default  388.000000              hillary  388.000000  27.0000  27.0000\n",
       "736   Default  347.000000              clinton  347.000000  26.0000  26.0000\n",
       "215   Default  359.000000                  say  359.000000  25.0000  25.0000\n",
       "199   Default  316.000000             campaign  316.000000  24.0000  24.0000\n",
       "45    Default  577.000000                would  577.000000  23.0000  23.0000\n",
       "29    Default  438.000000                think  438.000000  22.0000  22.0000\n",
       "133   Default  225.000000                woman  225.000000  21.0000  21.0000\n",
       "44    Default  296.000000                 vote  296.000000  20.0000  20.0000\n",
       "230   Default  280.000000                 even  280.000000  19.0000  19.0000\n",
       "194   Default  260.000000                 make  260.000000  18.0000  18.0000\n",
       "23    Default  362.000000            president  362.000000  17.0000  17.0000\n",
       "185   Default  255.000000              support  255.000000  16.0000  16.0000\n",
       "512   Default  228.000000                black  228.000000  15.0000  15.0000\n",
       "131   Default  294.000000                 want  294.000000  14.0000  14.0000\n",
       "54    Default  225.000000                 http  225.000000  13.0000  13.0000\n",
       "408   Default  233.000000               really  233.000000  12.0000  12.0000\n",
       "241   Default  269.000000                trump  269.000000  11.0000  11.0000\n",
       "20    Default  288.000000                obama  288.000000  10.0000  10.0000\n",
       "136   Default  165.000000           government  165.000000   9.0000   9.0000\n",
       "197   Default  201.000000                thing  201.000000   8.0000   8.0000\n",
       "31    Default  271.000000                 year  271.000000   7.0000   7.0000\n",
       "321   Default  204.000000            candidate  204.000000   6.0000   6.0000\n",
       "378   Default  153.000000                voter  153.000000   5.0000   5.0000\n",
       "172   Default  233.000000                 good  233.000000   4.0000   4.0000\n",
       "153   Default  255.000000                 know  255.000000   3.0000   3.0000\n",
       "567   Default  168.000000                state  168.000000   2.0000   2.0000\n",
       "1     Default  212.000000              article  212.000000   1.0000   1.0000\n",
       "...       ...         ...                  ...         ...      ...      ...\n",
       "155   Topic20   73.355797                never   74.118973   3.6454  -2.9689\n",
       "1068  Topic20   68.083206                power   68.846382   3.6446  -3.0435\n",
       "1063  Topic20   52.190907                 live   52.954082   3.6413  -3.3093\n",
       "188   Topic20   45.982010               attack   46.745186   3.6393  -3.4359\n",
       "1139  Topic20   39.579460               carson   40.342636   3.6367  -3.5859\n",
       "524   Topic20   36.914417               agenda   37.677593   3.6353  -3.6556\n",
       "1717  Topic20   36.754875           presidency   37.518051   3.6352  -3.6599\n",
       "158   Topic20   33.287361               warren   34.050537   3.6331  -3.7590\n",
       "1675  Topic20   23.246778                death   24.009956   3.6235  -4.1180\n",
       "530   Topic20   19.970455           definitely   20.733633   3.6183  -4.2699\n",
       "2587  Topic20   17.061632           impossible   17.824810   3.6120  -4.4274\n",
       "1135  Topic20   16.540415            precedent   17.303593   3.6107  -4.4584\n",
       "1684  Topic20   16.279999                 loud   17.043177   3.6100  -4.4742\n",
       "2956  Topic20   14.536616                hedge   15.299793   3.6046  -4.5875\n",
       "2954  Topic20   14.536616                  bet   15.299793   3.6046  -4.5875\n",
       "1846  Topic20   13.786125                rival   14.549302   3.6019  -4.6405\n",
       "542   Topic20   12.440907                raise   13.204084   3.5962  -4.7432\n",
       "1674  Topic20   12.139853             confused   12.903030   3.5948  -4.7677\n",
       "3017  Topic20   11.981493                 chat   12.744670   3.5940  -4.7808\n",
       "3018  Topic20   11.981493              excited   12.744670   3.5940  -4.7808\n",
       "3019  Topic20   11.981493              youtube   12.744670   3.5940  -4.7808\n",
       "4093  Topic20   11.853227   ideological_purist   12.616404   3.5934  -4.7916\n",
       "4094  Topic20   11.853227  purge_establishment   12.616404   3.5934  -4.7916\n",
       "2959  Topic20   10.984339              koolaid   11.747516   3.5886  -4.8677\n",
       "1718  Topic20    9.797956                 safe   10.561132   3.5808  -4.9820\n",
       "496   Topic20    9.322220                worth   10.085397   3.5771  -5.0318\n",
       "1847  Topic20    8.714171              snowden    9.477352   3.5718  -5.0992\n",
       "189   Topic20   40.495552                maybe   47.582066   3.4945  -3.5630\n",
       "532   Topic20   21.742590                fight   49.551247   2.8320  -4.1849\n",
       "1714  Topic20   10.746361               defend   15.647429   3.2800  -4.8896\n",
       "\n",
       "[755 rows x 6 columns], token_table=      Topic      Freq              Term\n",
       "term                                   \n",
       "1297      9  0.990693              able\n",
       "2038     11  0.992022          abortion\n",
       "674      13  0.933456          absolute\n",
       "579      10  0.977108        absolutely\n",
       "2933     17  0.903747            abuela\n",
       "168      12  0.977547           account\n",
       "72       12  0.948545            action\n",
       "3184     16  0.971528          actively\n",
       "2102      3  0.962309            actual\n",
       "291       1  0.877861          actually\n",
       "291       7  0.050164          actually\n",
       "291       8  0.066885          actually\n",
       "2482      1  0.977510            advise\n",
       "1693      3  0.949803            affect\n",
       "4020     17  0.934337              aged\n",
       "524      20  0.982016            agenda\n",
       "2869     14  0.916785          alienate\n",
       "926       9  0.949705             allow\n",
       "926      16  0.025668             allow\n",
       "264       6  0.975575            almost\n",
       "3679      4  0.982007  almost_identical\n",
       "1102      2  0.989958             alone\n",
       "832       2  0.985870           already\n",
       "936       2  0.565127              also\n",
       "936      10  0.210981              also\n",
       "936      17  0.022605              also\n",
       "936      19  0.195911              also\n",
       "243      18  0.959424           amazing\n",
       "224       7  0.845536           america\n",
       "224      18  0.144360           america\n",
       "...     ...       ...               ...\n",
       "716       7  0.971913           website\n",
       "1588     11  0.975199              week\n",
       "659      10  0.972213             weird\n",
       "380      17  0.986767              well\n",
       "1296      5  0.956920            whatev\n",
       "578       4  0.386940             white\n",
       "578       7  0.087941             white\n",
       "578      17  0.518851             white\n",
       "987       2  0.995186             whole\n",
       "921       3  0.985660               win\n",
       "1636     17  0.940942   wing_conspiracy\n",
       "549      15  0.953863              wish\n",
       "133      17  0.998028             woman\n",
       "417      15  0.974187            wonder\n",
       "381      11  0.960294              word\n",
       "134       1  0.993410              work\n",
       "804      12  0.983269            worker\n",
       "1388     20  0.990793             world\n",
       "496      20  0.892379             worth\n",
       "45        1  0.862969             would\n",
       "45        2  0.006931             would\n",
       "45        4  0.010397             would\n",
       "45       11  0.110904             would\n",
       "45       15  0.008664             would\n",
       "418      16  0.975702             wrong\n",
       "31        1  0.996771              year\n",
       "1270     11  0.939643              york\n",
       "1046      2  0.761586             young\n",
       "1046      7  0.229685             young\n",
       "3019     20  0.941570           youtube\n",
       "\n",
       "[788 rows x 3 columns], R=30, lambda_step=0.01, plot_opts={'xlab': 'PC1', 'ylab': 'PC2'}, topic_order=[8, 12, 19, 3, 20, 6, 2, 15, 18, 11, 5, 1, 14, 10, 9, 13, 4, 17, 16, 7])"
      ]
     },
     "execution_count": 473,
     "metadata": {},
     "output_type": "execute_result"
    }
   ],
   "source": [
    "# Visualize the topics\n",
    "pyLDAvis.enable_notebook()\n",
    "vis = pyLDAvis.gensim.prepare(lda_model, corpus, id2word)\n",
    "vis"
   ]
  },
  {
   "cell_type": "code",
   "execution_count": 474,
   "metadata": {},
   "outputs": [],
   "source": []
  },
  {
   "cell_type": "code",
   "execution_count": null,
   "metadata": {},
   "outputs": [],
   "source": []
  },
  {
   "cell_type": "markdown",
   "metadata": {},
   "source": [
    "#### Let's do some Sentiment Analysis too"
   ]
  },
  {
   "cell_type": "code",
   "execution_count": 449,
   "metadata": {},
   "outputs": [],
   "source": [
    "sentimentScoresOnly = news.Text.apply(lambda x: TextBlob(x).sentiment[0])\n",
    "sentimentScores = news.Text.apply(lambda x: TextBlob(x).sentiment)"
   ]
  },
  {
   "cell_type": "code",
   "execution_count": null,
   "metadata": {},
   "outputs": [],
   "source": [
    "sentimentScores.head()"
   ]
  },
  {
   "cell_type": "code",
   "execution_count": 450,
   "metadata": {},
   "outputs": [],
   "source": [
    "sentimentScores.to_csv('ReviewsSentiment.csv')"
   ]
  },
  {
   "cell_type": "code",
   "execution_count": 451,
   "metadata": {},
   "outputs": [],
   "source": [
    "## get the respective counts for all the reviews\n",
    "# if the polarity is above 0.75 Extremely Positive\n",
    "# if the polarity is between 0.5-0.74 Very Positive\n",
    "# if the polarity is between 0.2-0.5 Positive\n",
    "# if the polarity is between -0.2 to 0.2 Neutral\n",
    "# if the polarity is between -0.2 to -0.5 Negative\n",
    "# if the polarity is between -0.5 to -0.74 Very Negative\n",
    "# if the polarity is less than -0.75 Extremely Negative"
   ]
  },
  {
   "cell_type": "code",
   "execution_count": 452,
   "metadata": {},
   "outputs": [],
   "source": [
    "allReviewsSentimentDF = sentimentScoresOnly.to_frame()"
   ]
  },
  {
   "cell_type": "code",
   "execution_count": 453,
   "metadata": {},
   "outputs": [
    {
     "data": {
      "text/html": [
       "<div>\n",
       "<style scoped>\n",
       "    .dataframe tbody tr th:only-of-type {\n",
       "        vertical-align: middle;\n",
       "    }\n",
       "\n",
       "    .dataframe tbody tr th {\n",
       "        vertical-align: top;\n",
       "    }\n",
       "\n",
       "    .dataframe thead th {\n",
       "        text-align: right;\n",
       "    }\n",
       "</style>\n",
       "<table border=\"1\" class=\"dataframe\">\n",
       "  <thead>\n",
       "    <tr style=\"text-align: right;\">\n",
       "      <th></th>\n",
       "      <th>Text</th>\n",
       "    </tr>\n",
       "  </thead>\n",
       "  <tbody>\n",
       "    <tr>\n",
       "      <th>0</th>\n",
       "      <td>0.228571</td>\n",
       "    </tr>\n",
       "    <tr>\n",
       "      <th>2</th>\n",
       "      <td>-0.025000</td>\n",
       "    </tr>\n",
       "    <tr>\n",
       "      <th>3</th>\n",
       "      <td>0.000000</td>\n",
       "    </tr>\n",
       "    <tr>\n",
       "      <th>4</th>\n",
       "      <td>-0.025000</td>\n",
       "    </tr>\n",
       "    <tr>\n",
       "      <th>5</th>\n",
       "      <td>-0.333333</td>\n",
       "    </tr>\n",
       "  </tbody>\n",
       "</table>\n",
       "</div>"
      ],
      "text/plain": [
       "       Text\n",
       "0  0.228571\n",
       "2 -0.025000\n",
       "3  0.000000\n",
       "4 -0.025000\n",
       "5 -0.333333"
      ]
     },
     "execution_count": 453,
     "metadata": {},
     "output_type": "execute_result"
    }
   ],
   "source": [
    "allReviewsSentimentDF.head()"
   ]
  },
  {
   "cell_type": "code",
   "execution_count": 455,
   "metadata": {},
   "outputs": [],
   "source": [
    "# Create a list to store the data\n",
    "grades = []\n",
    "\n",
    "# For each row in the column,\n",
    "for row in allReviewsSentimentDF['Text']:\n",
    "    # if more than a value,\n",
    "    if row >= 0.75:\n",
    "       grades.append('Extremely Positive')\n",
    "    elif (row >= 0.5) & (row < 0.75):\n",
    "        grades.append('Very Positive')\n",
    "    elif (row >= 0.2) & (row < 0.5):\n",
    "        grades.append('Positive')\n",
    "    elif (row >= -0.2) & (row < 0.2):\n",
    "        grades.append('Neutral')\n",
    "    elif (row > -0.5) & (row <= -0.2):\n",
    "        grades.append('Negative')\n",
    "    elif (row >= -0.75) & (row < -0.5):\n",
    "        grades.append('Very Negative')\n",
    "    elif  row < -0.75:\n",
    "        grades.append('Extremely Dis-Negative')\n",
    "    else:\n",
    "        # Append a failing grade\n",
    "        grades.append('No Sentiment')\n"
   ]
  },
  {
   "cell_type": "code",
   "execution_count": 457,
   "metadata": {},
   "outputs": [],
   "source": [
    "# Create a column from the list\n",
    "allReviewsSentimentDF['SentimentScore'] = grades"
   ]
  },
  {
   "cell_type": "code",
   "execution_count": 458,
   "metadata": {},
   "outputs": [
    {
     "data": {
      "text/html": [
       "<div>\n",
       "<style scoped>\n",
       "    .dataframe tbody tr th:only-of-type {\n",
       "        vertical-align: middle;\n",
       "    }\n",
       "\n",
       "    .dataframe tbody tr th {\n",
       "        vertical-align: top;\n",
       "    }\n",
       "\n",
       "    .dataframe thead th {\n",
       "        text-align: right;\n",
       "    }\n",
       "</style>\n",
       "<table border=\"1\" class=\"dataframe\">\n",
       "  <thead>\n",
       "    <tr style=\"text-align: right;\">\n",
       "      <th></th>\n",
       "      <th>Text</th>\n",
       "      <th>SentimentScore</th>\n",
       "    </tr>\n",
       "  </thead>\n",
       "  <tbody>\n",
       "    <tr>\n",
       "      <th>0</th>\n",
       "      <td>0.228571</td>\n",
       "      <td>Positive</td>\n",
       "    </tr>\n",
       "    <tr>\n",
       "      <th>2</th>\n",
       "      <td>-0.025000</td>\n",
       "      <td>Neutral</td>\n",
       "    </tr>\n",
       "    <tr>\n",
       "      <th>3</th>\n",
       "      <td>0.000000</td>\n",
       "      <td>Neutral</td>\n",
       "    </tr>\n",
       "    <tr>\n",
       "      <th>4</th>\n",
       "      <td>-0.025000</td>\n",
       "      <td>Neutral</td>\n",
       "    </tr>\n",
       "    <tr>\n",
       "      <th>5</th>\n",
       "      <td>-0.333333</td>\n",
       "      <td>Negative</td>\n",
       "    </tr>\n",
       "  </tbody>\n",
       "</table>\n",
       "</div>"
      ],
      "text/plain": [
       "       Text SentimentScore\n",
       "0  0.228571       Positive\n",
       "2 -0.025000        Neutral\n",
       "3  0.000000        Neutral\n",
       "4 -0.025000        Neutral\n",
       "5 -0.333333       Negative"
      ]
     },
     "execution_count": 458,
     "metadata": {},
     "output_type": "execute_result"
    }
   ],
   "source": [
    "allReviewsSentimentDF.head()"
   ]
  },
  {
   "cell_type": "code",
   "execution_count": 459,
   "metadata": {},
   "outputs": [
    {
     "data": {
      "text/plain": [
       "Neutral                   2363\n",
       "Positive                   612\n",
       "Negative                   272\n",
       "Very Positive              188\n",
       "Extremely Positive          64\n",
       "Very Negative               35\n",
       "No Sentiment                34\n",
       "Extremely Dis-Negative      31\n",
       "Name: SentimentScore, dtype: int64"
      ]
     },
     "execution_count": 459,
     "metadata": {},
     "output_type": "execute_result"
    }
   ],
   "source": [
    "allReviewsSentimentDF.SentimentScore.value_counts()"
   ]
  },
  {
   "cell_type": "code",
   "execution_count": 460,
   "metadata": {},
   "outputs": [
    {
     "data": {
      "text/plain": [
       "<matplotlib.axes._subplots.AxesSubplot at 0x1a27157208>"
      ]
     },
     "execution_count": 460,
     "metadata": {},
     "output_type": "execute_result"
    },
    {
     "data": {
      "image/png": "[encoded data removed]",
      "text/plain": [
       "<matplotlib.figure.Figure at 0x1a295db400>"
      ]
     },
     "metadata": {},
     "output_type": "display_data"
    }
   ],
   "source": [
    "allReviewsSentimentDF['SentimentScore'].value_counts().plot(kind='bar')"
   ]
  },
  {
   "cell_type": "markdown",
   "metadata": {},
   "source": [
    "# Named Entity Recognition"
   ]
  },
  {
   "cell_type": "code",
   "execution_count": 423,
   "metadata": {},
   "outputs": [
    {
     "data": {
      "text/plain": [
       "'judging picture worry getting woody definitely twobagger'"
      ]
     },
     "execution_count": 423,
     "metadata": {},
     "output_type": "execute_result"
    }
   ],
   "source": [
    "news.iloc[161,0]"
   ]
  },
  {
   "cell_type": "markdown",
   "metadata": {},
   "source": [
    "#### The process starts here\n",
    "We tried Spcy, NLTK and StanfordNLP."
   ]
  },
  {
   "cell_type": "code",
   "execution_count": 482,
   "metadata": {},
   "outputs": [
    {
     "name": "stdout",
     "output_type": "stream",
     "text": [
      "[]\n"
     ]
    }
   ],
   "source": [
    "## Using Spacy\n",
    "doc = nlp('''actually  we had elections in 2010  2012 and 2014  They RESULTED in the currently republican held senate  who has to confirm anyone John might nominate ''')\n",
    "print([(X.text, X.label_) for X in doc.ents])"
   ]
  },
  {
   "cell_type": "code",
   "execution_count": 174,
   "metadata": {},
   "outputs": [],
   "source": [
    "## Using NLTK "
   ]
  },
  {
   "cell_type": "code",
   "execution_count": 415,
   "metadata": {},
   "outputs": [
    {
     "name": "stdout",
     "output_type": "stream",
     "text": [
      "[('Polio Did Nt End', 'PERSON')]\n"
     ]
    }
   ],
   "source": [
    "doc = '''actually  we had elections in 2010  2012 and 2014  They London in the currently republican held senate  who has to confirm anyone Obama might nominate '''\n",
    "doc = 'curing polio did nt end racismsexism it was still a good idea '\n",
    "doc = doc.title()\n",
    "# tokenize doc\n",
    "tokenized_doc = nltk.word_tokenize(doc)\n",
    "\n",
    "# tag sentences and use nltk's Named Entity Chunker\n",
    "tagged_sentences = nltk.pos_tag(tokenized_doc)\n",
    "ne_chunked_sents = nltk.ne_chunk(tagged_sentences)\n",
    "\n",
    "# extract all named entities\n",
    "named_entities = []\n",
    "for tagged_tree in ne_chunked_sents:\n",
    "    if hasattr(tagged_tree, 'label'):\n",
    "        entity_name = ' '.join(c[0] for c in tagged_tree.leaves()) #\n",
    "        entity_type = tagged_tree.label() # get NE category\n",
    "        named_entities.append((entity_name, entity_type))\n",
    "print(named_entities)"
   ]
  },
  {
   "cell_type": "code",
   "execution_count": 263,
   "metadata": {},
   "outputs": [],
   "source": [
    "for i in range(2,len(news)):\n",
    "    doc = news.iloc[i,0]\n",
    "    # tokenize doc\n",
    "    tokenized_doc = nltk.word_tokenize(doc)\n",
    "\n",
    "    # tag sentences and use nltk's Named Entity Chunker\n",
    "    tagged_sentences = nltk.pos_tag(tokenized_doc)\n",
    "    ne_chunked_sents = nltk.ne_chunk(tagged_sentences)\n",
    "\n",
    "    # extract all named entities\n",
    "    named_entities = []\n",
    "    for tagged_tree in ne_chunked_sents:\n",
    "        if hasattr(tagged_tree, 'label'):\n",
    "            entity_name = ' '.join(c[0] for c in tagged_tree.leaves()) #\n",
    "            entity_type = tagged_tree.label() # get NE category\n",
    "            named_entities.append((entity_name, entity_type))\n",
    "    #print(named_entities)"
   ]
  },
  {
   "cell_type": "markdown",
   "metadata": {},
   "source": [
    "#### Using Stanford Named Entity Recognizer here"
   ]
  },
  {
   "cell_type": "code",
   "execution_count": 264,
   "metadata": {},
   "outputs": [],
   "source": [
    "from nltk import sent_tokenize\n",
    "from nltk import word_tokenize\n",
    "from nltk.tag import StanfordNERTagger\n",
    "from itertools import groupby"
   ]
  },
  {
   "cell_type": "code",
   "execution_count": 408,
   "metadata": {},
   "outputs": [],
   "source": [
    "text = 'curing polio did nt end racismsexism John it was still a good idea '\n",
    "#text = text.title()\n",
    "#text"
   ]
  },
  {
   "cell_type": "code",
   "execution_count": 409,
   "metadata": {},
   "outputs": [],
   "source": [
    "sentences = sent_tokenize(text)\n",
    "tokenized_sentences = [word_tokenize(sentence) for sentence in sentences]"
   ]
  },
  {
   "cell_type": "code",
   "execution_count": 410,
   "metadata": {},
   "outputs": [],
   "source": [
    "sn_3class = StanfordNERTagger('/Users/vaibhav.verdhan/Documents/Self/Start/Reddit/stanford-ner-2018-10-16/classifiers/english.all.3class.distsim.crf.ser.gz',\n",
    "                       path_to_jar='/Users/vaibhav.verdhan/Documents/Self/Start/Reddit/stanford-ner-2018-10-16/stanford-ner.jar')"
   ]
  },
  {
   "cell_type": "code",
   "execution_count": 411,
   "metadata": {},
   "outputs": [],
   "source": [
    "ne_annot_sent_3c = [sn_3class.tag(sent) for sent in tokenized_sentences]"
   ]
  },
  {
   "cell_type": "code",
   "execution_count": 476,
   "metadata": {},
   "outputs": [
    {
     "name": "stdout",
     "output_type": "stream",
     "text": [
      "Persons' names found: ['John']\n"
     ]
    }
   ],
   "source": [
    "persons_sn_3class = []\n",
    "for annot_sent in ne_annot_sent_3c:\n",
    "    for annot_token in annot_sent:\n",
    "        if annot_token[1] == 'PERSON':\n",
    "            persons_sn_3class.append(annot_token[0])\n",
    "print(\"Persons' names found:\", persons_sn_3class)"
   ]
  },
  {
   "cell_type": "code",
   "execution_count": 303,
   "metadata": {},
   "outputs": [],
   "source": [
    "sn_4class = StanfordNERTagger('/Users/vaibhav.verdhan/Documents/Self/Start/Reddit/stanford-ner-2018-10-16/classifiers/english.conll.4class.distsim.crf.ser.gz',\n",
    "                       path_to_jar='/Users/vaibhav.verdhan/Documents/Self/Start/Reddit/stanford-ner-2018-10-16/stanford-ner.jar')"
   ]
  },
  {
   "cell_type": "code",
   "execution_count": 304,
   "metadata": {},
   "outputs": [],
   "source": [
    "ne_annot_sent_4c = [sn_4class.tag(sent) for sent in tokenized_sentences]"
   ]
  },
  {
   "cell_type": "code",
   "execution_count": 305,
   "metadata": {},
   "outputs": [
    {
     "name": "stdout",
     "output_type": "stream",
     "text": [
      "Persons' names found: ['Obama']\n"
     ]
    }
   ],
   "source": [
    "persons_sn_4class = []\n",
    "for annot_sent in ne_annot_sent_4c:\n",
    "#     print (annot_sent)\n",
    "    for annot_token in annot_sent:\n",
    "        if annot_token[1] == 'PERSON':\n",
    "            persons_sn_4class.append(annot_token[0])\n",
    "print(\"Persons' names found:\", persons_sn_4class)"
   ]
  },
  {
   "cell_type": "code",
   "execution_count": 481,
   "metadata": {},
   "outputs": [],
   "source": [
    "def get_individuals(ne_annot_sent):\n",
    "    individuals = []\n",
    "    for annot_sent in ne_annot_sent:\n",
    "        #print(annot_sent)\n",
    "        for tag, chunk in groupby(annot_sent, lambda x:x[1]):\n",
    "            if (tag == \"PERSON\"):\n",
    "                individuals.append(\" \".join(w for w, t in chunk))                \n",
    "    return individuals"
   ]
  },
  {
   "cell_type": "code",
   "execution_count": 307,
   "metadata": {},
   "outputs": [
    {
     "name": "stdout",
     "output_type": "stream",
     "text": [
      "['Obama'] \n",
      "\n",
      " ['Obama']\n"
     ]
    }
   ],
   "source": [
    "print(persons_sn_3class, '\\n\\n', get_individuals(ne_annot_sent_3c))"
   ]
  },
  {
   "cell_type": "code",
   "execution_count": 308,
   "metadata": {},
   "outputs": [
    {
     "name": "stdout",
     "output_type": "stream",
     "text": [
      "['Obama'] \n",
      "\n",
      " ['Obama']\n"
     ]
    }
   ],
   "source": [
    "print(persons_sn_4class, '\\n\\n', get_individuals(ne_annot_sent_4c))"
   ]
  },
  {
   "cell_type": "code",
   "execution_count": 233,
   "metadata": {},
   "outputs": [],
   "source": [
    "import spacy \n",
    "from spacy.lang.en.examples import sentences\n",
    "nlp = spacy.load('en')\n",
    "import en_core_web_sm"
   ]
  },
  {
   "cell_type": "code",
   "execution_count": 352,
   "metadata": {},
   "outputs": [],
   "source": [
    "text = 'CLASSY PRESIDENT NORMALLY RESERVED GIVING OPINION UPCOMING GENERAL ELECTION'\n",
    "document = nlp(text)"
   ]
  },
  {
   "cell_type": "code",
   "execution_count": 353,
   "metadata": {},
   "outputs": [
    {
     "data": {
      "text/plain": [
       "CLASSY PRESIDENT NORMALLY RESERVED GIVING OPINION UPCOMING GENERAL ELECTION JOHN"
      ]
     },
     "execution_count": 353,
     "metadata": {},
     "output_type": "execute_result"
    }
   ],
   "source": [
    "document"
   ]
  },
  {
   "cell_type": "code",
   "execution_count": 354,
   "metadata": {},
   "outputs": [
    {
     "data": {
      "text/plain": [
       "[CLASSY PRESIDENT NORMALLY RESERVED GIVING OPINION,\n",
       " UPCOMING GENERAL ELECTION JOHN]"
      ]
     },
     "execution_count": 354,
     "metadata": {},
     "output_type": "execute_result"
    }
   ],
   "source": [
    "list(document.sents)"
   ]
  },
  {
   "cell_type": "code",
   "execution_count": 355,
   "metadata": {},
   "outputs": [
    {
     "name": "stdout",
     "output_type": "stream",
     "text": [
      "[]\n"
     ]
    }
   ],
   "source": [
    "entities = [e.string for e in document.ents if 'PERSON'==e.label_] \n",
    "entities = list(entities) \n",
    "print (entities)"
   ]
  },
  {
   "cell_type": "code",
   "execution_count": null,
   "metadata": {},
   "outputs": [],
   "source": [
    "#### Convert the entire text to uppercase"
   ]
  },
  {
   "cell_type": "code",
   "execution_count": 314,
   "metadata": {},
   "outputs": [
    {
     "data": {
      "text/plain": [
       "0    DISCLAIMER THINK OBAMA NOMINATE SOMEONE SENATE...\n",
       "2    EITHER PROCESS DRAGGED ELECTION VOTE SENATE WO...\n",
       "3    REPUBLICAN ALWAYS BATTLED SEVERE CASE SELECTIV...\n",
       "4    POLITICS DIFFERENT BACK PEOPLE SIDE LEAST PRET...\n",
       "5    EQUALLY RIDICULOUS 1970 REVIEW ARTICLE MCCONNE...\n",
       "Name: Text, dtype: object"
      ]
     },
     "execution_count": 314,
     "metadata": {},
     "output_type": "execute_result"
    }
   ],
   "source": [
    "news.Text.head()"
   ]
  },
  {
   "cell_type": "code",
   "execution_count": 315,
   "metadata": {},
   "outputs": [
    {
     "data": {
      "text/plain": [
       "CLASSY PRESIDENT NORMALLY RESERVED GIVING OPINION UPCOMING GENERAL ELECTION"
      ]
     },
     "execution_count": 315,
     "metadata": {},
     "output_type": "execute_result"
    }
   ],
   "source": [
    "document = nlp(news.iloc[11,0])\n",
    "document"
   ]
  },
  {
   "cell_type": "code",
   "execution_count": 269,
   "metadata": {},
   "outputs": [
    {
     "data": {
      "text/plain": [
       "'CLASSY PRESIDENT NORMALLY RESERVED GIVING OPINION UPCOMING GENERAL ELECTION'"
      ]
     },
     "execution_count": 269,
     "metadata": {},
     "output_type": "execute_result"
    }
   ],
   "source": [
    "news.iloc[11,0]"
   ]
  },
  {
   "cell_type": "code",
   "execution_count": 477,
   "metadata": {},
   "outputs": [
    {
     "name": "stdout",
     "output_type": "stream",
     "text": [
      "Loaded 400000 word vectors.\n"
     ]
    }
   ],
   "source": [
    "#### Lets classify the words instead\n",
    "data = {\n",
    "  'Names': ['john','jay','dan','nathan','bob', 'obama', 'hillary'],\n",
    "  'Offices': ['president', 'secretary','senator'],\n",
    "  'Places': ['tokyo','bejing','washington','new york','florida','mumbai'],\n",
    "}\n",
    "# Words -> category\n",
    "categories = {word: key for key, words in data.items() for word in words}\n",
    "\n",
    "# Load the whole embedding matrix\n",
    "embeddings_index = {}\n",
    "with open('/Users/vaibhav.verdhan/Documents/Self/Start/Reddit/glove/glove.6B.100d.txt') as f:\n",
    "  for line in f:\n",
    "    values = line.split()\n",
    "    word = values[0]\n",
    "    embed = np.array(values[1:], dtype=np.float32)\n",
    "    embeddings_index[word] = embed\n",
    "print('Loaded %s word vectors.' % len(embeddings_index))\n",
    "# Embeddings for available words\n",
    "data_embeddings = {key: value for key, value in embeddings_index.items() if key in categories.keys()}\n",
    "# Testing\n"
   ]
  },
  {
   "cell_type": "code",
   "execution_count": 478,
   "metadata": {},
   "outputs": [],
   "source": [
    "# Processing the query\n",
    "def process(query):\n",
    "  query_embed = embeddings_index[query]\n",
    "  scores = {}\n",
    "  for word, embed in data_embeddings.items():\n",
    "    category = categories[word]\n",
    "    dist = query_embed.dot(embed)\n",
    "    dist /= len(data[category])\n",
    "    scores[category] = scores.get(category, 0) + dist\n",
    "  return scores"
   ]
  },
  {
   "cell_type": "code",
   "execution_count": 485,
   "metadata": {},
   "outputs": [
    {
     "name": "stdout",
     "output_type": "stream",
     "text": [
      "{'Offices': 9.94483208656311, 'Names': 6.383474281855992, 'Places': 9.216219986478489}\n"
     ]
    }
   ],
   "source": [
    "print(process('paris'))"
   ]
  },
  {
   "cell_type": "code",
   "execution_count": 247,
   "metadata": {},
   "outputs": [],
   "source": [
    "from nltk import word_tokenize, pos_tag, ne_chunk"
   ]
  },
  {
   "cell_type": "code",
   "execution_count": 248,
   "metadata": {},
   "outputs": [],
   "source": [
    "NEROutput = []\n",
    "\n",
    "for i in range(2,len(news)):\n",
    "    nerOutput = (ne_chunk(pos_tag(word_tokenize(news.iloc[i,0]))))\n",
    "    #print(nerOutput.label)\n",
    "    #print(nerOutput.subtrees)\n",
    "    #print(nerOutput.leaves())\n",
    "    #NPs = ([word for word,pos in nerOutput.leaves() if pos=='NNP'])\n",
    "    NPs = ([word for word,pos in nerOutput.leaves() if pos=='NN'])\n",
    "    if(len(NPs) > 0):\n",
    "        NEROutput.append(NPs)"
   ]
  },
  {
   "cell_type": "code",
   "execution_count": 259,
   "metadata": {},
   "outputs": [],
   "source": [
    "#NEROutput"
   ]
  },
  {
   "cell_type": "code",
   "execution_count": 250,
   "metadata": {},
   "outputs": [
    {
     "data": {
      "text/plain": [
       "list"
      ]
     },
     "execution_count": 250,
     "metadata": {},
     "output_type": "execute_result"
    }
   ],
   "source": [
    "type(NEROutput)"
   ]
  },
  {
   "cell_type": "code",
   "execution_count": 251,
   "metadata": {},
   "outputs": [],
   "source": [
    "NERDF = pd.DataFrame(NEROutput)"
   ]
  },
  {
   "cell_type": "code",
   "execution_count": 252,
   "metadata": {},
   "outputs": [
    {
     "data": {
      "text/plain": [
       "(3451, 411)"
      ]
     },
     "execution_count": 252,
     "metadata": {},
     "output_type": "execute_result"
    }
   ],
   "source": [
    "NERDF.shape"
   ]
  },
  {
   "cell_type": "code",
   "execution_count": 253,
   "metadata": {},
   "outputs": [
    {
     "data": {
      "text/html": [
       "<div>\n",
       "<style scoped>\n",
       "    .dataframe tbody tr th:only-of-type {\n",
       "        vertical-align: middle;\n",
       "    }\n",
       "\n",
       "    .dataframe tbody tr th {\n",
       "        vertical-align: top;\n",
       "    }\n",
       "\n",
       "    .dataframe thead th {\n",
       "        text-align: right;\n",
       "    }\n",
       "</style>\n",
       "<table border=\"1\" class=\"dataframe\">\n",
       "  <thead>\n",
       "    <tr style=\"text-align: right;\">\n",
       "      <th></th>\n",
       "      <th>0</th>\n",
       "      <th>1</th>\n",
       "      <th>2</th>\n",
       "      <th>3</th>\n",
       "      <th>4</th>\n",
       "      <th>5</th>\n",
       "      <th>6</th>\n",
       "      <th>7</th>\n",
       "      <th>8</th>\n",
       "      <th>9</th>\n",
       "      <th>...</th>\n",
       "      <th>401</th>\n",
       "      <th>402</th>\n",
       "      <th>403</th>\n",
       "      <th>404</th>\n",
       "      <th>405</th>\n",
       "      <th>406</th>\n",
       "      <th>407</th>\n",
       "      <th>408</th>\n",
       "      <th>409</th>\n",
       "      <th>410</th>\n",
       "    </tr>\n",
       "  </thead>\n",
       "  <tbody>\n",
       "    <tr>\n",
       "      <th>0</th>\n",
       "      <td>case</td>\n",
       "      <td>amnesia</td>\n",
       "      <td>None</td>\n",
       "      <td>None</td>\n",
       "      <td>None</td>\n",
       "      <td>None</td>\n",
       "      <td>None</td>\n",
       "      <td>None</td>\n",
       "      <td>None</td>\n",
       "      <td>None</td>\n",
       "      <td>...</td>\n",
       "      <td>None</td>\n",
       "      <td>None</td>\n",
       "      <td>None</td>\n",
       "      <td>None</td>\n",
       "      <td>None</td>\n",
       "      <td>None</td>\n",
       "      <td>None</td>\n",
       "      <td>None</td>\n",
       "      <td>None</td>\n",
       "      <td>None</td>\n",
       "    </tr>\n",
       "    <tr>\n",
       "      <th>1</th>\n",
       "      <td>http</td>\n",
       "      <td>wwwnytimescom19871112usreagannominatesanthonyk...</td>\n",
       "      <td>None</td>\n",
       "      <td>None</td>\n",
       "      <td>None</td>\n",
       "      <td>None</td>\n",
       "      <td>None</td>\n",
       "      <td>None</td>\n",
       "      <td>None</td>\n",
       "      <td>None</td>\n",
       "      <td>...</td>\n",
       "      <td>None</td>\n",
       "      <td>None</td>\n",
       "      <td>None</td>\n",
       "      <td>None</td>\n",
       "      <td>None</td>\n",
       "      <td>None</td>\n",
       "      <td>None</td>\n",
       "      <td>None</td>\n",
       "      <td>None</td>\n",
       "      <td>None</td>\n",
       "    </tr>\n",
       "    <tr>\n",
       "      <th>2</th>\n",
       "      <td>review</td>\n",
       "      <td>article</td>\n",
       "      <td>mcconnell</td>\n",
       "      <td>dominion</td>\n",
       "      <td>court</td>\n",
       "      <td>nomination</td>\n",
       "      <td>process</td>\n",
       "      <td>http</td>\n",
       "      <td>imgurcompbeveod</td>\n",
       "      <td>None</td>\n",
       "      <td>...</td>\n",
       "      <td>None</td>\n",
       "      <td>None</td>\n",
       "      <td>None</td>\n",
       "      <td>None</td>\n",
       "      <td>None</td>\n",
       "      <td>None</td>\n",
       "      <td>None</td>\n",
       "      <td>None</td>\n",
       "      <td>None</td>\n",
       "      <td>None</td>\n",
       "    </tr>\n",
       "    <tr>\n",
       "      <th>3</th>\n",
       "      <td>somehow</td>\n",
       "      <td>thought</td>\n",
       "      <td>place</td>\n",
       "      <td>striker</td>\n",
       "      <td>meaning</td>\n",
       "      <td>cross</td>\n",
       "      <td>picket</td>\n",
       "      <td>line</td>\n",
       "      <td>choice</td>\n",
       "      <td>date</td>\n",
       "      <td>...</td>\n",
       "      <td>None</td>\n",
       "      <td>None</td>\n",
       "      <td>None</td>\n",
       "      <td>None</td>\n",
       "      <td>None</td>\n",
       "      <td>None</td>\n",
       "      <td>None</td>\n",
       "      <td>None</td>\n",
       "      <td>None</td>\n",
       "      <td>None</td>\n",
       "    </tr>\n",
       "    <tr>\n",
       "      <th>4</th>\n",
       "      <td>government</td>\n",
       "      <td>None</td>\n",
       "      <td>None</td>\n",
       "      <td>None</td>\n",
       "      <td>None</td>\n",
       "      <td>None</td>\n",
       "      <td>None</td>\n",
       "      <td>None</td>\n",
       "      <td>None</td>\n",
       "      <td>None</td>\n",
       "      <td>...</td>\n",
       "      <td>None</td>\n",
       "      <td>None</td>\n",
       "      <td>None</td>\n",
       "      <td>None</td>\n",
       "      <td>None</td>\n",
       "      <td>None</td>\n",
       "      <td>None</td>\n",
       "      <td>None</td>\n",
       "      <td>None</td>\n",
       "      <td>None</td>\n",
       "    </tr>\n",
       "  </tbody>\n",
       "</table>\n",
       "<p>5 rows × 411 columns</p>\n",
       "</div>"
      ],
      "text/plain": [
       "          0                                                  1          2    \\\n",
       "0        case                                            amnesia       None   \n",
       "1        http  wwwnytimescom19871112usreagannominatesanthonyk...       None   \n",
       "2      review                                            article  mcconnell   \n",
       "3     somehow                                            thought      place   \n",
       "4  government                                               None       None   \n",
       "\n",
       "        3        4           5        6     7                8     9    ...   \\\n",
       "0      None     None        None     None  None             None  None  ...    \n",
       "1      None     None        None     None  None             None  None  ...    \n",
       "2  dominion    court  nomination  process  http  imgurcompbeveod  None  ...    \n",
       "3   striker  meaning       cross   picket  line           choice  date  ...    \n",
       "4      None     None        None     None  None             None  None  ...    \n",
       "\n",
       "    401   402   403   404   405   406   407   408   409   410  \n",
       "0  None  None  None  None  None  None  None  None  None  None  \n",
       "1  None  None  None  None  None  None  None  None  None  None  \n",
       "2  None  None  None  None  None  None  None  None  None  None  \n",
       "3  None  None  None  None  None  None  None  None  None  None  \n",
       "4  None  None  None  None  None  None  None  None  None  None  \n",
       "\n",
       "[5 rows x 411 columns]"
      ]
     },
     "execution_count": 253,
     "metadata": {},
     "output_type": "execute_result"
    }
   ],
   "source": [
    "NERDF.head()"
   ]
  },
  {
   "cell_type": "code",
   "execution_count": 254,
   "metadata": {},
   "outputs": [
    {
     "data": {
      "text/plain": [
       "bernie             110\n",
       "clinton             87\n",
       "sander              77\n",
       "trump               58\n",
       "thing               55\n",
       "article             49\n",
       "president           45\n",
       "bill                43\n",
       "someone             38\n",
       "obama               35\n",
       "year                33\n",
       "anyone              32\n",
       "government          29\n",
       "election            26\n",
       "medium              26\n",
       "party               26\n",
       "democrat            25\n",
       "voter               25\n",
       "vote                24\n",
       "revolution          24\n",
       "need                24\n",
       "http                23\n",
       "point               23\n",
       "woman               22\n",
       "time                21\n",
       "secretary           20\n",
       "course              20\n",
       "economist           20\n",
       "comment             19\n",
       "carson              19\n",
       "                  ... \n",
       "stop                 1\n",
       "purpose              1\n",
       "textualism           1\n",
       "branch               1\n",
       "folk                 1\n",
       "welp                 1\n",
       "deficit              1\n",
       "voice                1\n",
       "quality              1\n",
       "shot                 1\n",
       "louie                1\n",
       "exit                 1\n",
       "ticket               1\n",
       "confirmation         1\n",
       "speaker              1\n",
       "racist               1\n",
       "rachael              1\n",
       "rtitlegore           1\n",
       "pray                 1\n",
       "hypocrite            1\n",
       "record               1\n",
       "sake                 1\n",
       "kingdom              1\n",
       "whitewater           1\n",
       "college              1\n",
       "wwwarkancidecom      1\n",
       "reserve              1\n",
       "wealth               1\n",
       "schumer              1\n",
       "wonder               1\n",
       "Name: 0, Length: 662, dtype: int64"
      ]
     },
     "execution_count": 254,
     "metadata": {},
     "output_type": "execute_result"
    }
   ],
   "source": [
    "NERDF[0].value_counts()"
   ]
  },
  {
   "cell_type": "code",
   "execution_count": null,
   "metadata": {},
   "outputs": [],
   "source": []
  },
  {
   "cell_type": "code",
   "execution_count": null,
   "metadata": {},
   "outputs": [],
   "source": []
  },
  {
   "cell_type": "code",
   "execution_count": null,
   "metadata": {},
   "outputs": [],
   "source": []
  },
  {
   "cell_type": "code",
   "execution_count": null,
   "metadata": {},
   "outputs": [],
   "source": []
  },
  {
   "cell_type": "code",
   "execution_count": null,
   "metadata": {},
   "outputs": [],
   "source": []
  },
  {
   "cell_type": "code",
   "execution_count": null,
   "metadata": {},
   "outputs": [],
   "source": []
  },
  {
   "cell_type": "code",
   "execution_count": null,
   "metadata": {},
   "outputs": [],
   "source": []
  },
  {
   "cell_type": "code",
   "execution_count": null,
   "metadata": {},
   "outputs": [],
   "source": []
  },
  {
   "cell_type": "code",
   "execution_count": null,
   "metadata": {},
   "outputs": [],
   "source": []
  },
  {
   "cell_type": "code",
   "execution_count": null,
   "metadata": {},
   "outputs": [],
   "source": []
  },
  {
   "cell_type": "code",
   "execution_count": null,
   "metadata": {},
   "outputs": [],
   "source": []
  },
  {
   "cell_type": "code",
   "execution_count": null,
   "metadata": {},
   "outputs": [],
   "source": []
  },
  {
   "cell_type": "code",
   "execution_count": null,
   "metadata": {},
   "outputs": [],
   "source": []
  },
  {
   "cell_type": "code",
   "execution_count": null,
   "metadata": {},
   "outputs": [],
   "source": []
  },
  {
   "cell_type": "code",
   "execution_count": null,
   "metadata": {},
   "outputs": [],
   "source": []
  },
  {
   "cell_type": "markdown",
   "metadata": {},
   "source": [
    "# Let's do the Topic Modelling Now"
   ]
  },
  {
   "cell_type": "code",
   "execution_count": 214,
   "metadata": {},
   "outputs": [],
   "source": []
  },
  {
   "cell_type": "code",
   "execution_count": 215,
   "metadata": {},
   "outputs": [],
   "source": [
    "# NLTK Stop words\n",
    "from nltk.corpus import stopwords\n",
    "stop_words = stopwords.words('english')\n",
    "stop_words.extend(['from', 'subject', 're', 'edu', 'use'])"
   ]
  },
  {
   "cell_type": "code",
   "execution_count": 221,
   "metadata": {},
   "outputs": [
    {
     "data": {
      "text/html": [
       "<div>\n",
       "<style scoped>\n",
       "    .dataframe tbody tr th:only-of-type {\n",
       "        vertical-align: middle;\n",
       "    }\n",
       "\n",
       "    .dataframe tbody tr th {\n",
       "        vertical-align: top;\n",
       "    }\n",
       "\n",
       "    .dataframe thead th {\n",
       "        text-align: right;\n",
       "    }\n",
       "</style>\n",
       "<table border=\"1\" class=\"dataframe\">\n",
       "  <thead>\n",
       "    <tr style=\"text-align: right;\">\n",
       "      <th></th>\n",
       "      <th>Text</th>\n",
       "    </tr>\n",
       "  </thead>\n",
       "  <tbody>\n",
       "    <tr>\n",
       "      <th>0</th>\n",
       "      <td>disclaimer think obama nominate someone senate...</td>\n",
       "    </tr>\n",
       "    <tr>\n",
       "      <th>2</th>\n",
       "      <td>either process dragged election vote senate wo...</td>\n",
       "    </tr>\n",
       "    <tr>\n",
       "      <th>3</th>\n",
       "      <td>republican always battled severe case selectiv...</td>\n",
       "    </tr>\n",
       "    <tr>\n",
       "      <th>4</th>\n",
       "      <td>politics different back people side least pret...</td>\n",
       "    </tr>\n",
       "    <tr>\n",
       "      <th>5</th>\n",
       "      <td>equally ridiculous 1970 review article mcconne...</td>\n",
       "    </tr>\n",
       "  </tbody>\n",
       "</table>\n",
       "</div>"
      ],
      "text/plain": [
       "                                                Text\n",
       "0  disclaimer think obama nominate someone senate...\n",
       "2  either process dragged election vote senate wo...\n",
       "3  republican always battled severe case selectiv...\n",
       "4  politics different back people side least pret...\n",
       "5  equally ridiculous 1970 review article mcconne..."
      ]
     },
     "execution_count": 221,
     "metadata": {},
     "output_type": "execute_result"
    }
   ],
   "source": [
    "# Import Dataset\n",
    "#df = pd.read_json('https://raw.githubusercontent.com/selva86/datasets/master/newsgroups.json')\n",
    "df = news.Text.to_frame()\n",
    "#print(df.target_names.unique())\n",
    "df.head()"
   ]
  },
  {
   "cell_type": "code",
   "execution_count": 222,
   "metadata": {},
   "outputs": [
    {
     "data": {
      "text/plain": [
       "pandas.core.series.Series"
      ]
     },
     "execution_count": 222,
     "metadata": {},
     "output_type": "execute_result"
    }
   ],
   "source": [
    "type(news.Text)"
   ]
  },
  {
   "cell_type": "code",
   "execution_count": 226,
   "metadata": {},
   "outputs": [
    {
     "name": "stdout",
     "output_type": "stream",
     "text": [
      "[['disclaimer think obama nominate someone senate hold confirmation hearing '\n",
      "  'article accurately describe republican statement issue vast majority '\n",
      "  'republican statement although notably cruz cited article carefully phrase '\n",
      "  'issue whether nominee nominated confirmed president last year office '\n",
      "  'although kennedy confirmed 1988 nominated reagan 1987 fall definition']]\n"
     ]
    }
   ],
   "source": [
    "# Convert to list\n",
    "data = df.values.tolist()\n",
    "\n",
    "# Remove Emails\n",
    "#data = [re.sub('\\S*@\\S*\\s?', '', sent) for sent in data]\n",
    "\n",
    "# Remove new line characters\n",
    "#data = [re.sub('\\s+', ' ', sent) for sent in data]\n",
    "\n",
    "# Remove distracting single quotes\n",
    "#data = [re.sub(\"\\'\", \"\", sent) for sent in data]\n",
    "\n",
    "pprint(data[:1])"
   ]
  },
  {
   "cell_type": "code",
   "execution_count": 227,
   "metadata": {},
   "outputs": [
    {
     "name": "stdout",
     "output_type": "stream",
     "text": [
      "[['disclaimer', 'think', 'obama', 'nominate', 'someone', 'senate', 'hold', 'confirmation', 'hearing', 'article', 'accurately', 'describe', 'republican', 'statement', 'issue', 'vast', 'majority', 'republican', 'statement', 'although', 'notably', 'cruz', 'cited', 'article', 'carefully', 'phrase', 'issue', 'whether', 'nominee', 'nominated', 'confirmed', 'president', 'last', 'year', 'office', 'although', 'kennedy', 'confirmed', 'nominated', 'reagan', 'fall', 'definition']]\n"
     ]
    }
   ],
   "source": [
    "def sent_to_words(sentences):\n",
    "    for sentence in sentences:\n",
    "        yield(gensim.utils.simple_preprocess(str(sentence), deacc=True))  # deacc=True removes punctuations\n",
    "\n",
    "data_words = list(sent_to_words(data))\n",
    "\n",
    "print(data_words[:1])"
   ]
  },
  {
   "cell_type": "code",
   "execution_count": 240,
   "metadata": {},
   "outputs": [
    {
     "name": "stderr",
     "output_type": "stream",
     "text": [
      "/anaconda3/lib/python3.6/site-packages/gensim/models/phrases.py:598: UserWarning: For a faster implementation, use the gensim.models.phrases.Phraser class\n",
      "  warnings.warn(\"For a faster implementation, use the gensim.models.phrases.Phraser class\")\n"
     ]
    },
    {
     "name": "stdout",
     "output_type": "stream",
     "text": [
      "['either', 'process', 'dragged', 'election', 'vote', 'senate', 'would', 'rather', 'gamble', 'least', 'decency', 'inform', 'everyone', 'exactly', 'time', 'around']\n"
     ]
    }
   ],
   "source": [
    "# Build the bigram and trigram models\n",
    "bigram = gensim.models.Phrases(data_words, min_count=5, threshold=100) # higher threshold fewer phrases.\n",
    "trigram = gensim.models.Phrases(bigram[data_words], threshold=100)  \n",
    "\n",
    "# Faster way to get a sentence clubbed as a trigram/bigram\n",
    "bigram_mod = gensim.models.phrases.Phraser(bigram)\n",
    "trigram_mod = gensim.models.phrases.Phraser(trigram)\n",
    "\n",
    "# See trigram example\n",
    "print(trigram_mod[bigram_mod[data_words[1]]])"
   ]
  },
  {
   "cell_type": "code",
   "execution_count": 229,
   "metadata": {},
   "outputs": [],
   "source": [
    "# Define functions for stopwords, bigrams, trigrams and lemmatization\n",
    "def remove_stopwords(texts):\n",
    "    return [[word for word in simple_preprocess(str(doc)) if word not in stop_words] for doc in texts]\n",
    "\n",
    "def make_bigrams(texts):\n",
    "    return [bigram_mod[doc] for doc in texts]\n",
    "\n",
    "def make_trigrams(texts):\n",
    "    return [trigram_mod[bigram_mod[doc]] for doc in texts]\n",
    "\n",
    "def lemmatization(texts, allowed_postags=['NOUN', 'ADJ', 'VERB', 'ADV']):\n",
    "    \"\"\"https://spacy.io/api/annotation\"\"\"\n",
    "    texts_out = []\n",
    "    for sent in texts:\n",
    "        doc = nlp(\" \".join(sent)) \n",
    "        texts_out.append([token.lemma_ for token in doc if token.pos_ in allowed_postags])\n",
    "    return texts_out"
   ]
  },
  {
   "cell_type": "code",
   "execution_count": 230,
   "metadata": {},
   "outputs": [
    {
     "name": "stdout",
     "output_type": "stream",
     "text": [
      "[['disclaimer', 'think', 'obama', 'nominate', 'someone', 'senate', 'hold', 'confirmation', 'hearing', 'article', 'accurately', 'describe', 'republican', 'statement', 'issue', 'vast', 'majority', 'republican', 'statement', 'notably', 'cruz', 'cite', 'article', 'carefully', 'phrase', 'issue', 'nominee', 'nominate', 'confirm', 'president', 'last', 'year', 'office', 'kennedy', 'confirm', 'nominate', 'reagan', 'fall', 'definition']]\n"
     ]
    }
   ],
   "source": [
    "# Remove Stop Words\n",
    "data_words_nostops = remove_stopwords(data_words)\n",
    "\n",
    "# Form Bigrams\n",
    "data_words_bigrams = make_bigrams(data_words_nostops)\n",
    "\n",
    "# Initialize spacy 'en' model, keeping only tagger component (for efficiency)\n",
    "# python3 -m spacy download en\n",
    "nlp = spacy.load('en', disable=['parser', 'ner'])\n",
    "\n",
    "# Do lemmatization keeping only noun, adj, vb, adv\n",
    "data_lemmatized = lemmatization(data_words_bigrams, allowed_postags=['NOUN', 'ADJ', 'VERB', 'ADV'])\n",
    "\n",
    "print(data_lemmatized[:1])"
   ]
  },
  {
   "cell_type": "code",
   "execution_count": 231,
   "metadata": {},
   "outputs": [
    {
     "name": "stdout",
     "output_type": "stream",
     "text": [
      "[[(0, 1), (1, 2), (2, 1), (3, 1), (4, 2), (5, 1), (6, 1), (7, 1), (8, 1), (9, 1), (10, 1), (11, 1), (12, 1), (13, 2), (14, 1), (15, 1), (16, 1), (17, 3), (18, 1), (19, 1), (20, 1), (21, 1), (22, 1), (23, 1), (24, 1), (25, 2), (26, 1), (27, 1), (28, 2), (29, 1), (30, 1), (31, 1)]]\n"
     ]
    }
   ],
   "source": [
    "# Create Dictionary\n",
    "id2word = corpora.Dictionary(data_lemmatized)\n",
    "\n",
    "# Create Corpus\n",
    "texts = data_lemmatized\n",
    "\n",
    "# Term Document Frequency\n",
    "corpus = [id2word.doc2bow(text) for text in texts]\n",
    "\n",
    "# View\n",
    "print(corpus[:1])"
   ]
  },
  {
   "cell_type": "code",
   "execution_count": 232,
   "metadata": {},
   "outputs": [],
   "source": [
    "# Build LDA model\n",
    "lda_model = gensim.models.ldamodel.LdaModel(corpus=corpus,\n",
    "                                           id2word=id2word,\n",
    "                                           num_topics=20, \n",
    "                                           random_state=100,\n",
    "                                           update_every=1,\n",
    "                                           chunksize=100,\n",
    "                                           passes=10,\n",
    "                                           alpha='auto',\n",
    "                                           per_word_topics=True)"
   ]
  },
  {
   "cell_type": "code",
   "execution_count": 233,
   "metadata": {},
   "outputs": [
    {
     "name": "stdout",
     "output_type": "stream",
     "text": [
      "[(0,\n",
      "  '0.070*\"come\" + 0.042*\"feel\" + 0.041*\"bill\" + 0.027*\"email\" + '\n",
      "  '0.027*\"current\" + 0.023*\"base\" + 0.021*\"hell\" + 0.018*\"miss\" + '\n",
      "  '0.018*\"still\" + 0.017*\"industry\"'),\n",
      " (1,\n",
      "  '0.117*\"clinton\" + 0.107*\"campaign\" + 0.061*\"candidate\" + 0.047*\"political\" '\n",
      "  '+ 0.035*\"bush\" + 0.028*\"america\" + 0.027*\"much\" + 0.023*\"close\" + '\n",
      "  '0.022*\"american\" + 0.021*\"show\"'),\n",
      " (2,\n",
      "  '0.107*\"say\" + 0.084*\"vote\" + 0.083*\"make\" + 0.043*\"party\" + 0.034*\"justice\" '\n",
      "  '+ 0.029*\"thing\" + 0.026*\"hear\" + 0.026*\"scalia\" + 0.023*\"insurance\" + '\n",
      "  '0.021*\"leave\"'),\n",
      " (3,\n",
      "  '0.141*\"woman\" + 0.059*\"well\" + 0.044*\"may\" + 0.040*\"plan\" + 0.037*\"post\" + '\n",
      "  '0.037*\"white\" + 0.035*\"nonhispanic\" + 0.017*\"course\" + 0.015*\"trust\" + '\n",
      "  '0.013*\"running\"'),\n",
      " (4,\n",
      "  '0.054*\"abortion\" + 0.030*\"would\" + 0.026*\"fact\" + 0.022*\"week\" + '\n",
      "  '0.021*\"racism\" + 0.021*\"name\" + 0.021*\"play\" + 0.020*\"argument\" + '\n",
      "  '0.018*\"hour\" + 0.018*\"rather\"'),\n",
      " (5,\n",
      "  '0.036*\"change\" + 0.036*\"love\" + 0.035*\"tell\" + 0.032*\"reason\" + '\n",
      "  '0.031*\"court\" + 0.029*\"try\" + 0.029*\"free\" + 0.028*\"decide\" + '\n",
      "  '0.028*\"democrat\" + 0.028*\"pick\"'),\n",
      " (6,\n",
      "  '0.060*\"world\" + 0.057*\"real\" + 0.053*\"life\" + 0.051*\"never\" + 0.048*\"power\" '\n",
      "  '+ 0.037*\"live\" + 0.032*\"attack\" + 0.028*\"maybe\" + 0.028*\"carson\" + '\n",
      "  '0.026*\"agenda\"'),\n",
      " (7,\n",
      "  '0.065*\"would\" + 0.056*\"think\" + 0.047*\"president\" + 0.038*\"obama\" + '\n",
      "  '0.035*\"year\" + 0.033*\"go\" + 0.023*\"election\" + 0.022*\"supporter\" + '\n",
      "  '0.021*\"could\" + 0.021*\"republican\"'),\n",
      " (8,\n",
      "  '0.087*\"government\" + 0.065*\"look\" + 0.053*\"fuck\" + 0.039*\"federal\" + '\n",
      "  '0.035*\"policy\" + 0.031*\"mind\" + 0.028*\"congress\" + 0.028*\"else\" + '\n",
      "  '0.025*\"political\" + 0.018*\"kind\"'),\n",
      " (9,\n",
      "  '0.073*\"want\" + 0.071*\"trump\" + 0.058*\"get\" + 0.025*\"become\" + 0.023*\"great\" '\n",
      "  '+ 0.022*\"away\" + 0.019*\"american\" + 0.018*\"little\" + 0.016*\"job\" + '\n",
      "  '0.014*\"happy\"'),\n",
      " (10,\n",
      "  '0.051*\"point\" + 0.038*\"do\" + 0.032*\"http\" + 0.030*\"give\" + 0.028*\"idea\" + '\n",
      "  '0.022*\"trump\" + 0.021*\"not\" + 0.020*\"pretty\" + 0.019*\"population\" + '\n",
      "  '0.018*\"video\"'),\n",
      " (11,\n",
      "  '0.099*\"people\" + 0.039*\"know\" + 0.039*\"good\" + 0.031*\"country\" + '\n",
      "  '0.021*\"problem\" + 0.020*\"bank\" + 0.017*\"shit\" + 0.014*\"care\" + 0.013*\"also\" '\n",
      "  '+ 0.012*\"suppose\"'),\n",
      " (12,\n",
      "  '0.064*\"thing\" + 0.053*\"person\" + 0.039*\"sure\" + 0.031*\"exactly\" + '\n",
      "  '0.030*\"voting\" + 0.025*\"wrong\" + 0.023*\"moderate\" + 0.023*\"revolution\" + '\n",
      "  '0.020*\"south\" + 0.020*\"guy\"'),\n",
      " (13,\n",
      "  '0.078*\"voter\" + 0.041*\"democratic\" + 0.035*\"flint\" + 0.035*\"see\" + '\n",
      "  '0.029*\"record\" + 0.029*\"turn\" + 0.024*\"give\" + 0.023*\"primary\" + '\n",
      "  '0.021*\"much\" + 0.020*\"vote\"'),\n",
      " (14,\n",
      "  '0.051*\"right\" + 0.036*\"call\" + 0.035*\"money\" + 0.032*\"use\" + '\n",
      "  '0.031*\"believe\" + 0.030*\"everyone\" + 0.024*\"pay\" + 0.022*\"trump\" + '\n",
      "  '0.021*\"lead\" + 0.020*\"bring\"'),\n",
      " (15,\n",
      "  '0.055*\"article\" + 0.053*\"nevada\" + 0.039*\"probably\" + 0.037*\"read\" + '\n",
      "  '0.021*\"take\" + 0.020*\"second\" + 0.017*\"also\" + 0.015*\"illinois\" + '\n",
      "  '0.014*\"continuous_quote\" + 0.013*\"endorse\"'),\n",
      " (16,\n",
      "  '0.089*\"http\" + 0.080*\"need\" + 0.046*\"speak\" + 0.037*\"rally\" + '\n",
      "  '0.020*\"healthcare\" + 0.019*\"bern\" + 0.015*\"moment\" + 0.014*\"random\" + '\n",
      "  '0.014*\"interested\" + 0.013*\"amazing\"'),\n",
      " (17,\n",
      "  '0.080*\"black\" + 0.020*\"percent\" + 0.016*\"racial\" + 0.016*\"able\" + '\n",
      "  '0.015*\"racism_sexism\" + 0.015*\"datum\" + 0.013*\"allow\" + 0.013*\"dislike\" + '\n",
      "  '0.013*\"move\" + 0.012*\"millennial\"'),\n",
      " (18,\n",
      "  '0.152*\"sander\" + 0.147*\"bernie\" + 0.109*\"hillary\" + 0.072*\"support\" + '\n",
      "  '0.019*\"article\" + 0.018*\"headline\" + 0.016*\"platform\" + 0.016*\"win\" + '\n",
      "  '0.015*\"news\" + 0.013*\"hate\"'),\n",
      " (19,\n",
      "  '0.087*\"even\" + 0.073*\"really\" + 0.056*\"state\" + 0.056*\"many\" + '\n",
      "  '0.038*\"break\" + 0.038*\"back\" + 0.032*\"something\" + 0.032*\"mean\" + '\n",
      "  '0.028*\"poll\" + 0.027*\"system\"')]\n"
     ]
    }
   ],
   "source": [
    "# Print the Keyword in the 20 topics\n",
    "pprint(lda_model.print_topics())\n",
    "doc_lda = lda_model[corpus]"
   ]
  },
  {
   "cell_type": "code",
   "execution_count": 234,
   "metadata": {},
   "outputs": [
    {
     "name": "stdout",
     "output_type": "stream",
     "text": [
      "\n",
      "Perplexity:  -7.65260790673157\n",
      "\n",
      "Coherence Score:  0.4234693187328209\n"
     ]
    }
   ],
   "source": [
    "# Compute Perplexity\n",
    "print('\\nPerplexity: ', lda_model.log_perplexity(corpus))  # a measure of how good the model is. lower the better.\n",
    "\n",
    "# Compute Coherence Score\n",
    "coherence_model_lda = CoherenceModel(model=lda_model, texts=data_lemmatized, dictionary=id2word, coherence='c_v')\n",
    "coherence_lda = coherence_model_lda.get_coherence()\n",
    "print('\\nCoherence Score: ', coherence_lda)"
   ]
  },
  {
   "cell_type": "code",
   "execution_count": 235,
   "metadata": {},
   "outputs": [
    {
     "data": {
      "text/html": [
       "\n",
       "<link rel=\"stylesheet\" type=\"text/css\" href=\"https://cdn.rawgit.com/bmabey/pyLDAvis/files/ldavis.v1.0.0.css\">\n",
       "\n",
       "\n",
       "<div id=\"ldavis_el821861132864331923940246981\"></div>\n",
       "<script type=\"text/javascript\">\n",
       "\n",
       "var ldavis_el821861132864331923940246981_data = {\"mdsDat\": {\"Freq\": [13.874096870422363, 10.720253944396973, 6.443686008453369, 5.517879962921143, 5.366857051849365, 5.360128402709961, 5.359236240386963, 5.19931697845459, 5.151007175445557, 4.661749839782715, 3.8871355056762695, 3.661806106567383, 3.5437703132629395, 3.500549077987671, 3.4360125064849854, 3.1580052375793457, 2.8862476348876953, 2.864945650100708, 2.8231923580169678, 2.5841221809387207], \"cluster\": [1, 1, 1, 1, 1, 1, 1, 1, 1, 1, 1, 1, 1, 1, 1, 1, 1, 1, 1, 1], \"topics\": [1, 2, 3, 4, 5, 6, 7, 8, 9, 10, 11, 12, 13, 14, 15, 16, 17, 18, 19, 20], \"x\": [-0.3209278726613586, -0.10506888071600487, -0.16794649580767462, 0.11479163558000244, 0.03437958718352871, -0.12442591620022198, -0.05490569712555306, 0.010053032916198029, 0.0772870780622419, 0.10096793479287453, -0.0935689052380257, 0.04634811346656326, 0.10244164864179886, 0.021691783526759382, 0.013530242170053578, 0.134122132032557, 0.09292161593702847, 0.07717912259851571, -0.016005862902438304, 0.05713570374315539], \"y\": [-0.06161433669433411, 0.04189396359889717, 0.13985661017313802, 0.028435238197630913, 0.17409673989077196, 0.004781242255917912, -0.17071003061985268, -0.10058188176250714, 0.0888190624341063, -0.2346080405582039, 0.04210725511113756, 0.08203186017149236, -0.021404054426455408, -0.18212015601590248, -0.027967856821327304, 0.08940735073000217, 0.0741195913510166, -0.09371066225596969, 0.0591906692433219, 0.06797743599712039]}, \"tinfo\": {\"Category\": [\"Default\", \"Default\", \"Default\", \"Default\", \"Default\", \"Default\", \"Default\", \"Default\", \"Default\", \"Default\", \"Default\", \"Default\", \"Default\", \"Default\", \"Default\", \"Default\", \"Default\", \"Default\", \"Default\", \"Default\", \"Default\", \"Default\", \"Default\", \"Default\", \"Default\", \"Default\", \"Default\", \"Default\", \"Default\", \"Default\", \"Topic1\", \"Topic1\", \"Topic1\", \"Topic1\", \"Topic1\", \"Topic1\", \"Topic1\", \"Topic1\", \"Topic1\", \"Topic1\", \"Topic1\", \"Topic1\", \"Topic1\", \"Topic1\", \"Topic1\", \"Topic1\", \"Topic1\", \"Topic1\", \"Topic1\", \"Topic1\", \"Topic1\", \"Topic1\", \"Topic1\", \"Topic1\", \"Topic1\", \"Topic1\", \"Topic1\", \"Topic1\", \"Topic1\", \"Topic1\", \"Topic1\", \"Topic1\", \"Topic1\", \"Topic1\", \"Topic1\", \"Topic1\", \"Topic1\", \"Topic1\", \"Topic1\", \"Topic1\", \"Topic1\", \"Topic1\", \"Topic1\", \"Topic1\", \"Topic2\", \"Topic2\", \"Topic2\", \"Topic2\", \"Topic2\", \"Topic2\", \"Topic2\", \"Topic2\", \"Topic2\", \"Topic2\", \"Topic2\", \"Topic2\", \"Topic2\", \"Topic2\", \"Topic2\", \"Topic2\", \"Topic2\", \"Topic2\", \"Topic2\", \"Topic2\", \"Topic2\", \"Topic2\", \"Topic2\", \"Topic2\", \"Topic2\", \"Topic2\", \"Topic2\", \"Topic2\", \"Topic2\", \"Topic2\", \"Topic2\", \"Topic2\", \"Topic2\", \"Topic2\", \"Topic2\", \"Topic2\", \"Topic3\", \"Topic3\", \"Topic3\", \"Topic3\", \"Topic3\", \"Topic3\", \"Topic3\", \"Topic3\", \"Topic3\", \"Topic3\", \"Topic3\", \"Topic3\", \"Topic3\", \"Topic3\", \"Topic3\", \"Topic3\", \"Topic3\", \"Topic3\", \"Topic3\", \"Topic3\", \"Topic3\", \"Topic3\", \"Topic3\", \"Topic3\", \"Topic3\", \"Topic3\", \"Topic3\", \"Topic3\", \"Topic3\", \"Topic3\", \"Topic3\", \"Topic3\", \"Topic3\", \"Topic3\", \"Topic3\", \"Topic4\", \"Topic4\", \"Topic4\", \"Topic4\", \"Topic4\", \"Topic4\", \"Topic4\", \"Topic4\", \"Topic4\", \"Topic4\", \"Topic4\", \"Topic4\", \"Topic4\", \"Topic4\", \"Topic4\", \"Topic4\", \"Topic4\", \"Topic4\", \"Topic4\", \"Topic4\", \"Topic4\", \"Topic4\", \"Topic4\", \"Topic4\", \"Topic4\", \"Topic4\", \"Topic4\", \"Topic4\", \"Topic4\", \"Topic4\", \"Topic4\", \"Topic4\", \"Topic4\", \"Topic4\", \"Topic4\", \"Topic4\", \"Topic4\", \"Topic4\", \"Topic4\", \"Topic4\", \"Topic4\", \"Topic5\", \"Topic5\", \"Topic5\", \"Topic5\", \"Topic5\", \"Topic5\", \"Topic5\", \"Topic5\", \"Topic5\", \"Topic5\", \"Topic5\", \"Topic5\", \"Topic5\", \"Topic5\", \"Topic5\", \"Topic5\", \"Topic5\", \"Topic5\", \"Topic5\", \"Topic5\", \"Topic5\", \"Topic5\", \"Topic5\", \"Topic5\", \"Topic5\", \"Topic5\", \"Topic5\", \"Topic5\", \"Topic5\", \"Topic5\", \"Topic5\", \"Topic5\", \"Topic5\", \"Topic5\", \"Topic6\", \"Topic6\", \"Topic6\", \"Topic6\", \"Topic6\", \"Topic6\", \"Topic6\", \"Topic6\", \"Topic6\", \"Topic6\", \"Topic6\", \"Topic6\", \"Topic6\", \"Topic6\", \"Topic6\", \"Topic6\", \"Topic6\", \"Topic6\", \"Topic6\", \"Topic6\", \"Topic6\", \"Topic6\", \"Topic6\", \"Topic6\", \"Topic6\", \"Topic6\", \"Topic6\", \"Topic6\", \"Topic6\", \"Topic6\", \"Topic6\", \"Topic6\", \"Topic6\", \"Topic6\", \"Topic6\", \"Topic6\", \"Topic6\", \"Topic6\", \"Topic6\", \"Topic7\", \"Topic7\", \"Topic7\", \"Topic7\", \"Topic7\", \"Topic7\", \"Topic7\", \"Topic7\", \"Topic7\", \"Topic7\", \"Topic7\", \"Topic7\", \"Topic7\", \"Topic7\", \"Topic7\", \"Topic7\", \"Topic7\", \"Topic7\", \"Topic7\", \"Topic7\", \"Topic7\", \"Topic7\", \"Topic7\", \"Topic7\", \"Topic7\", \"Topic7\", \"Topic7\", \"Topic7\", \"Topic7\", \"Topic7\", \"Topic7\", \"Topic7\", \"Topic7\", \"Topic7\", \"Topic7\", \"Topic7\", \"Topic7\", \"Topic7\", \"Topic7\", \"Topic7\", \"Topic7\", \"Topic7\", \"Topic7\", \"Topic8\", \"Topic8\", \"Topic8\", \"Topic8\", \"Topic8\", \"Topic8\", \"Topic8\", \"Topic8\", \"Topic8\", \"Topic8\", \"Topic8\", \"Topic8\", \"Topic8\", \"Topic8\", \"Topic8\", \"Topic8\", \"Topic8\", \"Topic8\", \"Topic8\", \"Topic8\", \"Topic8\", \"Topic8\", \"Topic8\", \"Topic8\", \"Topic8\", \"Topic8\", \"Topic8\", \"Topic8\", \"Topic8\", \"Topic8\", \"Topic8\", \"Topic8\", \"Topic8\", \"Topic8\", \"Topic8\", \"Topic8\", \"Topic9\", \"Topic9\", \"Topic9\", \"Topic9\", \"Topic9\", \"Topic9\", \"Topic9\", \"Topic9\", \"Topic9\", \"Topic9\", \"Topic9\", \"Topic9\", \"Topic9\", \"Topic9\", \"Topic9\", \"Topic9\", \"Topic9\", \"Topic9\", \"Topic9\", \"Topic9\", \"Topic9\", \"Topic9\", \"Topic9\", \"Topic9\", \"Topic9\", \"Topic9\", \"Topic9\", \"Topic9\", \"Topic9\", \"Topic9\", \"Topic9\", \"Topic9\", \"Topic9\", \"Topic9\", \"Topic10\", \"Topic10\", \"Topic10\", \"Topic10\", \"Topic10\", \"Topic10\", \"Topic10\", \"Topic10\", \"Topic10\", \"Topic10\", \"Topic10\", \"Topic10\", \"Topic10\", \"Topic10\", \"Topic10\", \"Topic10\", \"Topic10\", \"Topic10\", \"Topic10\", \"Topic10\", \"Topic10\", \"Topic10\", \"Topic10\", \"Topic10\", \"Topic10\", \"Topic10\", \"Topic10\", \"Topic10\", \"Topic10\", \"Topic10\", \"Topic10\", \"Topic10\", \"Topic10\", \"Topic10\", \"Topic10\", \"Topic10\", \"Topic10\", \"Topic10\", \"Topic10\", \"Topic10\", \"Topic11\", \"Topic11\", \"Topic11\", \"Topic11\", \"Topic11\", \"Topic11\", \"Topic11\", \"Topic11\", \"Topic11\", \"Topic11\", \"Topic11\", \"Topic11\", \"Topic11\", \"Topic11\", \"Topic11\", \"Topic11\", \"Topic11\", \"Topic11\", \"Topic11\", \"Topic11\", \"Topic11\", \"Topic11\", \"Topic11\", \"Topic11\", \"Topic11\", \"Topic11\", \"Topic11\", \"Topic11\", \"Topic11\", \"Topic11\", \"Topic11\", \"Topic11\", \"Topic11\", \"Topic11\", \"Topic12\", \"Topic12\", \"Topic12\", \"Topic12\", \"Topic12\", \"Topic12\", \"Topic12\", \"Topic12\", \"Topic12\", \"Topic12\", \"Topic12\", \"Topic12\", \"Topic12\", \"Topic12\", \"Topic12\", \"Topic12\", \"Topic12\", \"Topic12\", \"Topic12\", \"Topic12\", \"Topic12\", \"Topic12\", \"Topic12\", \"Topic12\", \"Topic12\", \"Topic12\", \"Topic12\", \"Topic12\", \"Topic12\", \"Topic12\", \"Topic12\", \"Topic12\", \"Topic13\", \"Topic13\", \"Topic13\", \"Topic13\", \"Topic13\", \"Topic13\", \"Topic13\", \"Topic13\", \"Topic13\", \"Topic13\", \"Topic13\", \"Topic13\", \"Topic13\", \"Topic13\", \"Topic13\", \"Topic13\", \"Topic13\", \"Topic13\", \"Topic13\", \"Topic13\", \"Topic13\", \"Topic13\", \"Topic13\", \"Topic13\", \"Topic13\", \"Topic13\", \"Topic13\", \"Topic13\", \"Topic13\", \"Topic13\", \"Topic13\", \"Topic13\", \"Topic13\", \"Topic13\", \"Topic13\", \"Topic13\", \"Topic13\", \"Topic14\", \"Topic14\", \"Topic14\", \"Topic14\", \"Topic14\", \"Topic14\", \"Topic14\", \"Topic14\", \"Topic14\", \"Topic14\", \"Topic14\", \"Topic14\", \"Topic14\", \"Topic14\", \"Topic14\", \"Topic14\", \"Topic14\", \"Topic14\", \"Topic14\", \"Topic14\", \"Topic14\", \"Topic14\", \"Topic14\", \"Topic14\", \"Topic14\", \"Topic14\", \"Topic14\", \"Topic14\", \"Topic14\", \"Topic14\", \"Topic14\", \"Topic14\", \"Topic14\", \"Topic14\", \"Topic14\", \"Topic14\", \"Topic14\", \"Topic15\", \"Topic15\", \"Topic15\", \"Topic15\", \"Topic15\", \"Topic15\", \"Topic15\", \"Topic15\", \"Topic15\", \"Topic15\", \"Topic15\", \"Topic15\", \"Topic15\", \"Topic15\", \"Topic15\", \"Topic15\", \"Topic15\", \"Topic15\", \"Topic15\", \"Topic15\", \"Topic15\", \"Topic15\", \"Topic15\", \"Topic15\", \"Topic15\", \"Topic15\", \"Topic15\", \"Topic15\", \"Topic15\", \"Topic15\", \"Topic15\", \"Topic15\", \"Topic15\", \"Topic16\", \"Topic16\", \"Topic16\", \"Topic16\", \"Topic16\", \"Topic16\", \"Topic16\", \"Topic16\", \"Topic16\", \"Topic16\", \"Topic16\", \"Topic16\", \"Topic16\", \"Topic16\", \"Topic16\", \"Topic16\", \"Topic16\", \"Topic16\", \"Topic16\", \"Topic16\", \"Topic16\", \"Topic16\", \"Topic16\", \"Topic16\", \"Topic16\", \"Topic16\", \"Topic16\", \"Topic16\", \"Topic16\", \"Topic16\", \"Topic16\", \"Topic16\", \"Topic16\", \"Topic16\", \"Topic17\", \"Topic17\", \"Topic17\", \"Topic17\", \"Topic17\", \"Topic17\", \"Topic17\", \"Topic17\", \"Topic17\", \"Topic17\", \"Topic17\", \"Topic17\", \"Topic17\", \"Topic17\", \"Topic17\", \"Topic17\", \"Topic17\", \"Topic17\", \"Topic17\", \"Topic17\", \"Topic17\", \"Topic17\", \"Topic17\", \"Topic17\", \"Topic17\", \"Topic17\", \"Topic17\", \"Topic17\", \"Topic17\", \"Topic17\", \"Topic17\", \"Topic17\", \"Topic18\", \"Topic18\", \"Topic18\", \"Topic18\", \"Topic18\", \"Topic18\", \"Topic18\", \"Topic18\", \"Topic18\", \"Topic18\", \"Topic18\", \"Topic18\", \"Topic18\", \"Topic18\", \"Topic18\", \"Topic18\", \"Topic18\", \"Topic18\", \"Topic18\", \"Topic18\", \"Topic18\", \"Topic18\", \"Topic18\", \"Topic18\", \"Topic18\", \"Topic18\", \"Topic18\", \"Topic18\", \"Topic18\", \"Topic18\", \"Topic18\", \"Topic18\", \"Topic18\", \"Topic18\", \"Topic18\", \"Topic18\", \"Topic19\", \"Topic19\", \"Topic19\", \"Topic19\", \"Topic19\", \"Topic19\", \"Topic19\", \"Topic19\", \"Topic19\", \"Topic19\", \"Topic19\", \"Topic19\", \"Topic19\", \"Topic19\", \"Topic19\", \"Topic19\", \"Topic19\", \"Topic19\", \"Topic19\", \"Topic19\", \"Topic19\", \"Topic19\", \"Topic19\", \"Topic19\", \"Topic19\", \"Topic19\", \"Topic19\", \"Topic19\", \"Topic19\", \"Topic19\", \"Topic19\", \"Topic19\", \"Topic19\", \"Topic19\", \"Topic19\", \"Topic20\", \"Topic20\", \"Topic20\", \"Topic20\", \"Topic20\", \"Topic20\", \"Topic20\", \"Topic20\", \"Topic20\", \"Topic20\", \"Topic20\", \"Topic20\", \"Topic20\", \"Topic20\", \"Topic20\", \"Topic20\", \"Topic20\", \"Topic20\", \"Topic20\", \"Topic20\", \"Topic20\", \"Topic20\", \"Topic20\", \"Topic20\", \"Topic20\", \"Topic20\", \"Topic20\", \"Topic20\", \"Topic20\", \"Topic20\", \"Topic20\", \"Topic20\", \"Topic20\"], \"Freq\": [543.0, 522.0, 588.0, 388.0, 347.0, 359.0, 316.0, 577.0, 438.0, 225.0, 296.0, 280.0, 260.0, 362.0, 255.0, 228.0, 294.0, 225.0, 233.0, 269.0, 288.0, 165.0, 201.0, 271.0, 204.0, 153.0, 233.0, 255.0, 168.0, 212.0, 362.0520324707031, 288.01220703125, 271.1126403808594, 176.95306396484375, 152.9618682861328, 129.1881866455078, 127.62724304199219, 103.90541076660156, 101.60238647460938, 97.06365203857422, 88.74081420898438, 85.80870056152344, 84.32955932617188, 84.22044372558594, 70.3845443725586, 65.82779693603516, 59.06007766723633, 432.62713623046875, 51.660980224609375, 50.13386154174805, 48.17441177368164, 46.66313171386719, 43.71536636352539, 41.377723693847656, 40.46965026855469, 48.099246978759766, 38.06629180908203, 37.089500427246094, 36.95928192138672, 36.923240661621094, 159.3939208984375, 166.93942260742188, 498.03277587890625, 254.08787536621094, 131.50892639160156, 105.25086975097656, 157.9115753173828, 57.00667953491211, 90.00035858154297, 93.55909729003906, 104.51992797851562, 128.20652770996094, 67.19009399414062, 74.61148071289062, 232.31906127929688, 186.1787567138672, 585.9544677734375, 122.5438003540039, 116.8776626586914, 100.55783081054688, 82.19658660888672, 72.02633666992188, 71.587158203125, 62.63325881958008, 62.62986373901367, 62.20187759399414, 61.451087951660156, 50.96980285644531, 42.36614227294922, 41.23965835571289, 41.02735900878906, 40.6547737121582, 39.322174072265625, 37.5443229675293, 37.349002838134766, 37.26248550415039, 36.356475830078125, 36.263328552246094, 34.214290618896484, 32.95689010620117, 32.42005157470703, 31.850961685180664, 30.6356143951416, 30.31108283996582, 232.8235321044922, 63.258323669433594, 42.85927200317383, 62.8199462890625, 74.7176284790039, 48.13405227661133, 522.1837768554688, 387.8160400390625, 255.1087646484375, 540.19580078125, 65.51567840576172, 57.617523193359375, 57.063045501708984, 54.48134994506836, 47.099586486816406, 44.51498031616211, 42.99700927734375, 42.75609588623047, 40.12123489379883, 38.4542350769043, 32.957122802734375, 30.691604614257812, 28.176481246948242, 27.205158233642578, 26.594615936279297, 25.21295738220215, 24.825279235839844, 21.590314865112305, 20.063833236694336, 17.891878128051758, 17.757335662841797, 16.62006187438965, 16.153188705444336, 15.934818267822266, 15.898582458496094, 15.026532173156738, 41.75019836425781, 66.16417694091797, 39.523353576660156, 27.680343627929688, 17.26167869567871, 132.28323364257812, 77.93492126464844, 70.66873931884766, 49.00011444091797, 45.265438079833984, 45.093509674072266, 38.77531051635742, 37.993072509765625, 35.695613861083984, 28.189136505126953, 26.731977462768555, 26.731977462768555, 24.100229263305664, 252.0555877685547, 23.18889617919922, 22.96621322631836, 21.327207565307617, 20.744808197021484, 20.42445945739746, 19.576759338378906, 17.465381622314453, 17.452579498291016, 17.319618225097656, 17.027088165283203, 16.87261199951172, 15.344924926757812, 15.128986358642578, 15.128986358642578, 15.128986358642578, 15.128986358642578, 15.128986358642578, 327.0536804199219, 256.516357421875, 79.18292999267578, 104.67119598388672, 62.52783966064453, 23.552501678466797, 88.72225189208984, 44.36922073364258, 33.9439697265625, 23.132080078125, 167.44561767578125, 164.7823028564453, 113.01022338867188, 111.78959655761719, 95.7461166381836, 95.61571502685547, 82.84391784667969, 70.18252563476562, 69.39562225341797, 69.3782958984375, 60.31958770751953, 54.063865661621094, 46.468284606933594, 46.42021179199219, 40.986663818359375, 37.91072082519531, 35.79008102416992, 35.667606353759766, 31.946340560913086, 31.39142608642578, 28.72457504272461, 24.304096221923828, 23.656017303466797, 23.076562881469727, 22.917757034301758, 22.600820541381836, 22.22735595703125, 21.63255500793457, 19.601362228393555, 18.360841751098633, 217.0101318359375, 259.3405456542969, 57.46823501586914, 78.8195571899414, 106.24186706542969, 105.33334350585938, 102.50968170166016, 93.62703704833984, 91.59322357177734, 85.67545318603516, 82.57393646240234, 82.29637145996094, 75.53401184082031, 68.0849838256836, 66.19417572021484, 63.45877456665039, 59.80131149291992, 55.426734924316406, 45.76105880737305, 43.108604431152344, 41.53916931152344, 33.06412124633789, 31.533430099487305, 31.318220138549805, 25.356124877929688, 25.028976440429688, 83.10472869873047, 23.198352813720703, 22.428552627563477, 21.117841720581055, 19.380414962768555, 17.06867218017578, 16.621240615844727, 15.273885726928711, 54.89076232910156, 45.38441467285156, 86.76524353027344, 46.0860481262207, 34.22642517089844, 24.8536319732666, 31.120553970336914, 28.87653923034668, 28.18722915649414, 346.8288269042969, 315.7757568359375, 102.5774154663086, 68.70642852783203, 54.52883529663086, 47.84739685058594, 45.92946243286133, 36.58382797241211, 33.19183349609375, 32.66976547241211, 30.089195251464844, 27.968673706054688, 25.556699752807617, 25.420082092285156, 20.992490768432617, 19.886201858520508, 19.074861526489258, 18.05267906188965, 17.108732223510742, 17.100444793701172, 16.635738372802734, 16.49102783203125, 16.22922706604004, 16.074880599975586, 15.843134880065918, 15.60039234161377, 15.59166431427002, 15.503996849060059, 15.461913108825684, 13.758532524108887, 181.8728790283203, 82.17731475830078, 140.06178283691406, 81.34597778320312, 62.30733871459961, 65.3969497680664, 21.357013702392578, 32.17224884033203, 46.318992614746094, 32.795284271240234, 21.729673385620117, 20.345474243164062, 19.18245506286621, 147.7979736328125, 102.86083984375, 93.03541564941406, 89.81304168701172, 85.04154205322266, 68.01811218261719, 61.02976608276367, 58.26223373413086, 50.43876647949219, 48.32258605957031, 47.57672119140625, 47.2062873840332, 45.11933517456055, 44.70937728881836, 42.685340881347656, 40.518245697021484, 39.15472412109375, 32.23881530761719, 31.52737808227539, 31.0955753326416, 26.10957908630371, 25.05125617980957, 23.952369689941406, 23.89229965209961, 23.649301528930664, 23.272621154785156, 23.07301902770996, 23.052682876586914, 22.466093063354492, 20.08742332458496, 44.56201934814453, 99.93583679199219, 62.73942947387695, 38.22661209106445, 25.277366638183594, 28.95413589477539, 227.40940856933594, 57.58143997192383, 46.05423355102539, 45.66975784301758, 42.27327346801758, 41.75994110107422, 36.26301574707031, 36.1187744140625, 34.41371536254883, 30.814659118652344, 29.282907485961914, 29.102901458740234, 26.144258499145508, 25.492416381835938, 25.418018341064453, 25.15908432006836, 23.433448791503906, 23.23328399658203, 23.071701049804688, 22.766128540039062, 21.895769119262695, 20.901140213012695, 20.639102935791016, 18.896663665771484, 18.008331298828125, 17.648550033569336, 17.59760284423828, 17.287696838378906, 17.199796676635742, 15.950252532958984, 36.90585708618164, 30.44634437561035, 22.732868194580078, 25.597856521606445, 131.9434051513672, 98.75061798095703, 72.79155731201172, 52.84292221069336, 48.622947692871094, 47.10822296142578, 46.76268768310547, 43.177703857421875, 37.64080810546875, 37.14408874511719, 36.84658432006836, 36.388484954833984, 31.08102798461914, 28.91631507873535, 25.980012893676758, 25.887954711914062, 25.88379669189453, 23.71761703491211, 23.0898380279541, 20.90140724182129, 20.54593276977539, 19.788429260253906, 19.56806182861328, 19.201045989990234, 18.85026741027832, 18.303050994873047, 17.717750549316406, 17.002429962158203, 16.963958740234375, 16.433462142944336, 76.18319702148438, 51.741519927978516, 83.4823989868164, 33.6231575012207, 44.694793701171875, 56.15679931640625, 27.923675537109375, 31.852109909057617, 24.254253387451172, 21.255754470825195, 116.16218566894531, 55.29780197143555, 47.424564361572266, 46.154258728027344, 44.681583404541016, 44.21883773803711, 42.26060485839844, 38.64936828613281, 38.46805191040039, 38.13406753540039, 36.74627685546875, 36.422725677490234, 36.210811614990234, 33.25593566894531, 30.398204803466797, 29.433507919311523, 27.90020179748535, 27.546010971069336, 24.28949737548828, 24.221614837646484, 22.452959060668945, 21.358945846557617, 20.921403884887695, 18.385467529296875, 17.020896911621094, 16.542861938476562, 15.648543357849121, 15.046360969543457, 14.363300323486328, 13.862271308898926, 36.096275329589844, 63.84180450439453, 23.612882614135742, 16.70496368408203, 141.66754150390625, 83.67533874511719, 54.7451171875, 54.68879699707031, 46.443748474121094, 43.36833190917969, 36.320865631103516, 34.03158187866211, 32.932373046875, 32.727027893066406, 32.01023483276367, 30.466936111450195, 28.352014541625977, 27.715055465698242, 21.517841339111328, 21.219831466674805, 20.885446548461914, 20.686809539794922, 20.227048873901367, 19.682697296142578, 17.584325790405273, 17.160802841186523, 16.955596923828125, 16.3892765045166, 16.092735290527344, 15.707545280456543, 15.606124877929688, 15.083483695983887, 14.642084121704102, 13.982686042785645, 84.76715087890625, 35.81863784790039, 152.3833465576172, 79.78014373779297, 69.10986328125, 68.43175506591797, 57.517791748046875, 57.45745086669922, 44.37947463989258, 35.161869049072266, 34.56884765625, 32.6204833984375, 31.360321044921875, 24.721160888671875, 23.150819778442383, 22.614948272705078, 20.470609664916992, 19.93524169921875, 19.1883602142334, 17.675485610961914, 16.804012298583984, 16.627195358276367, 16.617658615112305, 16.123510360717773, 15.922163009643555, 15.810851097106934, 14.512680053710938, 14.234598159790039, 13.959389686584473, 13.035788536071777, 12.9307279586792, 12.840652465820312, 47.935150146484375, 35.414241790771484, 41.08430480957031, 21.120681762695312, 39.435203552246094, 16.0643253326416, 21.44875144958496, 111.26576232910156, 49.29304885864258, 41.88321304321289, 35.20521926879883, 30.423795700073242, 27.03697395324707, 26.75496482849121, 24.83551597595215, 24.174774169921875, 22.37724494934082, 19.747854232788086, 19.133211135864258, 17.160682678222656, 15.259479522705078, 14.85108470916748, 14.077112197875977, 13.416601181030273, 13.187504768371582, 13.0894775390625, 12.903388023376465, 12.873431205749512, 12.774666786193848, 12.553876876831055, 11.397955894470215, 11.325610160827637, 10.64901351928711, 10.610456466674805, 10.552680969238281, 10.252538681030273, 10.23642349243164, 21.47372817993164, 136.7036895751953, 140.59210205078125, 43.8026123046875, 37.00925827026367, 24.51371192932129, 21.990140914916992, 164.5223846435547, 122.5974349975586, 100.50222778320312, 73.41416931152344, 66.86598205566406, 59.73771286010742, 52.53837966918945, 52.30813980102539, 34.42310333251953, 32.717918395996094, 32.087867736816406, 26.29996681213379, 25.907899856567383, 25.703472137451172, 25.58339500427246, 24.092010498046875, 21.971904754638672, 21.11107063293457, 20.273630142211914, 18.926694869995117, 17.399337768554688, 16.013853073120117, 15.386007308959961, 14.854089736938477, 12.823685646057129, 12.354920387268066, 12.02970027923584, 11.035408020019531, 10.924019813537598, 10.805330276489258, 34.27251052856445, 48.228328704833984, 17.175655364990234, 91.8901596069336, 68.0984878540039, 53.732383728027344, 52.003173828125, 43.31325149536133, 40.08537292480469, 40.06080627441406, 35.65714645385742, 35.44731521606445, 34.569488525390625, 31.957841873168945, 29.59467887878418, 20.57745933532715, 19.305927276611328, 19.093175888061523, 16.896278381347656, 14.20350456237793, 14.16240119934082, 13.966930389404297, 13.551468849182129, 13.356315612792969, 13.173216819763184, 12.623391151428223, 12.594937324523926, 12.038390159606934, 11.91154670715332, 11.332139015197754, 10.817119598388672, 10.627193450927734, 10.342202186584473, 112.44444274902344, 15.940524101257324, 18.548097610473633, 20.297325134277344, 224.6791534423828, 94.49512481689453, 70.9366683959961, 63.164005279541016, 59.81633758544922, 55.969398498535156, 26.421707153320312, 23.731287002563477, 20.89171600341797, 20.206064224243164, 17.73228645324707, 15.908093452453613, 15.200289726257324, 15.105766296386719, 14.11320972442627, 13.747337341308594, 13.399129867553711, 13.148112297058105, 12.903736114501953, 12.588400840759277, 11.952692985534668, 11.480486869812012, 11.224088668823242, 11.224088668823242, 11.224088668823242, 11.224088668823242, 9.606034278869629, 9.530434608459473, 9.243621826171875, 9.19304370880127, 58.85566711425781, 13.355292320251465, 127.44135284423828, 72.60447692871094, 58.92987823486328, 29.530536651611328, 23.16761589050293, 22.918468475341797, 21.458091735839844, 21.12567901611328, 18.92443084716797, 17.930814743041992, 17.597570419311523, 17.32569122314453, 16.517284393310547, 15.794217109680176, 15.532696723937988, 14.025825500488281, 13.536774635314941, 13.100010871887207, 12.739190101623535, 12.467924118041992, 11.629331588745117, 11.421914100646973, 11.052733421325684, 10.359786033630371, 9.89278793334961, 9.636561393737793, 9.319253921508789, 8.773590087890625, 8.18110179901123, 7.786830902099609, 31.235748291015625, 141.68699645996094, 17.40496063232422, 16.591121673583984, 14.067145347595215, 14.729738235473633, 83.03744506835938, 61.63205337524414, 58.42424774169922, 30.449296951293945, 23.15328025817871, 21.11727523803711, 21.036596298217773, 19.91083335876465, 16.957834243774414, 16.538660049438477, 15.885284423828125, 15.595433235168457, 15.498814582824707, 15.265715599060059, 14.226922035217285, 13.80251407623291, 13.405885696411133, 12.268020629882812, 11.814271926879883, 11.595906257629395, 11.512824058532715, 10.918631553649902, 10.730048179626465, 10.577902793884277, 10.577902793884277, 10.557619094848633, 10.034539222717285, 9.859253883361816, 9.683116912841797, 9.659175872802734, 86.03555297851562, 33.044822692871094, 18.34885597229004, 26.030485153198242, 12.185402870178223, 85.0267105102539, 81.88114166259766, 75.93268585205078, 73.35579681396484, 68.08320617675781, 52.1909065246582, 45.98200988769531, 39.57946014404297, 36.9144172668457, 36.75487518310547, 33.28736114501953, 23.24677848815918, 19.970455169677734, 17.06163215637207, 16.540414810180664, 16.279998779296875, 14.536616325378418, 14.536616325378418, 13.786125183105469, 12.44090747833252, 12.139853477478027, 11.98149299621582, 11.98149299621582, 11.98149299621582, 11.853226661682129, 11.853226661682129, 10.984338760375977, 9.797955513000488, 9.322219848632812, 8.714171409606934, 40.49555206298828, 21.742589950561523, 10.746360778808594], \"Term\": [\"sander\", \"bernie\", \"people\", \"hillary\", \"clinton\", \"say\", \"campaign\", \"would\", \"think\", \"woman\", \"vote\", \"even\", \"make\", \"president\", \"support\", \"black\", \"want\", \"http\", \"really\", \"trump\", \"obama\", \"government\", \"thing\", \"year\", \"candidate\", \"voter\", \"good\", \"know\", \"state\", \"article\", \"president\", \"obama\", \"year\", \"election\", \"nominate\", \"senate\", \"someone\", \"seem\", \"first\", \"anyone\", \"last\", \"work\", \"keep\", \"position\", \"hold\", \"part\", \"large\", \"think\", \"general\", \"hope\", \"nomination\", \"entire\", \"confirm\", \"similar\", \"interesting\", \"interest\", \"report\", \"advise\", \"place\", \"surprised\", \"could\", \"supporter\", \"would\", \"go\", \"issue\", \"actually\", \"republican\", \"office\", \"nominee\", \"still\", \"take\", \"want\", \"happen\", \"medium\", \"good\", \"country\", \"people\", \"problem\", \"bank\", \"shit\", \"care\", \"suppose\", \"whole\", \"line\", \"wall_street\", \"matter\", \"poverty\", \"already\", \"hard\", \"lift\", \"begin\", \"alone\", \"attempt\", \"child\", \"better\", \"sound\", \"effect\", \"business\", \"public\", \"regardless\", \"strong\", \"like\", \"answer\", \"tax\", \"know\", \"talk\", \"single\", \"young\", \"also\", \"time\", \"bernie\", \"hillary\", \"support\", \"sander\", \"headline\", \"platform\", \"win\", \"news\", \"hate\", \"title\", \"must\", \"minority\", \"story\", \"firewall\", \"latino\", \"serious\", \"goldman_sach\", \"damn\", \"college\", \"actual\", \"front_page\", \"straight\", \"succeed\", \"honestly\", \"fly\", \"desperate\", \"version\", \"soon\", \"slogan\", \"affect\", \"family\", \"article\", \"take\", \"time\", \"quote\", \"party\", \"scalia\", \"insurance\", \"thank\", \"cruz\", \"health\", \"georgia\", \"appear\", \"case\", \"limit\", \"resume_capability\", \"almost_identical\", \"local\", \"make\", \"remain\", \"uber\", \"team\", \"movement\", \"increasingly\", \"guide\", \"currently\", \"appointment\", \"status\", \"thoma\", \"tilli\", \"assertion\", \"seeking_serve\", \"looking_promotion\", \"perspective_naturally\", \"larger_electorate\", \"earned_contrarily\", \"say\", \"vote\", \"hear\", \"justice\", \"leave\", \"reality\", \"thing\", \"white\", \"liberal\", \"feel\", \"state\", \"many\", \"break\", \"back\", \"something\", \"mean\", \"poll\", \"find\", \"month\", \"consider\", \"claim\", \"elect\", \"senator\", \"decision\", \"nearly\", \"secretary\", \"side\", \"different\", \"tough\", \"study\", \"hispanic\", \"corporate\", \"reasonable\", \"endorsement\", \"texas\", \"surprise\", \"whatev\", \"upset\", \"completely\", \"gain\", \"really\", \"even\", \"politic\", \"system\", \"change\", \"love\", \"tell\", \"reason\", \"court\", \"free\", \"democrat\", \"pick\", \"conservative\", \"majority\", \"spend\", \"anything\", \"least\", \"however\", \"remember\", \"literally\", \"fail\", \"almost\", \"exist\", \"appoint\", \"judge\", \"ideologue\", \"decide\", \"oppose\", \"rule\", \"create\", \"rise\", \"way\", \"constitutional\", \"several\", \"establishment\", \"stop\", \"try\", \"liberal\", \"time\", \"next\", \"republican\", \"money\", \"nominee\", \"clinton\", \"campaign\", \"bush\", \"close\", \"today\", \"respect\", \"especially\", \"house\", \"website\", \"main\", \"stupid\", \"barack\", \"former\", \"tactic\", \"speaker\", \"redirect\", \"search\", \"ask\", \"confirmation\", \"clearly\", \"governor\", \"financial_institution\", \"gun\", \"instead\", \"topic\", \"panic\", \"smear\", \"site\", \"florida\", \"online\", \"candidate\", \"america\", \"political\", \"much\", \"show\", \"american\", \"ever\", \"race\", \"try\", \"go\", \"great\", \"medium\", \"young\", \"right\", \"call\", \"use\", \"believe\", \"everyone\", \"pay\", \"lead\", \"bring\", \"member\", \"start\", \"clear\", \"national\", \"enough\", \"refuse\", \"lose\", \"water\", \"small\", \"table\", \"force\", \"tomorrow\", \"female\", \"obstructionist\", \"high_energy\", \"influence\", \"holy\", \"protester\", \"terrible\", \"mention\", \"important\", \"perhaps\", \"everything\", \"money\", \"trump\", \"system\", \"understand\", \"pretty\", \"black\", \"percent\", \"racial\", \"able\", \"racism_sexism\", \"datum\", \"dislike\", \"move\", \"millennial\", \"speech\", \"future\", \"social\", \"law\", \"crime\", \"percentage\", \"ratio\", \"civil\", \"register\", \"iowa_hampshire\", \"taking_advantage\", \"neighborhood\", \"stream\", \"hilary\", \"super\", \"forefront\", \"class\", \"portion\", \"face\", \"price\", \"extremely\", \"allow\", \"solve\", \"sign\", \"race\", \"point\", \"do\", \"idea\", \"not\", \"population\", \"video\", \"rate\", \"funny\", \"link\", \"debate\", \"reddit\", \"stuff\", \"thread\", \"absolutely\", \"weird\", \"step\", \"bunch\", \"count\", \"be\", \"inspire\", \"passionate\", \"end\", \"often\", \"effective\", \"message\", \"individual\", \"moron\", \"plenty\", \"marketing\", \"economist\", \"give\", \"pretty\", \"http\", \"city\", \"show\", \"trump\", \"also\", \"say\", \"great\", \"american\", \"abortion\", \"fact\", \"week\", \"racism\", \"name\", \"play\", \"argument\", \"hour\", \"rather\", \"chance\", \"information\", \"sexism\", \"community\", \"group\", \"audience\", \"rpolitic\", \"comment\", \"difference\", \"process\", \"word\", \"hand\", \"ready\", \"stand\", \"york\", \"essentially\", \"foreign_policy\", \"discrimination_lgbt\", \"medical\", \"barrier\", \"decency\", \"health_care\", \"would\", \"time\", \"much\", \"come\", \"bill\", \"email\", \"current\", \"base\", \"hell\", \"miss\", \"industry\", \"classified\", \"fort\", \"stay\", \"george\", \"environment\", \"worker\", \"cut\", \"form\", \"later\", \"goal\", \"company\", \"bad\", \"couple\", \"action\", \"thinking\", \"beat\", \"meet\", \"longer\", \"account\", \"pursue\", \"cycle\", \"club\", \"feel\", \"still\", \"voter\", \"democratic\", \"flint\", \"see\", \"record\", \"turn\", \"primary\", \"compare\", \"big\", \"likely\", \"number\", \"low\", \"closing\", \"conclusion\", \"debt\", \"conform\", \"quickly\", \"atlanta\", \"failure\", \"constituent\", \"polltr\", \"history\", \"momentum\", \"page\", \"registration\", \"absolute\", \"potential\", \"surround\", \"unable\", \"previous\", \"give\", \"term\", \"much\", \"result\", \"vote\", \"prevent\", \"candidate\", \"get\", \"become\", \"away\", \"little\", \"job\", \"happy\", \"pull\", \"mark\", \"dream\", \"improve_life\", \"average\", \"program\", \"citizen\", \"preach\", \"planned_parenthood\", \"seriously\", \"alienate\", \"public_university\", \"mindblowing\", \"tool\", \"benefit\", \"maintain_status\", \"domain\", \"foundation\", \"list\", \"husband\", \"goddamn\", \"hipster\", \"prestige\", \"intervention\", \"half\", \"trump\", \"want\", \"great\", \"american\", \"leave\", \"know\", \"government\", \"look\", \"fuck\", \"federal\", \"policy\", \"mind\", \"congress\", \"else\", \"kind\", \"drive\", \"wonder\", \"home\", \"continue\", \"attention\", \"employee\", \"simply\", \"south_carolina\", \"protest\", \"stance\", \"bullshit\", \"civil_servant\", \"wish\", \"event\", \"demand\", \"throw\", \"student\", \"none\", \"middle_east\", \"slow\", \"walmart\", \"term\", \"political\", \"want\", \"person\", \"sure\", \"exactly\", \"voting\", \"wrong\", \"moderate\", \"revolution\", \"south\", \"guy\", \"run\", \"choose\", \"sometimes\", \"experience\", \"stating_fact\", \"idiot\", \"prove\", \"fear\", \"grab\", \"reject\", \"prohillary\", \"middle\", \"extreme\", \"actively\", \"factor\", \"product\", \"let\", \"supply\", \"type\", \"romney\", \"movie\", \"thing\", \"source\", \"result\", \"even\", \"woman\", \"well\", \"may\", \"plan\", \"post\", \"nonhispanic\", \"course\", \"trust\", \"running\", \"facebook_video\", \"remove\", \"entirely\", \"imagine\", \"neck\", \"wing_conspiracy\", \"spin\", \"game\", \"aged\", \"forget\", \"understanding\", \"personal\", \"asshole\", \"respectively\", \"racialethnic_group\", \"raceethnicity\", \"ratio_decreas\", \"rapist\", \"surely\", \"sinister\", \"abuela\", \"white\", \"fair\", \"need\", \"speak\", \"rally\", \"bern\", \"moment\", \"random\", \"interested\", \"amazing\", \"credit\", \"ship\", \"wage\", \"argue\", \"server\", \"easy\", \"particular\", \"charge\", \"ridiculous\", \"medicare\", \"document\", \"town\", \"illegal\", \"rcirclejerk\", \"material\", \"lump\", \"morehouse\", \"properly\", \"medicaid\", \"equal\", \"journal\", \"lucky\", \"healthcare\", \"http\", \"hear\", \"great\", \"america\", \"go\", \"nevada\", \"probably\", \"read\", \"second\", \"illinois\", \"continuous_quote\", \"endorse\", \"caucus\", \"trade\", \"identify\", \"citizen_unit\", \"somebody\", \"return\", \"contrast\", \"leverage\", \"diverse\", \"suggest\", \"branch\", \"favor\", \"toby\", \"email_address\", \"paste\", \"corrupt\", \"title_appropriate\", \"comprised_copied\", \"eye\", \"lack\", \"reno\", \"theory\", \"explain\", \"article\", \"take\", \"high\", \"also\", \"mostly\", \"world\", \"real\", \"life\", \"never\", \"power\", \"live\", \"attack\", \"carson\", \"agenda\", \"presidency\", \"warren\", \"death\", \"definitely\", \"impossible\", \"precedent\", \"loud\", \"hedge\", \"bet\", \"rival\", \"raise\", \"confused\", \"chat\", \"excited\", \"youtube\", \"ideological_purist\", \"purge_establishment\", \"koolaid\", \"safe\", \"worth\", \"snowden\", \"maybe\", \"fight\", \"defend\"], \"Total\": [543.0, 522.0, 588.0, 388.0, 347.0, 359.0, 316.0, 577.0, 438.0, 225.0, 296.0, 280.0, 260.0, 362.0, 255.0, 228.0, 294.0, 225.0, 233.0, 269.0, 288.0, 165.0, 201.0, 271.0, 204.0, 153.0, 233.0, 255.0, 168.0, 212.0, 362.8138427734375, 288.7740478515625, 271.8778991699219, 177.71482849121094, 153.7236328125, 129.949951171875, 128.38900756835938, 104.66719818115234, 102.36417388916016, 97.825439453125, 89.50260162353516, 86.57048797607422, 85.09134674072266, 84.98223114013672, 71.14633178710938, 66.58958435058594, 59.82185745239258, 438.73663330078125, 52.422760009765625, 50.8956413269043, 48.93619155883789, 47.42491149902344, 44.47714614868164, 42.139503479003906, 41.23143005371094, 49.048065185546875, 38.82807159423828, 37.851280212402344, 37.72106170654297, 37.685020446777344, 163.28216552734375, 172.18649291992188, 577.0777587890625, 304.0997619628906, 149.5611114501953, 119.60885620117188, 189.75271606445312, 61.42431640625, 118.90819549560547, 130.09762573242188, 195.91505432128906, 294.48785400390625, 89.92682647705078, 123.52081298828125, 233.08016967773438, 186.9398651123047, 588.4365844726562, 123.30493927001953, 117.63880157470703, 101.3189697265625, 82.95772552490234, 72.7874755859375, 72.34829711914062, 63.39439010620117, 63.390995025634766, 62.963008880615234, 62.21221923828125, 51.730934143066406, 43.12727355957031, 42.000789642333984, 41.788490295410156, 41.4159049987793, 40.08330535888672, 38.30545425415039, 38.11013412475586, 38.023616790771484, 37.11760711669922, 37.0255012512207, 34.97542190551758, 33.718021392822266, 33.181182861328125, 32.612091064453125, 31.396745681762695, 31.072214126586914, 255.54844665527344, 76.71698760986328, 48.00975799560547, 82.72212219238281, 132.71360778808594, 163.43736267089844, 522.9498901367188, 388.582275390625, 255.87496948242188, 543.3828125, 66.28191375732422, 58.38374710083008, 57.82926940917969, 55.24757385253906, 47.86581039428711, 45.28120422363281, 43.76323318481445, 43.52231979370117, 40.88745880126953, 39.220458984375, 33.72334671020508, 31.457828521728516, 28.942705154418945, 27.97138214111328, 27.36083984375, 25.97918128967285, 25.591503143310547, 22.356538772583008, 20.83005714416504, 18.65810203552246, 18.5235595703125, 17.38628578186035, 16.91941261291504, 16.70104217529297, 16.664806365966797, 15.792756080627441, 45.75273132324219, 212.42942810058594, 195.91505432128906, 163.43736267089844, 25.943145751953125, 133.04592895507812, 78.6976547241211, 71.43147277832031, 49.76283645629883, 46.028160095214844, 45.856231689453125, 39.53803253173828, 38.755794525146484, 36.458335876464844, 28.951858520507812, 27.494699478149414, 27.494699478149414, 24.862951278686523, 260.2488098144531, 23.951618194580078, 23.72893524169922, 22.089929580688477, 21.507530212402344, 21.18718147277832, 20.339481353759766, 18.228107452392578, 18.215301513671875, 18.082340240478516, 17.789810180664062, 17.635334014892578, 16.10764503479004, 15.891708374023438, 15.891708374023438, 15.891708374023438, 15.891708374023438, 15.891708374023438, 359.6283874511719, 296.67449951171875, 97.30982971191406, 134.41989135742188, 87.76441192626953, 28.675312042236328, 201.88427734375, 113.71285247802734, 80.7515640258789, 108.62007904052734, 168.2086639404297, 165.54534912109375, 113.77330017089844, 112.55267333984375, 96.50919342041016, 96.37879180908203, 83.60699462890625, 70.94560241699219, 70.15869903564453, 70.14137268066406, 61.0826530456543, 54.82693099975586, 47.23134994506836, 47.18327713012695, 41.74972915649414, 38.67378616333008, 36.55314636230469, 36.43067169189453, 32.709407806396484, 32.15449142456055, 29.487642288208008, 25.067163467407227, 24.419084548950195, 23.839630126953125, 23.680824279785156, 23.363887786865234, 22.99042320251465, 22.39562225341797, 20.364429473876953, 19.12390899658203, 233.32296752929688, 280.4692077636719, 68.3128890991211, 117.77113342285156, 107.00395202636719, 106.09542846679688, 103.27176666259766, 94.38912200927734, 92.35530853271484, 86.43753814697266, 83.33602142333984, 83.05845642089844, 76.29609680175781, 68.8470687866211, 66.95626068115234, 64.22085571289062, 60.570003509521484, 56.188804626464844, 46.523128509521484, 43.87067413330078, 42.301239013671875, 33.82619094848633, 32.29549789428711, 32.080291748046875, 26.118196487426758, 25.791048049926758, 85.73334503173828, 23.960424423217773, 23.190624237060547, 21.879913330078125, 20.142486572265625, 17.83074378967285, 17.383312225341797, 16.03595733642578, 60.050804138183594, 51.77227783203125, 133.8048553466797, 80.7515640258789, 163.43736267089844, 43.452880859375, 189.75271606445312, 129.5363311767578, 118.90819549560547, 347.5906677246094, 316.53759765625, 103.3392562866211, 69.46826934814453, 55.29066467285156, 48.60922622680664, 46.69129180908203, 37.34565734863281, 33.95366287231445, 33.43159484863281, 30.851024627685547, 28.73050308227539, 26.31852912902832, 26.18191146850586, 21.75432014465332, 20.64803123474121, 19.83669090270996, 18.81450843811035, 17.870561599731445, 17.862274169921875, 17.397567749023438, 17.252857208251953, 16.991056442260742, 16.83670997619629, 16.604963302612305, 16.36222267150879, 16.35349464416504, 16.265827178955078, 16.22374153137207, 14.52036190032959, 204.04360961914062, 96.97989654541016, 189.0087127685547, 139.82472229003906, 107.72380828857422, 124.34375762939453, 27.744503021240234, 58.49107360839844, 133.8048553466797, 304.0997619628906, 107.01866149902344, 123.52081298828125, 82.72212219238281, 148.5631103515625, 103.62600708007812, 93.80058288574219, 90.57832336425781, 85.80670928955078, 68.78327941894531, 61.79491424560547, 59.02738571166992, 51.203914642333984, 49.08773422241211, 48.34186935424805, 47.971435546875, 45.884483337402344, 45.474525451660156, 43.45048904418945, 41.28339385986328, 39.91987228393555, 33.003963470458984, 32.29252624511719, 31.860727310180664, 26.874731063842773, 25.816408157348633, 24.71752166748047, 24.657451629638672, 24.414453506469727, 24.03777313232422, 23.838171005249023, 23.817834854125977, 23.231245040893555, 20.852575302124023, 48.289833068847656, 129.5363311767578, 269.93988037109375, 117.77113342285156, 35.840187072753906, 90.75021362304688, 228.17178344726562, 58.343833923339844, 46.816627502441406, 46.432151794433594, 43.035667419433594, 42.522335052490234, 37.02540969848633, 36.881168365478516, 35.176109313964844, 31.577054977416992, 30.045303344726562, 29.865297317504883, 26.906654357910156, 26.254812240600586, 26.1804141998291, 25.921480178833008, 24.195844650268555, 23.99567985534668, 23.834096908569336, 23.52852439880371, 22.658164978027344, 21.663536071777344, 21.401498794555664, 19.659059524536133, 18.770727157592773, 18.410945892333984, 18.35999870300293, 18.050092697143555, 17.96219253540039, 16.712648391723633, 38.959449768066406, 40.948211669921875, 28.680641174316406, 58.49107360839844, 132.70648193359375, 99.51371765136719, 73.55465698242188, 53.60601043701172, 49.38603591918945, 47.87131118774414, 47.52577590942383, 43.940792083740234, 38.40389633178711, 37.90717697143555, 37.60967254638672, 37.151573181152344, 31.844120025634766, 29.679407119750977, 26.743104934692383, 26.651046752929688, 26.646888732910156, 24.480709075927734, 23.852930068969727, 21.664499282836914, 21.309024810791016, 20.55152130126953, 20.331153869628906, 19.96413803100586, 19.613359451293945, 19.066143035888672, 18.48084259033203, 17.765522003173828, 17.72705078125, 17.19655418395996, 124.84162139892578, 90.75021362304688, 225.89169311523438, 59.28605270385742, 107.72380828857422, 269.93988037109375, 132.71360778808594, 359.6283874511719, 107.01866149902344, 124.34375762939453, 116.93292999267578, 56.06853485107422, 48.19529724121094, 46.924991607666016, 45.45231628417969, 44.98957061767578, 43.03133773803711, 39.420101165771484, 39.23878479003906, 38.90480041503906, 37.51700973510742, 37.193458557128906, 36.981544494628906, 34.026668548583984, 31.168941497802734, 30.20424461364746, 28.67093849182129, 28.316747665405273, 25.06023406982422, 24.992351531982422, 23.223695755004883, 22.129682540893555, 21.692140579223633, 19.156204223632812, 17.79163360595703, 17.3135986328125, 16.419279098510742, 15.817097663879395, 15.134037017822266, 14.633008003234863, 42.232261657714844, 577.0777587890625, 163.43736267089844, 139.82472229003906, 142.4289093017578, 84.43672180175781, 55.506492614746094, 55.450172424316406, 47.20512390136719, 44.12970733642578, 37.08224105834961, 34.7929573059082, 33.693748474121094, 33.4884033203125, 32.771610260009766, 31.22831153869629, 29.11338996887207, 28.476430892944336, 22.279216766357422, 21.9812068939209, 21.646821975708008, 21.448184967041016, 20.98842430114746, 20.444072723388672, 18.345701217651367, 17.922178268432617, 17.71697235107422, 17.150651931762695, 16.854110717773438, 16.468921661376953, 16.36750030517578, 15.84485912322998, 15.403459548950195, 14.744061470031738, 108.62007904052734, 130.09762573242188, 153.1467742919922, 80.5435791015625, 69.87329864501953, 69.1951904296875, 58.28122329711914, 58.220882415771484, 45.142906188964844, 35.92530059814453, 35.332279205322266, 33.383914947509766, 32.12375259399414, 25.484594345092773, 23.91425323486328, 23.378381729125977, 21.23404312133789, 20.69867515563965, 19.951793670654297, 18.438919067382812, 17.567445755004883, 17.390628814697266, 17.381092071533203, 16.886943817138672, 16.685596466064453, 16.574283599853516, 15.276113510131836, 14.998031616210938, 14.722823143005371, 13.799221992492676, 13.694161415100098, 13.604085922241211, 124.84162139892578, 77.27234649658203, 139.82472229003906, 40.38655471801758, 296.67449951171875, 24.778942108154297, 204.04360961914062, 112.02914428710938, 50.056427001953125, 42.64659118652344, 35.968597412109375, 31.187175750732422, 27.80035400390625, 27.51834487915039, 25.598896026611328, 24.938154220581055, 23.140625, 20.511234283447266, 19.896591186523438, 17.924062728881836, 16.02286148071289, 15.614465713500977, 14.840493202209473, 14.17998218536377, 13.950885772705078, 13.852858543395996, 13.666769027709961, 13.636812210083008, 13.538047790527344, 13.31725788116455, 12.161336898803711, 12.088991165161133, 11.412394523620605, 11.3738374710083, 11.316061973571777, 11.01591968536377, 10.999804496765137, 25.023601531982422, 269.93988037109375, 294.48785400390625, 107.01866149902344, 124.34375762939453, 87.76441192626953, 255.54844665527344, 165.2824249267578, 123.35748291015625, 101.26227569580078, 74.1742172241211, 67.62602996826172, 60.49775314331055, 53.29841995239258, 53.068180084228516, 35.183143615722656, 33.47795867919922, 32.84790802001953, 27.06001091003418, 26.667943954467773, 26.463516235351562, 26.34343910217285, 24.852054595947266, 22.731948852539062, 21.87111473083496, 21.033674240112305, 19.686738967895508, 18.159381866455078, 16.773897171020508, 16.14605140686035, 15.614133834838867, 13.58372974395752, 13.114964485168457, 12.78974437713623, 11.795452117919922, 11.684063911437988, 11.565374374389648, 77.27234649658203, 189.0087127685547, 294.48785400390625, 92.64779663085938, 68.85608673095703, 54.48998260498047, 52.760772705078125, 44.07085037231445, 40.84297180175781, 40.81840515136719, 36.41474533081055, 36.20491409301758, 35.32708740234375, 32.71543884277344, 30.352275848388672, 21.33505630493164, 20.06352424621582, 19.850772857666016, 17.65387535095215, 14.961102485656738, 14.919999122619629, 14.724528312683105, 14.309066772460938, 14.113913536071777, 13.930815696716309, 13.380989074707031, 13.352535247802734, 12.795988082885742, 12.669144630432129, 12.089736938476562, 11.57471752166748, 11.384791374206543, 11.099800109863281, 201.88427734375, 23.852094650268555, 40.38655471801758, 280.4692077636719, 225.4446563720703, 95.26062774658203, 71.7021713256836, 63.929500579833984, 60.58183288574219, 56.734893798828125, 27.187204360961914, 24.496784210205078, 21.65721321105957, 20.971561431884766, 18.497783660888672, 16.67359161376953, 15.965787887573242, 15.871264457702637, 14.878707885742188, 14.512835502624512, 14.164628028869629, 13.913610458374023, 13.669234275817871, 13.353899002075195, 12.718192100524902, 12.24598503112793, 11.98958683013916, 11.98958683013916, 11.98958683013916, 11.98958683013916, 10.371532440185547, 10.29593276977539, 10.009119987487793, 9.958541870117188, 113.71285247802734, 36.489986419677734, 128.20382690429688, 73.366943359375, 59.692344665527344, 30.293001174926758, 23.93008041381836, 23.680932998657227, 22.220556259155273, 21.88814353942871, 19.6868953704834, 18.693279266357422, 18.360034942626953, 18.08815574645996, 17.279748916625977, 16.556682586669922, 16.295162200927734, 14.788291931152344, 14.299241065979004, 13.86247730255127, 13.501656532287598, 13.230390548706055, 12.39179801940918, 12.184380531311035, 11.815199851989746, 11.122252464294434, 10.655254364013672, 10.399027824401855, 10.081720352172852, 9.536056518554688, 8.943568229675293, 8.549297332763672, 35.98009490966797, 225.89169311523438, 97.30982971191406, 107.01866149902344, 96.97989654541016, 304.0997619628906, 83.80217742919922, 62.39678192138672, 59.1889762878418, 31.214025497436523, 23.91800880432129, 21.882003784179688, 21.80132484436035, 20.675561904907227, 17.722562789916992, 17.303388595581055, 16.650012969970703, 16.36016273498535, 16.2635440826416, 16.030445098876953, 14.99165153503418, 14.567242622375488, 14.170614242553711, 13.03274917602539, 12.579000473022461, 12.360634803771973, 12.277552604675293, 11.68336009979248, 11.494776725769043, 11.342631340026855, 11.342631340026855, 11.322347640991211, 10.799267768859863, 10.623982429504395, 10.447845458984375, 10.423904418945312, 212.42942810058594, 195.91505432128906, 49.32723617553711, 132.71360778808594, 40.590030670166016, 85.78988647460938, 82.64431762695312, 76.69586181640625, 74.11897277832031, 68.84638214111328, 52.95408248901367, 46.74518585205078, 40.34263610839844, 37.67759323120117, 37.51805114746094, 34.050537109375, 24.00995635986328, 20.733633041381836, 17.824810028076172, 17.303592681884766, 17.043176651000977, 15.299793243408203, 15.299793243408203, 14.549302101135254, 13.204084396362305, 12.903030395507812, 12.744669914245605, 12.744669914245605, 12.744669914245605, 12.616403579711914, 12.616403579711914, 11.747515678405762, 10.561132431030273, 10.085396766662598, 9.477352142333984, 47.58206558227539, 49.551246643066406, 15.647428512573242], \"loglift\": [30.0, 29.0, 28.0, 27.0, 26.0, 25.0, 24.0, 23.0, 22.0, 21.0, 20.0, 19.0, 18.0, 17.0, 16.0, 15.0, 14.0, 13.0, 12.0, 11.0, 10.0, 9.0, 8.0, 7.0, 6.0, 5.0, 4.0, 3.0, 2.0, 1.0, 1.9730000495910645, 1.972499966621399, 1.9723000526428223, 1.970900058746338, 1.9701999425888062, 1.9693000316619873, 1.9692000150680542, 1.9678000211715698, 1.9677000045776367, 1.9673000574111938, 1.966599941253662, 1.9663000106811523, 1.9661999940872192, 1.9660999774932861, 1.964400053024292, 1.9636000394821167, 1.9622999429702759, 1.9610999822616577, 1.9605000019073486, 1.9601000547409058, 1.9594999551773071, 1.9589999914169312, 1.957900047302246, 1.9569000005722046, 1.9565000534057617, 1.9556000232696533, 1.955299973487854, 1.954800009727478, 1.954699993133545, 1.954699993133545, 1.9509999752044678, 1.944200038909912, 1.8278000354766846, 1.7955000400543213, 1.846500039100647, 1.8473000526428223, 1.7914999723434448, 1.9005000591278076, 1.6965999603271484, 1.6454999446868896, 1.3467999696731567, 1.1435999870300293, 1.6836999654769897, 1.4709999561309814, 2.22979998588562, 2.2290000915527344, 2.228800058364868, 2.226799964904785, 2.2265000343322754, 2.2255001068115234, 2.22379994392395, 2.2225000858306885, 2.2225000858306885, 2.2209999561309814, 2.2209999561309814, 2.220900058746338, 2.2207000255584717, 2.2181999683380127, 2.2151999473571777, 2.2146999835968018, 2.2146999835968018, 2.2144999504089355, 2.213900089263916, 2.2130000591278076, 2.212899923324585, 2.2128000259399414, 2.2123000621795654, 2.2121999263763428, 2.2109999656677246, 2.210200071334839, 2.2098000049591064, 2.209399938583374, 2.2084999084472656, 2.208199977874756, 2.139899969100952, 2.04010009765625, 2.1196000576019287, 1.957800030708313, 1.6585999727249146, 1.010599970817566, 2.740600109100342, 2.7400999069213867, 2.7390999794006348, 2.7362000942230225, 2.7304000854492188, 2.7288999557495117, 2.7286999225616455, 2.728100061416626, 2.7258999347686768, 2.7249999046325684, 2.724400043487549, 2.724299907684326, 2.7232000827789307, 2.7223000526428223, 2.719099998474121, 2.717400074005127, 2.7151999473571777, 2.7142999172210693, 2.71370005607605, 2.712100028991699, 2.711699962615967, 2.707200050354004, 2.7046000957489014, 2.7000999450683594, 2.6998000144958496, 2.697000026702881, 2.69569993019104, 2.6951000690460205, 2.694999933242798, 2.6923000812530518, 2.6505000591278076, 1.575600028038025, 1.1412999629974365, 0.9664000272750854, 2.334700107574463, 2.891400098800659, 2.887399911880493, 2.886399984359741, 2.881700038909912, 2.880500078201294, 2.8803999423980713, 2.877700090408325, 2.8773000240325928, 2.875999927520752, 2.870500087738037, 2.86899995803833, 2.86899995803833, 2.865999937057495, 2.8652000427246094, 2.864799976348877, 2.864500045776367, 2.861999988555908, 2.8610999584198, 2.8605000972747803, 2.8589999675750732, 2.8543999195098877, 2.8543999195098877, 2.854099988937378, 2.8533999919891357, 2.8529999256134033, 2.8487000465393066, 2.8480000495910645, 2.8480000495910645, 2.8480000495910645, 2.8480000495910645, 2.8480000495910645, 2.8022000789642334, 2.751699924468994, 2.690999984741211, 2.6470000743865967, 2.5580999851226807, 2.7004001140594482, 2.075000047683716, 1.9559999704360962, 2.0304999351501465, 1.3504999876022339, 2.9203999042510986, 2.920300006866455, 2.9182000160217285, 2.918100118637085, 2.9170000553131104, 2.9170000553131104, 2.915800094604492, 2.914099931716919, 2.9140000343322754, 2.9140000343322754, 2.912400007247925, 2.910900115966797, 2.908600091934204, 2.908600091934204, 2.9065001010894775, 2.9049999713897705, 2.9038000106811523, 2.9038000106811523, 2.9012999534606934, 2.900899887084961, 2.898699998855591, 2.8940000534057617, 2.893199920654297, 2.892400026321411, 2.892199993133545, 2.891700029373169, 2.891200065612793, 2.8903000354766846, 2.886699914932251, 2.884200096130371, 2.852400064468384, 2.84660005569458, 2.7520999908447266, 2.5232999324798584, 2.9189999103546143, 2.9189999103546143, 2.918800115585327, 2.918100118637085, 2.9179000854492188, 2.91729998588562, 2.9170000553131104, 2.9170000553131104, 2.916100025177002, 2.91510009765625, 2.9147000312805176, 2.9142000675201416, 2.9133999347686768, 2.9124999046325684, 2.9096999168395996, 2.9086999893188477, 2.9079999923706055, 2.90339994430542, 2.9022998809814453, 2.902100086212158, 2.8966000080108643, 2.896199941635132, 2.8949999809265137, 2.893899917602539, 2.8928000926971436, 2.890700101852417, 2.8875999450683594, 2.882499933242798, 2.8814001083374023, 2.877500057220459, 2.8362998962402344, 2.7945001125335693, 2.493000030517578, 2.365299940109253, 1.3628000020980835, 2.367500066757202, 1.118299961090088, 1.4253000020980835, 1.4867000579833984, 2.9242000579833984, 2.9238998889923096, 2.9189000129699707, 2.915299892425537, 2.9124999046325684, 2.910599946975708, 2.909899950027466, 2.9056999683380127, 2.903700113296509, 2.9033000469207764, 2.9012999534606934, 2.8994998931884766, 2.8970000743865967, 2.8968000411987305, 2.890700101852417, 2.8887999057769775, 2.887200117111206, 2.884999990463257, 2.8828001022338867, 2.8828001022338867, 2.8815999031066895, 2.881200075149536, 2.880500078201294, 2.880000114440918, 2.8794000148773193, 2.878700017929077, 2.8785998821258545, 2.8784000873565674, 2.8782999515533447, 2.872499942779541, 2.811300039291382, 2.760699987411499, 2.6266000270843506, 2.384700059890747, 2.3789000511169434, 2.283799886703491, 2.6647000312805176, 2.3285999298095703, 1.8654999732971191, 0.6992999911308289, 1.3320000171661377, 1.1227999925613403, 1.464900016784668, 2.9514999389648438, 2.949199914932251, 2.948499917984009, 2.948199987411499, 2.947700023651123, 2.945499897003174, 2.944200038909912, 2.9435999393463135, 2.9416000843048096, 2.9409000873565674, 2.940700054168701, 2.9405999183654785, 2.9398000240325928, 2.93969988822937, 2.9388999938964844, 2.9379000663757324, 2.937299966812134, 2.933199882507324, 2.9326999187469482, 2.932300090789795, 2.927799940109253, 2.9265999794006348, 2.9251999855041504, 2.925100088119507, 2.924799919128418, 2.924299955368042, 2.9240000247955322, 2.9240000247955322, 2.9231998920440674, 2.919300079345703, 2.876300096511841, 2.697200059890747, 1.4974000453948975, 1.8314000368118286, 2.6075000762939453, 1.8142000436782837, 2.962599992752075, 2.9528000354766846, 2.9495999813079834, 2.949399948120117, 2.9481000900268555, 2.9479000568389893, 2.945199966430664, 2.9451000690460205, 2.9440999031066895, 2.941499948501587, 2.9402999877929688, 2.9400999546051025, 2.9372000694274902, 2.936500072479248, 2.9363999366760254, 2.9361000061035156, 2.934000015258789, 2.9337000846862793, 2.933500051498413, 2.933000087738037, 2.93179988861084, 2.9302000999450684, 2.9296998977661133, 2.9263999462127686, 2.924499988555908, 2.9237000942230225, 2.9235999584198, 2.922800064086914, 2.922600030899048, 2.919300079345703, 2.911799907684326, 2.669600009918213, 2.733599901199341, 2.1396000385284424, 3.059999942779541, 3.0580999851226807, 3.0553998947143555, 3.0513999462127686, 3.0501999855041504, 3.0497000217437744, 3.0495998859405518, 3.04830002784729, 3.0457000732421875, 3.0453999042510986, 3.045300006866455, 3.0450000762939453, 3.0415000915527344, 3.0397000312805176, 3.036799907684326, 3.0367000102996826, 3.0367000102996826, 3.03410005569458, 3.0332999229431152, 3.029900074005127, 3.0292999744415283, 3.027899980545044, 3.0274999141693115, 3.0267999172210693, 3.026099920272827, 3.024899959564209, 3.0236001014709473, 3.021899938583374, 3.0218000411987305, 3.020400047302246, 2.571899890899658, 2.5039000511169434, 2.0703999996185303, 2.4986000061035156, 2.1861000061035156, 1.4957000017166138, 1.507099986076355, 0.6417999863624573, 1.5814000368118286, 1.299399971961975, 3.2409000396728516, 3.2337000370025635, 3.2314000129699707, 3.2309000492095947, 3.2304000854492188, 3.2302000522613525, 3.2293999195098877, 3.227799892425537, 3.2276999950408936, 3.2274999618530273, 3.2267000675201416, 3.226599931716919, 3.2263998985290527, 3.224600076675415, 3.2225000858306885, 3.22160005569458, 3.2202000617980957, 3.219899892807007, 3.2163000106811523, 3.216200113296509, 3.21370005607605, 3.2119998931884766, 3.2112998962402344, 3.206399917602539, 3.203200101852417, 3.2019999027252197, 3.199399948120117, 3.197499990463257, 3.195199966430664, 3.1933999061584473, 3.0905001163482666, 1.0458999872207642, 1.3128999471664429, 1.1227999925613403, 3.3018999099731445, 3.2981998920440674, 3.2934000492095947, 3.2934000492095947, 3.2909998893737793, 3.289799928665161, 3.2864999771118164, 3.285099983215332, 3.28439998626709, 3.2841999530792236, 3.2836999893188477, 3.2825000286102295, 3.2806999683380127, 3.280100107192993, 3.27239990234375, 3.2720000743865967, 3.271399974822998, 3.2711000442504883, 3.2702999114990234, 3.2692999839782715, 3.2648000717163086, 3.2637999057769775, 3.2632999420166016, 3.2618000507354736, 3.260999917984009, 3.2599000930786133, 3.2595999240875244, 3.257999897003174, 3.256500005722046, 3.254199981689453, 3.059299945831299, 2.017400026321411, 3.3350000381469727, 3.3304998874664307, 3.3289999961853027, 3.328900098800659, 3.3268001079559326, 3.3268001079559326, 3.3229000568389893, 3.31850004196167, 3.3180999755859375, 3.316800117492676, 3.3159000873565674, 3.3096001148223877, 3.307499885559082, 3.30679988861084, 3.3034000396728516, 3.3024001121520996, 3.3010001182556152, 3.2976999282836914, 3.2955000400543213, 3.295099973678589, 3.295099973678589, 3.2936999797821045, 3.293100118637085, 3.292799949645996, 3.2887001037597656, 3.2876999378204346, 3.2867000102996826, 3.283099889755249, 3.282599925994873, 3.2822000980377197, 2.3828001022338867, 2.559799909591675, 2.1152000427246094, 2.691699981689453, 1.3220000267028809, 2.906599998474121, 1.0872999429702759, 3.345400094985962, 3.336899995803833, 3.334199905395508, 3.3308000564575195, 3.327500104904175, 3.324399948120117, 3.3241000175476074, 3.322000026702881, 3.321199893951416, 3.318700075149536, 3.314300060272217, 3.3131000995635986, 3.3087000846862793, 3.3034000396728516, 3.3020999431610107, 3.2994000911712646, 3.2969000339508057, 3.2960000038146973, 3.295599937438965, 3.294800043106079, 3.294600009918213, 3.2941999435424805, 3.2932000160217285, 3.287400007247925, 3.2869999408721924, 3.2829999923706055, 3.2827999591827393, 3.282399892807007, 3.280400037765503, 3.2802999019622803, 3.1993000507354736, 2.6719000339508057, 2.6129000186920166, 2.458899974822998, 2.140399932861328, 2.0768001079559326, 0.899399995803833, 3.3661999702453613, 3.3647000789642334, 3.363300085067749, 3.360599994659424, 3.359600067138672, 3.3582000732421875, 3.3564999103546143, 3.3564000129699707, 3.3489999771118164, 3.347899913787842, 3.347399950027466, 3.342400074005127, 3.341900110244751, 3.3417000770568848, 3.341599941253662, 3.3397998809814453, 3.336899995803833, 3.3355000019073486, 3.3341000080108643, 3.3315000534057617, 3.3280999660491943, 3.32450008392334, 3.3225998878479004, 3.321000099182129, 3.3132998943328857, 3.311199903488159, 3.3096001148223877, 3.30430006980896, 3.3036000728607178, 3.3029000759124756, 2.5578999519348145, 2.005000114440918, 0.5291000008583069, 3.447000026702881, 3.444200038909912, 3.441200017929077, 3.4407999515533447, 3.4379000663757324, 3.436500072479248, 3.436500072479248, 3.4342000484466553, 3.4340999126434326, 3.4335999488830566, 3.43179988861084, 3.430000066757202, 3.419100046157837, 3.4166998863220215, 3.416300058364868, 3.411400079727173, 3.4033000469207764, 3.40310001373291, 3.402400016784668, 3.4007999897003174, 3.400099992752075, 3.3993000984191895, 3.396899938583374, 3.3968000411987305, 3.394200086593628, 3.3935999870300293, 3.390500068664551, 3.387500047683716, 3.386399984359741, 3.384500026702881, 2.869999885559082, 3.0522000789642334, 2.6770999431610107, 0.8292999863624573, 3.541800022125244, 3.537100076675415, 3.5344998836517334, 3.5332000255584717, 3.5325000286102295, 3.531599998474121, 3.516700029373169, 3.5134999752044678, 3.509200096130371, 3.507999897003174, 3.5028998851776123, 3.498199939727783, 3.4960999488830566, 3.495800018310547, 3.4923999309539795, 3.490999937057495, 3.4897000789642334, 3.488600015640259, 3.487600088119507, 3.4862000942230225, 3.483099937438965, 3.4807000160217285, 3.4791998863220215, 3.4791998863220215, 3.4791998863220215, 3.4791998863220215, 3.4684998989105225, 3.4679999351501465, 3.46560001373291, 3.4651999473571777, 2.8866000175476074, 2.54010009765625, 3.5467000007629395, 3.5422000885009766, 3.539799928665161, 3.527100086212158, 3.52020001411438, 3.51990008354187, 3.517699956893921, 3.517199993133545, 3.5130999088287354, 3.510999917984009, 3.510200023651123, 3.5095999240875244, 3.507499933242798, 3.505500078201294, 3.504699945449829, 3.4997000694274902, 3.49780011177063, 3.496000051498413, 3.494499921798706, 3.493299961090088, 3.4890999794006348, 3.48799991607666, 3.4858999252319336, 3.481600046157837, 3.4783999919891357, 3.4765000343322754, 3.4739999771118164, 3.4693000316619873, 3.4635000228881836, 3.459199905395508, 3.4112000465393066, 3.086199998855591, 1.8315000534057617, 1.6885000467300415, 1.621999979019165, 0.5250999927520752, 3.5580999851226807, 3.555000066757202, 3.55430006980896, 3.5425000190734863, 3.5348000526428223, 3.5316998958587646, 3.531599998474121, 3.529599905014038, 3.523200035095215, 3.5220999717712402, 3.5202999114990234, 3.519399881362915, 3.5190999507904053, 3.518399953842163, 3.514899969100952, 3.513400077819824, 3.5118000507354736, 3.5067999362945557, 3.5046000480651855, 3.5034000873565674, 3.503000020980835, 3.4995999336242676, 3.498500108718872, 3.497499942779541, 3.497499942779541, 3.4974000453948975, 3.4939000606536865, 3.4925999641418457, 3.491300106048584, 3.4911000728607178, 2.6635000705718994, 1.787500023841858, 2.578399896621704, 1.9384000301361084, 2.364000082015991, 3.6468000411987305, 3.6465001106262207, 3.6458001136779785, 3.645400047302246, 3.6445999145507812, 3.6412999629974365, 3.6393001079559326, 3.636699914932251, 3.6352999210357666, 3.635200023651123, 3.6331000328063965, 3.623500108718872, 3.618299961090088, 3.611999988555908, 3.6106998920440674, 3.609999895095825, 3.604599952697754, 3.604599952697754, 3.601900100708008, 3.5961999893188477, 3.5947999954223633, 3.5940001010894775, 3.5940001010894775, 3.5940001010894775, 3.593400001525879, 3.593400001525879, 3.588599920272827, 3.5808000564575195, 3.5771000385284424, 3.5717999935150146, 3.494499921798706, 2.8320000171661377, 3.2799999713897705], \"logprob\": [30.0, 29.0, 28.0, 27.0, 26.0, 25.0, 24.0, 23.0, 22.0, 21.0, 20.0, 19.0, 18.0, 17.0, 16.0, 15.0, 14.0, 13.0, 12.0, 11.0, 10.0, 9.0, 8.0, 7.0, 6.0, 5.0, 4.0, 3.0, 2.0, 1.0, -3.052999973297119, -3.2818000316619873, -3.3422999382019043, -3.768899917602539, -3.914599895477295, -4.083600044250488, -4.095699787139893, -4.301300048828125, -4.323800086975098, -4.369500160217285, -4.459099769592285, -4.492700099945068, -4.5100998878479, -4.51140022277832, -4.690800189971924, -4.757800102233887, -4.866300106048584, -2.8749001026153564, -5.000100135803223, -5.030099868774414, -5.070000171661377, -5.101900100708008, -5.167099952697754, -5.222099781036377, -5.24429988861084, -5.071599960327148, -5.305500030517578, -5.331500053405762, -5.335000038146973, -5.335999965667725, -3.8733999729156494, -3.827199935913086, -2.7342000007629395, -3.407099962234497, -4.065700054168701, -4.28849983215332, -3.8828001022338867, -4.901700019836426, -4.445000171661377, -4.406199932098389, -4.295400142669678, -4.09119987487793, -4.737299919128418, -4.632500171661377, -3.238800048828125, -3.460200071334839, -2.313699960708618, -3.878499984741211, -3.925800085067749, -4.076200008392334, -4.2778000831604, -4.409900188446045, -4.415999889373779, -4.549600124359131, -4.549699783325195, -4.55649995803833, -4.568699836730957, -4.75570011138916, -4.9405999183654785, -4.96750020980835, -4.972700119018555, -4.981800079345703, -5.015100002288818, -5.061399936676025, -5.0665998458862305, -5.068900108337402, -5.093599796295166, -5.096099853515625, -5.154300212860107, -5.191699981689453, -5.208199977874756, -5.225900173187256, -5.264800071716309, -5.275400161743164, -3.2367000579833984, -4.539700031280518, -4.928999900817871, -4.5467000007629395, -4.373199939727783, -4.812900066375732, -1.9198999404907227, -2.217400074005127, -2.636199951171875, -1.8860000371932983, -3.9955999851226807, -4.124100208282471, -4.133699893951416, -4.179999828338623, -4.3256001472473145, -4.3821001052856445, -4.416800022125244, -4.422399997711182, -4.486000061035156, -4.52839994430542, -4.682700157165527, -4.753900051116943, -4.839399814605713, -4.874499797821045, -4.897200107574463, -4.950500011444092, -4.966000080108643, -5.1057000160217285, -5.178999900817871, -5.293600082397461, -5.30109977722168, -5.367300033569336, -5.3958001136779785, -5.40939998626709, -5.4116997718811035, -5.468100070953369, -4.446199893951416, -3.98580002784729, -4.500999927520752, -4.8572001457214355, -5.329400062561035, -3.1377999782562256, -3.6668999195098877, -3.7648000717163086, -4.13100004196167, -4.21019983291626, -4.214099884033203, -4.364999771118164, -4.38539981842041, -4.447800159454346, -4.683899879455566, -4.7368998527526855, -4.7368998527526855, -4.84060001373291, -2.4930999279022217, -4.8790998458862305, -4.888800144195557, -4.962800025939941, -4.990499973297119, -5.006100177764893, -5.048399925231934, -5.162600040435791, -5.163300037384033, -5.171000003814697, -5.188000202178955, -5.1971001625061035, -5.291999816894531, -5.30620002746582, -5.30620002746582, -5.30620002746582, -5.30620002746582, -5.30620002746582, -2.2327001094818115, -2.475600004196167, -3.6510000228881836, -3.371999979019165, -3.887200117111206, -4.86359977722168, -3.5373001098632812, -4.230199813842773, -4.4980998039245605, -4.8815999031066895, -2.8743999004364014, -2.890399932861328, -3.2676000595092773, -3.27839994430542, -3.433300018310547, -3.4347000122070312, -3.5780999660491943, -3.7439000606536865, -3.755199909210205, -3.755500078201294, -3.895400047302246, -4.004899978637695, -4.156300067901611, -4.157299995422363, -4.281799793243408, -4.359799861907959, -4.417399883270264, -4.42080020904541, -4.531000137329102, -4.548500061035156, -4.63730001449585, -4.8043999671936035, -4.831399917602539, -4.856200218200684, -4.863100051879883, -4.877099990844727, -4.893700122833252, -4.92080020904541, -5.019400119781494, -5.084799766540527, -2.6150999069213867, -2.4368999004364014, -3.9437999725341797, -3.6278998851776123, -3.3280999660491943, -3.336699962615967, -3.363800048828125, -3.4544999599456787, -3.4763998985290527, -3.5432000160217285, -3.5801000595092773, -3.5834999084472656, -3.6691999435424805, -3.7730000019073486, -3.8011999130249023, -3.843400001525879, -3.9028000831604004, -3.9786999225616455, -4.170400142669678, -4.230100154876709, -4.267099857330322, -4.495299816131592, -4.542699813842773, -4.549600124359131, -4.760799884796143, -4.773799896240234, -3.573699951171875, -4.849699974060059, -4.883500099182129, -4.943699836730957, -5.0295000076293945, -5.156499862670898, -5.18310022354126, -5.267600059509277, -3.9883999824523926, -4.178599834442139, -3.530600070953369, -4.163300037384033, -4.4608001708984375, -4.780799865722656, -4.5559000968933105, -4.630799770355225, -4.654900074005127, -2.1447999477386475, -2.238600015640259, -3.36299991607666, -3.7637999057769775, -3.9948999881744385, -4.1255998611450195, -4.166500091552734, -4.394000053405762, -4.491300106048584, -4.507199764251709, -4.5894999504089355, -4.662499904632568, -4.752699851989746, -4.7581000328063965, -4.94950008392334, -5.003600120544434, -5.045199871063232, -5.100299835205078, -5.1539998054504395, -5.1545000076293945, -5.18209981918335, -5.190800189971924, -5.2067999839782715, -5.216400146484375, -5.230899810791016, -5.246300220489502, -5.2469000816345215, -5.252500057220459, -5.255199909210205, -5.372000217437744, -2.790299892425537, -3.584700107574463, -3.051500082015991, -3.594899892807007, -3.8615000247955322, -3.8131000995635986, -4.932199954986572, -4.522500038146973, -4.158100128173828, -4.503300189971924, -4.914899826049805, -4.980800151824951, -5.039599895477295, -2.9674999713897705, -3.329900026321411, -3.430299997329712, -3.46560001373291, -3.52020001411438, -3.7435998916625977, -3.8519999980926514, -3.898400068283081, -4.042600154876709, -4.085400104522705, -4.10099983215332, -4.108799934387207, -4.1539998054504395, -4.163099765777588, -4.209499835968018, -4.261600017547607, -4.29580020904541, -4.490200042724609, -4.512499809265137, -4.526299953460693, -4.701000213623047, -4.742400169372559, -4.787300109863281, -4.78980016708374, -4.800000190734863, -4.815999984741211, -4.824699878692627, -4.825500011444092, -4.85129976272583, -4.963200092315674, -4.166399955749512, -3.358799934387207, -3.8243000507354736, -4.319799900054932, -4.733399868011475, -4.597599983215332, -2.5271999835968018, -3.9007999897003174, -4.124199867248535, -4.132599830627441, -4.209799766540527, -4.222099781036377, -4.3632001876831055, -4.367199897766113, -4.415500164031982, -4.526000022888184, -4.577000141143799, -4.583199977874756, -4.690400123596191, -4.71560001373291, -4.718500137329102, -4.728799819946289, -4.799799919128418, -4.8084001541137695, -4.815400123596191, -4.828700065612793, -4.867700099945068, -4.9141998291015625, -4.926799774169922, -5.014999866485596, -5.063199996948242, -5.0833001136779785, -5.08620023727417, -5.104000091552734, -5.109099864959717, -5.184500217437744, -4.345600128173828, -4.538000106811523, -4.8302001953125, -4.71150016784668, -2.9718000888824463, -3.2616000175476074, -3.5666000843048096, -3.886899948120117, -3.970099925994873, -4.001699924468994, -4.009099960327148, -4.088900089263916, -4.226099967956543, -4.2393999099731445, -4.247399806976318, -4.259900093078613, -4.417600154876709, -4.489799976348877, -4.59689998626709, -4.600399971008301, -4.600599765777588, -4.688000202178955, -4.714799880981445, -4.8144001960754395, -4.831500053405762, -4.869100093841553, -4.880300045013428, -4.899199962615967, -4.917699813842773, -4.9471001625061035, -4.979599952697754, -5.0208001136779785, -5.023099899291992, -5.054900169372559, -3.5209999084472656, -3.907900094985962, -3.4296000003814697, -4.339000225067139, -4.054299831390381, -3.8259999752044678, -4.524700164794922, -4.393099784851074, -4.665599822998047, -4.797599792480469, -2.9175000190734863, -3.6596999168395996, -3.8132998943328857, -3.8405001163482666, -3.8729000091552734, -3.8833000659942627, -3.9286000728607178, -4.017899990081787, -4.022600173950195, -4.031400203704834, -4.068399906158447, -4.077300071716309, -4.083099842071533, -4.1682000160217285, -4.2581000328063965, -4.290299892425537, -4.343800067901611, -4.356599807739258, -4.482399940490723, -4.485199928283691, -4.560999870300293, -4.611000061035156, -4.631700038909912, -4.760900020599365, -4.8379998207092285, -4.866499900817871, -4.922100067138672, -4.961299896240234, -5.007800102233887, -5.043300151824951, -4.086299896240234, -3.5160999298095703, -4.510700225830078, -4.856800079345703, -2.6593000888824463, -3.185800075531006, -3.610100030899048, -3.6110999584198, -3.7744998931884766, -3.8429999351501465, -4.020400047302246, -4.0854997634887695, -4.118299961090088, -4.124599933624268, -4.146699905395508, -4.196100234985352, -4.268099784851074, -4.290800094604492, -4.543900012969971, -4.557799816131592, -4.573699951171875, -4.5833001136779785, -4.6057000160217285, -4.632999897003174, -4.745699882507324, -4.770100116729736, -4.782199859619141, -4.816100120544434, -4.834400177001953, -4.85860013961792, -4.865099906921387, -4.899199962615967, -4.928899765014648, -4.974899768829346, -3.172800064086914, -4.034299850463867, -2.5536000728607178, -3.200700044631958, -3.3443000316619873, -3.3541998863220215, -3.527899980545044, -3.528899908065796, -3.7871999740600586, -4.019999980926514, -4.0370001792907715, -4.09499979019165, -4.134399890899658, -4.372300148010254, -4.438000202178955, -4.461400032043457, -4.560999870300293, -4.587500095367432, -4.625699996948242, -4.707799911499023, -4.758399963378906, -4.768899917602539, -4.769499778747559, -4.799699783325195, -4.812300205230713, -4.819300174713135, -4.90500020980835, -4.924300193786621, -4.94379997253418, -5.01230001449585, -5.020400047302246, -5.027400016784668, -3.710099935531616, -4.012899875640869, -3.8643999099731445, -4.529699802398682, -3.9052999019622803, -4.803400039672852, -4.5142998695373535, -2.855799913406372, -3.6698999404907227, -3.8327999114990234, -4.006499767303467, -4.152500152587891, -4.270500183105469, -4.281000137329102, -4.355400085449219, -4.382400035858154, -4.459700107574463, -4.584700107574463, -4.616300106048584, -4.725100040435791, -4.84250020980835, -4.86959981918335, -4.9232001304626465, -4.971199989318848, -4.988399982452393, -4.9959001541137695, -5.010200023651123, -5.012599945068359, -5.020299911499023, -5.037700176239014, -5.134300231933594, -5.140699863433838, -5.202199935913086, -5.205900192260742, -5.211299896240234, -5.240200042724609, -5.241799831390381, -4.500899791717529, -2.649899959564209, -2.6219000816345215, -3.7880001068115234, -3.9565000534057617, -4.368500232696533, -4.477099895477295, -2.4460999965667725, -2.7402000427246094, -2.9388999938964844, -3.253000020980835, -3.346400022506714, -3.4591000080108643, -3.587599992752075, -3.5920000076293945, -4.01039981842041, -4.061200141906738, -4.080599784851074, -4.2795000076293945, -4.294600009918213, -4.302499771118164, -4.307199954986572, -4.367199897766113, -4.4593000411987305, -4.499300003051758, -4.53980016708374, -4.608500003814697, -4.692699909210205, -4.775700092315674, -4.815700054168701, -4.850800037384033, -4.997799873352051, -5.035099983215332, -5.061699867248535, -5.1479997634887695, -5.158100128173828, -5.169099807739258, -4.014800071716309, -3.6731998920440674, -4.705599784851074, -2.9440999031066895, -3.243799924850464, -3.4807000160217285, -3.513400077819824, -3.6963000297546387, -3.773699998855591, -3.7743000984191895, -3.8907999992370605, -3.896699905395508, -3.921799898147583, -4.00029993057251, -4.077099800109863, -4.440499782562256, -4.504300117492676, -4.515399932861328, -4.637599945068359, -4.811200141906738, -4.8140997886657715, -4.828000068664551, -4.8582000732421875, -4.872700214385986, -4.886600017547607, -4.929200172424316, -4.931399822235107, -4.976600170135498, -4.987199783325195, -5.037099838256836, -5.083600044250488, -5.10129976272583, -5.128499984741211, -2.742300033569336, -4.695899963378906, -4.544400215148926, -4.45419979095459, -1.9601000547409058, -2.826200008392334, -3.11299991607666, -3.2290000915527344, -3.2834999561309814, -3.3499999046325684, -4.100599765777588, -4.208000183105469, -4.335400104522705, -4.368800163269043, -4.4994001388549805, -4.607900142669678, -4.65339994430542, -4.6596999168396, -4.72760009765625, -4.753900051116943, -4.779600143432617, -4.798500061035156, -4.817200183868408, -4.8420000076293945, -4.893799781799316, -4.934100151062012, -4.956699848175049, -4.956699848175049, -4.956699848175049, -4.956699848175049, -5.112400054931641, -5.120299816131592, -5.1508002281188965, -5.156300067901611, -3.2997000217437744, -4.782800197601318, -2.519700050354004, -3.0822999477386475, -3.2909998893737793, -3.9818999767303467, -4.224599838256836, -4.235400199890137, -4.301199913024902, -4.31689977645874, -4.4268999099731445, -4.480800151824951, -4.499599933624268, -4.515200138092041, -4.562900066375732, -4.607699871063232, -4.6244001388549805, -4.726399898529053, -4.761899948120117, -4.7947001457214355, -4.822700023651123, -4.844200134277344, -4.91379976272583, -4.93179988861084, -4.964700222015381, -5.029399871826172, -5.075500011444092, -5.101799964904785, -5.135300159454346, -5.1956000328063965, -5.265500068664551, -5.314899921417236, -3.925800085067749, -2.4137001037597656, -4.5106000900268555, -4.558499813079834, -4.723499774932861, -4.677499771118164, -2.9333999156951904, -3.2314999103546143, -3.284899950027466, -3.9365999698638916, -4.2104997634887695, -4.302599906921387, -4.306399822235107, -4.361400127410889, -4.521900177001953, -4.546999931335449, -4.587299823760986, -4.6057000160217285, -4.6118998527526855, -4.627099990844727, -4.697500228881836, -4.727799892425537, -4.756999969482422, -4.845699787139893, -4.883399963378906, -4.9019999504089355, -4.909200191497803, -4.962200164794922, -4.979599952697754, -4.993899822235107, -4.993899822235107, -4.995800018310547, -5.046599864959717, -5.064300060272217, -5.082300186157227, -5.084799766540527, -2.897900104522705, -3.85479998588562, -4.4430999755859375, -4.093400001525879, -4.852399826049805, -2.821199893951416, -2.8589000701904297, -2.934299945831299, -2.968899965286255, -3.0434999465942383, -3.309299945831299, -3.4358999729156494, -3.585900068283081, -3.655600070953369, -3.659899950027466, -3.759000062942505, -4.118000030517578, -4.269899845123291, -4.4274001121521, -4.458399772644043, -4.4741997718811035, -4.587500095367432, -4.587500095367432, -4.640500068664551, -4.743199825286865, -4.7677001953125, -4.780799865722656, -4.780799865722656, -4.780799865722656, -4.791600227355957, -4.791600227355957, -4.867700099945068, -4.98199987411499, -5.031799793243408, -5.0991997718811035, -3.562999963760376, -4.184899806976318, -4.889599800109863]}, \"token.table\": {\"Topic\": [9, 11, 13, 10, 17, 12, 12, 16, 3, 1, 7, 8, 1, 3, 17, 20, 14, 9, 16, 6, 4, 2, 2, 2, 10, 17, 19, 18, 7, 18, 7, 10, 14, 2, 1, 6, 4, 6, 4, 18, 11, 1, 3, 7, 19, 7, 4, 17, 13, 20, 2, 15, 11, 14, 14, 5, 12, 2, 7, 11, 12, 10, 12, 14, 2, 8, 14, 18, 3, 20, 2, 13, 12, 9, 19, 5, 8, 15, 10, 7, 2, 8, 7, 7, 13, 2, 20, 4, 19, 11, 6, 18, 20, 2, 16, 14, 19, 8, 10, 14, 9, 15, 5, 9, 12, 8, 7, 7, 7, 13, 12, 3, 12, 11, 11, 12, 13, 5, 19, 13, 1, 7, 13, 20, 15, 6, 5, 13, 6, 15, 19, 19, 5, 19, 1, 6, 10, 2, 12, 17, 6, 6, 18, 9, 4, 12, 4, 12, 12, 3, 9, 20, 10, 13, 11, 1, 6, 5, 11, 20, 20, 15, 6, 13, 3, 11, 5, 11, 9, 19, 10, 18, 14, 14, 15, 4, 18, 10, 2, 10, 5, 1, 15, 12, 19, 15, 10, 19, 5, 8, 1, 17, 12, 18, 7, 11, 6, 7, 5, 16, 15, 5, 7, 8, 6, 8, 16, 20, 6, 16, 19, 16, 9, 19, 9, 17, 11, 16, 6, 13, 2, 17, 3, 20, 19, 16, 15, 4, 12, 8, 1, 20, 7, 5, 3, 1, 13, 7, 3, 8, 9, 11, 17, 12, 7, 12, 14, 6, 3, 15, 10, 9, 5, 17, 1, 12, 4, 14, 10, 13, 1, 7, 11, 18, 19, 12, 14, 3, 2, 15, 7, 16, 7, 10, 14, 18, 11, 4, 7, 16, 4, 14, 11, 1, 6, 14, 2, 3, 3, 4, 7, 11, 13, 18, 4, 18, 20, 12, 4, 10, 19, 8, 9, 3, 14, 5, 13, 1, 8, 15, 3, 1, 11, 7, 6, 10, 18, 14, 10, 19, 20, 6, 16, 18, 19, 17, 8, 20, 14, 4, 10, 12, 8, 11, 10, 7, 4, 1, 18, 1, 14, 9, 1, 8, 14, 18, 6, 1, 4, 1, 15, 2, 14, 20, 19, 1, 4, 1, 12, 3, 9, 8, 6, 4, 14, 16, 19, 4, 6, 20, 2, 2, 13, 4, 2, 10, 14, 6, 14, 20, 4, 12, 15, 4, 8, 20, 6, 13, 18, 18, 7, 14, 6, 4, 16, 5, 14, 10, 18, 2, 17, 19, 20, 5, 18, 11, 18, 1, 2, 7, 15, 12, 8, 8, 10, 16, 15, 9, 15, 14, 3, 12, 16, 18, 13, 6, 8, 5, 18, 10, 2, 19, 9, 4, 16, 7, 11, 13, 3, 11, 8, 5, 17, 18, 9, 19, 20, 3, 1, 6, 1, 1, 1, 6, 15, 17, 10, 13, 1, 8, 1, 20, 10, 7, 6, 13, 7, 1, 18, 4, 10, 19, 8, 1, 2, 9, 9, 8, 16, 17, 4, 6, 1, 17, 14, 3, 11, 10, 10, 15, 5, 6, 7, 15, 5, 13, 10, 9, 1, 17, 13, 2, 20, 14, 20, 20, 1, 14, 8, 10, 16, 13, 20, 13, 9, 13, 19, 2, 11, 16, 14, 16, 18, 15, 8, 16, 2, 14, 14, 20, 12, 13, 1, 3, 7, 9, 17, 9, 17, 11, 9, 20, 18, 18, 17, 10, 11, 9, 17, 18, 19, 11, 20, 4, 18, 3, 5, 19, 6, 5, 13, 10, 7, 8, 2, 9, 13, 16, 4, 6, 17, 19, 1, 1, 6, 7, 17, 13, 16, 4, 19, 16, 18, 8, 6, 20, 16, 11, 6, 16, 17, 20, 3, 7, 4, 10, 4, 7, 19, 5, 13, 4, 1, 1, 5, 3, 14, 18, 6, 11, 18, 2, 7, 10, 5, 9, 17, 1, 15, 2, 12, 17, 7, 3, 15, 8, 7, 20, 9, 8, 9, 19, 1, 5, 16, 3, 2, 16, 17, 16, 15, 18, 7, 9, 6, 17, 15, 11, 8, 5, 16, 4, 12, 10, 1, 12, 6, 15, 3, 3, 9, 2, 15, 5, 10, 7, 3, 19, 9, 16, 3, 1, 18, 2, 16, 17, 5, 1, 13, 5, 8, 8, 7, 1, 3, 7, 19, 9, 2, 6, 8, 2, 4, 6, 6, 13, 15, 8, 5, 4, 19, 4, 16, 1, 2, 12, 4, 10, 15, 4, 1, 2, 3, 6, 11, 14, 3, 19, 19, 7, 8, 14, 7, 5, 18, 19, 7, 8, 10, 14, 17, 6, 7, 13, 16, 4, 13, 6, 8, 17, 5, 8, 3, 10, 4, 13, 13, 16, 18, 2, 15, 1, 10, 14, 15, 20, 8, 6, 7, 11, 10, 17, 5, 4, 7, 17, 2, 3, 17, 15, 17, 15, 11, 1, 12, 20, 20, 1, 2, 4, 11, 15, 16, 1, 11, 2, 7, 20], \"Freq\": [0.9906928539276123, 0.9920216798782349, 0.9334558248519897, 0.9771084785461426, 0.9037467837333679, 0.9775469303131104, 0.9485453963279724, 0.9715275764465332, 0.9623090028762817, 0.8778614401817322, 0.05016351118683815, 0.06688468158245087, 0.9775098562240601, 0.949802577495575, 0.9343369007110596, 0.9820160269737244, 0.9167853593826294, 0.9497054219245911, 0.025667713955044746, 0.9755753874778748, 0.9820074439048767, 0.989957869052887, 0.9858704805374146, 0.5651266574859619, 0.210980623960495, 0.022605067119002342, 0.19591058790683746, 0.9594235420227051, 0.8455360531806946, 0.14435981214046478, 0.522744357585907, 0.16888664662837982, 0.2975621819496155, 0.9873634576797485, 0.9915621280670166, 0.9809897541999817, 0.9804985523223877, 0.9663254022598267, 0.9332813024520874, 0.9398415088653564, 0.9760328531265259, 0.21183505654335022, 0.3106914162635803, 0.06590423732995987, 0.4048403203487396, 0.9567084908485413, 0.9312348365783691, 0.8982535600662231, 0.9761960506439209, 0.9840585589408875, 0.972973644733429, 0.9824846982955933, 0.9624965786933899, 0.9750754237174988, 0.9848383665084839, 0.9950896501541138, 0.978278636932373, 0.9945697784423828, 0.9745739698410034, 0.925067126750946, 0.9744704961776733, 0.9642421007156372, 0.9329091310501099, 0.9788953065872192, 0.981131374835968, 0.9936152100563049, 0.9533019661903381, 0.990327775478363, 0.9981836080551147, 0.9804053902626038, 0.9708703756332397, 0.9905955791473389, 0.9948278069496155, 0.9948644638061523, 0.9207573533058167, 0.9932031631469727, 0.9825947880744934, 0.9651166796684265, 0.9757236838340759, 0.9967170357704163, 0.9723028540611267, 0.9939589500427246, 0.99830162525177, 0.8919661641120911, 0.10291917622089386, 0.9884552359580994, 0.9915068745613098, 0.9874284863471985, 0.9673255681991577, 0.976743221282959, 0.9906176328659058, 0.9466948509216309, 0.9415701031684875, 0.9920258522033691, 0.9781314730644226, 0.9484456777572632, 0.9609602093696594, 0.26987797021865845, 0.5734906792640686, 0.15180636942386627, 0.9505764245986938, 0.9361552000045776, 0.9822756052017212, 0.9776792526245117, 0.9794101715087891, 0.9929280877113342, 0.951726496219635, 0.9983006715774536, 0.9932592511177063, 0.9617695212364197, 0.9495348334312439, 0.9868118166923523, 0.9969885945320129, 0.9765986800193787, 0.9734585285186768, 0.9529061913490295, 0.9742437601089478, 0.9821045994758606, 0.9697926044464111, 0.9838148951530457, 0.9892721176147461, 0.951285183429718, 0.9662454128265381, 0.9300140738487244, 0.9944009780883789, 0.9961190819740295, 0.9837275147438049, 0.977537989616394, 0.9779494404792786, 0.974953293800354, 0.9596927165985107, 0.9357194900512695, 0.9574278593063354, 0.9569563865661621, 0.9737744331359863, 0.018373101949691772, 0.9803637862205505, 0.9949723482131958, 0.9811562895774841, 0.956332266330719, 0.9961528182029724, 0.9597844481468201, 0.9651089906692505, 0.9522063732147217, 0.9776623845100403, 0.9918814897537231, 0.9326255917549133, 0.9874674081802368, 0.9738072156906128, 0.9652723073959351, 0.9877161979675293, 0.9579359292984009, 0.9760684370994568, 0.9418837428092957, 0.9567410945892334, 0.0233281459659338, 0.9681180715560913, 0.974921703338623, 0.25563305616378784, 0.7029908895492554, 0.9646162986755371, 0.9606680870056152, 0.9959678649902344, 0.9932511448860168, 0.977782130241394, 0.988814115524292, 0.9881783127784729, 0.9744642376899719, 0.9723052382469177, 0.9610604047775269, 0.9948377013206482, 0.9628447890281677, 0.976176917552948, 0.9623807668685913, 0.9857231974601746, 0.9438884258270264, 0.9663771390914917, 0.9304189682006836, 0.9698901176452637, 0.9517065286636353, 0.984917402267456, 0.9959776401519775, 0.9798715710639954, 0.9908750653266907, 0.9773935079574585, 0.9869630336761475, 0.9731639623641968, 0.9632441997528076, 0.9647800922393799, 0.9807236790657043, 0.9910403490066528, 0.9596012830734253, 0.9617567658424377, 0.9437863230705261, 0.9851944446563721, 0.9555053114891052, 0.915891170501709, 0.06661026179790497, 0.9234525561332703, 0.07130907475948334, 0.9290196895599365, 0.21625904738903046, 0.7569066882133484, 0.9905984997749329, 0.06212487816810608, 0.9318732023239136, 0.9910078644752502, 0.9415701031684875, 0.9908502101898193, 0.9842954874038696, 0.9593334197998047, 0.933182954788208, 0.957358717918396, 0.9715299606323242, 0.941823422908783, 0.9536724090576172, 0.9809423685073853, 0.9735978841781616, 0.9928787350654602, 0.9676989912986755, 0.6029051542282104, 0.35626211762428284, 0.9179779887199402, 0.06556985527276993, 0.9539708495140076, 0.9357599020004272, 0.9841694831848145, 0.21174722909927368, 0.7825440764427185, 0.9674515128135681, 0.5448904037475586, 0.4439848065376282, 0.9273826479911804, 0.9866714477539062, 0.9688820838928223, 0.9964423775672913, 0.9875016808509827, 0.9245709180831909, 0.9717354774475098, 0.9909413456916809, 0.9589399695396423, 0.98188716173172, 0.9510408639907837, 0.955361545085907, 0.9878971576690674, 0.9854157567024231, 0.9045058488845825, 0.99493807554245, 0.9768867492675781, 0.9974099397659302, 0.9785895347595215, 0.9652090668678284, 0.9412301778793335, 0.9177791476249695, 0.9919355511665344, 0.9606667160987854, 0.9863920211791992, 0.9908136129379272, 0.6087713241577148, 0.3844871520996094, 0.8352522253990173, 0.10851702094078064, 0.0032883945386856794, 0.04932591691613197, 0.0032883945386856794, 0.9791038036346436, 0.9671317934989929, 0.9674285650253296, 0.9953656792640686, 0.9982912540435791, 0.9771480560302734, 0.9383378624916077, 0.20557162165641785, 0.22425995767116547, 0.4111432433128357, 0.1588508039712906, 0.9698275327682495, 0.983309268951416, 0.9416718482971191, 0.9667196273803711, 0.11988682299852371, 0.8392077088356018, 0.9473083019256592, 0.7450501918792725, 0.24464334547519684, 0.9712106585502625, 0.9738616943359375, 0.9819117188453674, 0.9957467317581177, 0.9813278913497925, 0.11839289963245392, 0.8524289131164551, 0.11117257922887802, 0.8615875244140625, 0.8118398785591125, 0.17469972372055054, 0.9804053902626038, 0.9744002819061279, 0.26354607939720154, 0.36490997672080994, 0.36490997672080994, 0.9709711074829102, 0.9812396764755249, 0.9985015392303467, 0.9720696210861206, 0.9834628105163574, 0.9474775195121765, 0.9838876724243164, 0.9830242395401001, 0.9608274102210999, 0.9647283554077148, 0.9824023842811584, 0.989342987537384, 0.9907443523406982, 0.9788426756858826, 0.36743271350860596, 0.6286198496818542, 0.9638643264770508, 0.992459237575531, 0.9824665188789368, 0.9511426687240601, 0.9693285822868347, 0.9571415781974792, 0.9683824777603149, 0.9616184830665588, 0.9395089149475098, 0.9470004439353943, 0.9537268280982971, 0.9507089853286743, 0.9439669847488403, 0.9440818428993225, 0.9772092700004578, 0.9733365774154663, 0.9862193465232849, 0.9693277478218079, 0.9503044486045837, 0.9939596056938171, 0.978631854057312, 0.9450708627700806, 0.9701337218284607, 0.9091070890426636, 0.965004026889801, 0.8825823664665222, 0.11366590857505798, 0.9619338512420654, 0.8944975733757019, 0.9571870565414429, 0.21574187278747559, 0.7811343669891357, 0.987174391746521, 0.9663718342781067, 0.9117645025253296, 0.0860893502831459, 0.9363681674003601, 0.9259887337684631, 0.9862616062164307, 0.9438884258270264, 0.9943845272064209, 0.970119297504425, 0.9785505533218384, 0.9663037061691284, 0.9871362447738647, 0.9905893206596375, 0.7178308367729187, 0.2848534882068634, 0.9471831321716309, 0.9338530898094177, 0.4210444688796997, 0.5696483850479126, 0.99092698097229, 0.976172149181366, 0.981231153011322, 0.9884999990463257, 0.9671227335929871, 0.9937787652015686, 0.9894829392433167, 0.9099187850952148, 0.9801536202430725, 0.9730710387229919, 0.9819828271865845, 0.9652916789054871, 0.9715268611907959, 0.9971020817756653, 0.9438884258270264, 0.9896321296691895, 0.9387921094894409, 0.9896750450134277, 0.9809848070144653, 0.9357494115829468, 0.8990984559059143, 0.9870902299880981, 0.9602566361427307, 0.9876963496208191, 0.9683041572570801, 0.026897337287664413, 0.9967057704925537, 0.9766046404838562, 0.9589863419532776, 0.9310041666030884, 0.9847051501274109, 0.9902071356773376, 0.1260979324579239, 0.8406528830528259, 0.9960697889328003, 0.8927047848701477, 0.9483408331871033, 0.9377833008766174, 0.6071851253509521, 0.18620343506336212, 0.16191603243350983, 0.04047900810837746, 0.949323296546936, 0.9764878153800964, 0.9656628966331482, 0.9687274694442749, 0.9210768938064575, 0.9325628280639648, 0.9665651321411133, 0.9917723536491394, 0.9384344816207886, 0.9879987835884094, 0.970815122127533, 0.9793606400489807, 0.9611334204673767, 0.9589108824729919, 0.22387541830539703, 0.7719842195510864, 0.9834846258163452, 0.9385040998458862, 0.9739815592765808, 0.6898245811462402, 0.2956390976905823, 0.9761078953742981, 0.976402223110199, 0.900917112827301, 0.5792967081069946, 0.12158078700304031, 0.2932242453098297, 0.9825599193572998, 0.9900485277175903, 0.9797496795654297, 0.9820423126220703, 0.9451043009757996, 0.9906100630760193, 0.9709523916244507, 0.9904277324676514, 0.9849030375480652, 0.9774184823036194, 0.41424182057380676, 0.5753358602523804, 0.9952926635742188, 0.9808691143989563, 0.7568864226341248, 0.23547577857971191, 0.9382517337799072, 0.9870468974113464, 0.9886950850486755, 0.9650180339813232, 0.9973195195198059, 0.9683763980865479, 0.9279712438583374, 0.06512078642845154, 0.9837120175361633, 0.9641633033752441, 0.9599162340164185, 0.9653509259223938, 0.9778622388839722, 0.9911459684371948, 0.9818865060806274, 0.9921385645866394, 0.9854979515075684, 0.9415099620819092, 0.9886123538017273, 0.0033988370560109615, 0.9958592057228088, 0.9941067695617676, 0.9549123048782349, 0.959114134311676, 0.9930079579353333, 0.9435303211212158, 0.9438884258270264, 0.9872564673423767, 0.9808843731880188, 0.9854605197906494, 0.9606476426124573, 0.9934271574020386, 0.9780044555664062, 0.9569096565246582, 0.9946763515472412, 0.9907427430152893, 0.8343960046768188, 0.14638525247573853, 0.7407066226005554, 0.25395655632019043, 0.9927399158477783, 0.978074312210083, 0.9921833276748657, 0.9803922176361084, 0.9884419441223145, 0.9903959035873413, 0.9509046077728271, 0.9805147647857666, 0.9877062439918518, 0.9361623525619507, 0.9824549555778503, 0.9861919283866882, 0.997756838798523, 0.9077771306037903, 0.3195584714412689, 0.5730013847351074, 0.09917332231998444, 0.6457095742225647, 0.32285478711128235, 0.9555952548980713, 0.94643235206604, 0.9746825098991394, 0.9936409592628479, 0.9975269436836243, 0.957692563533783, 0.9377939105033875, 0.9549374580383301, 0.9784006476402283, 0.9616283774375916, 0.960170567035675, 0.9568274021148682, 0.9629613757133484, 0.9721112251281738, 0.9318404793739319, 0.9811636805534363, 0.9511426687240601, 0.9466792941093445, 0.9522953033447266, 0.3083666265010834, 0.6552790403366089, 0.5470920205116272, 0.444512277841568, 0.9174628257751465, 0.9825568795204163, 0.9174628257751465, 0.9802878499031067, 0.9759346842765808, 0.9088097214698792, 0.988401472568512, 0.971245527267456, 0.964177668094635, 0.9889370203018188, 0.9684295654296875, 0.9644510746002197, 0.9174628257751465, 0.9027951955795288, 0.9799122214317322, 0.9489517211914062, 0.9922037124633789, 0.8369569182395935, 0.13949280977249146, 0.034287236630916595, 0.9300413131713867, 0.030001332983374596, 0.9958774447441101, 0.9828378558158875, 0.9951747059822083, 0.9837895035743713, 0.9686153531074524, 0.9895650148391724, 0.978705108165741, 0.9585058689117432, 0.9819251298904419, 0.9507944583892822, 0.9602691531181335, 0.9887555241584778, 0.9730895757675171, 0.9412665963172913, 0.9786733984947205, 0.8326626420021057, 0.1633705198764801, 0.9874668717384338, 0.9174628257751465, 0.5199750065803528, 0.4704535901546478, 0.9820074439048767, 0.9223082065582275, 0.9799500703811646, 0.9790729284286499, 0.9962096214294434, 0.9432797431945801, 0.9622454643249512, 0.9662013053894043, 0.960129976272583, 0.9486592411994934, 0.9907411932945251, 0.969653844833374, 0.9468681812286377, 0.9937745332717896, 0.0036806464195251465, 0.9092719554901123, 0.08898074179887772, 0.9911350011825562, 0.9578210711479187, 0.9611064195632935, 0.9825776815414429, 0.9827272891998291, 0.9438884258270264, 0.9936255216598511, 0.992689847946167, 0.9739294052124023, 0.9854462742805481, 0.9433648586273193, 0.9838106036186218, 0.9353978633880615, 0.9679121375083923, 0.962912917137146, 0.9968518018722534, 0.5755459070205688, 0.41773495078086853, 0.9848673343658447, 0.8019346594810486, 0.1743336170911789, 0.9729588031768799, 0.9657149314880371, 0.8956512808799744, 0.0833163931965828, 0.8991799354553223, 0.9836573004722595, 0.960107147693634, 0.9414532780647278, 0.9769570231437683, 0.9783841371536255, 0.9496323466300964, 0.9710266590118408, 0.24421091377735138, 0.7326327562332153, 0.9779853820800781, 0.9969700574874878, 0.994723916053772, 0.9883937835693359, 0.9580240249633789, 0.9730794429779053, 0.6708006262779236, 0.29347527027130127, 0.9886105060577393, 0.9678008556365967, 0.9949985146522522, 0.9653254747390747, 0.9817255139350891, 0.9857181310653687, 0.9646633267402649, 0.9508562088012695, 0.9680925607681274, 0.9778410196304321, 0.9928144812583923, 0.9469921588897705, 0.9401438236236572, 0.9764549136161804, 0.9755714535713196, 0.7225342988967896, 0.2767152786254883, 0.86919105052948, 0.11589214205741882, 0.978295087814331, 0.9840521216392517, 0.9693708419799805, 0.9644020199775696, 0.9149852991104126, 0.9640954732894897, 0.9690033793449402, 0.972415030002594, 0.9601510167121887, 0.9173914194107056, 0.9664755463600159, 0.9098626375198364, 0.9965804815292358, 0.969878613948822, 0.029038282111287117, 0.9891811609268188, 0.9875670075416565, 0.9712573289871216, 0.9844251871109009, 0.9818224906921387, 0.9420821070671082, 0.6707925796508789, 0.3226597011089325, 0.9695805311203003, 0.9548577070236206, 0.5359465479850769, 0.2041701227426529, 0.0918765515089035, 0.1684403419494629, 0.9775368571281433, 0.8212001323699951, 0.05213969200849533, 0.11731430143117905, 0.965492844581604, 0.950659453868866, 0.9973684549331665, 0.09058868139982224, 0.4529434144496918, 0.4400021731853485, 0.9648391008377075, 0.9712499976158142, 0.9846705794334412, 0.9571351408958435, 0.44084662199020386, 0.5547732710838318, 0.9869246482849121, 0.011396358720958233, 0.9595319032669067, 0.9556032419204712, 0.9734921455383301, 0.9570272564888, 0.9639738202095032, 0.11013393849134445, 0.2936905026435852, 0.17131945490837097, 0.20803076028823853, 0.1468452513217926, 0.0734226256608963, 0.9937898516654968, 0.9697926044464111, 0.9708239436149597, 0.9947429895401001, 0.9729846715927124, 0.9512124061584473, 0.963567316532135, 0.9783118367195129, 0.9070026874542236, 0.9592292308807373, 0.051863398402929306, 0.23338529467582703, 0.20745359361171722, 0.5075204372406006, 0.979720413684845, 0.650200605392456, 0.34378424286842346, 0.979030191898346, 0.9503471851348877, 0.9692807197570801, 0.9493097066879272, 0.2790164053440094, 0.6975409984588623, 0.9734984636306763, 0.9823348522186279, 0.9914650321006775, 0.9456592798233032, 0.9817988872528076, 0.8662692904472351, 0.13145720958709717, 0.9925119280815125, 0.9855807423591614, 0.9803903102874756, 0.993831992149353, 0.9511148929595947, 0.4346528947353363, 0.02716580592095852, 0.4787973463535309, 0.05772733688354492, 0.9691476821899414, 0.993135392665863, 0.9534094929695129, 0.9719128012657166, 0.9751988649368286, 0.9722132086753845, 0.986766517162323, 0.9569202065467834, 0.38693955540657043, 0.08794080466032028, 0.5188507437705994, 0.9951858520507812, 0.9856600165367126, 0.9409419298171997, 0.9538630247116089, 0.9980276226997375, 0.9741868376731873, 0.9602937698364258, 0.9934101104736328, 0.9832692742347717, 0.9907927513122559, 0.8923793435096741, 0.8629686236381531, 0.006931474898010492, 0.010397212579846382, 0.11090359836816788, 0.008664343506097794, 0.975701630115509, 0.996770977973938, 0.939643383026123, 0.7615858912467957, 0.22968463599681854, 0.9415701031684875], \"Term\": [\"able\", \"abortion\", \"absolute\", \"absolutely\", \"abuela\", \"account\", \"action\", \"actively\", \"actual\", \"actually\", \"actually\", \"actually\", \"advise\", \"affect\", \"aged\", \"agenda\", \"alienate\", \"allow\", \"allow\", \"almost\", \"almost_identical\", \"alone\", \"already\", \"also\", \"also\", \"also\", \"also\", \"amazing\", \"america\", \"america\", \"american\", \"american\", \"american\", \"answer\", \"anyone\", \"anything\", \"appear\", \"appoint\", \"appointment\", \"argue\", \"argument\", \"article\", \"article\", \"article\", \"article\", \"ask\", \"assertion\", \"asshole\", \"atlanta\", \"attack\", \"attempt\", \"attention\", \"audience\", \"average\", \"away\", \"back\", \"bad\", \"bank\", \"barack\", \"barrier\", \"base\", \"be\", \"beat\", \"become\", \"begin\", \"believe\", \"benefit\", \"bern\", \"bernie\", \"bet\", \"better\", \"big\", \"bill\", \"black\", \"branch\", \"break\", \"bring\", \"bullshit\", \"bunch\", \"bush\", \"business\", \"call\", \"campaign\", \"candidate\", \"candidate\", \"care\", \"carson\", \"case\", \"caucus\", \"chance\", \"change\", \"charge\", \"chat\", \"child\", \"choose\", \"citizen\", \"citizen_unit\", \"city\", \"city\", \"city\", \"civil\", \"civil_servant\", \"claim\", \"class\", \"classified\", \"clear\", \"clearly\", \"clinton\", \"close\", \"closing\", \"club\", \"college\", \"come\", \"comment\", \"community\", \"company\", \"compare\", \"completely\", \"comprised_copied\", \"conclusion\", \"confirm\", \"confirmation\", \"conform\", \"confused\", \"congress\", \"conservative\", \"consider\", \"constituent\", \"constitutional\", \"continue\", \"continuous_quote\", \"contrast\", \"corporate\", \"corrupt\", \"could\", \"could\", \"count\", \"country\", \"couple\", \"course\", \"court\", \"create\", \"credit\", \"crime\", \"cruz\", \"current\", \"currently\", \"cut\", \"cycle\", \"damn\", \"datum\", \"death\", \"debate\", \"debt\", \"decency\", \"decide\", \"decide\", \"decision\", \"defend\", \"defend\", \"definitely\", \"demand\", \"democrat\", \"democratic\", \"desperate\", \"difference\", \"different\", \"discrimination_lgbt\", \"dislike\", \"diverse\", \"do\", \"document\", \"domain\", \"dream\", \"drive\", \"earned_contrarily\", \"easy\", \"economist\", \"effect\", \"effective\", \"elect\", \"election\", \"else\", \"email\", \"email_address\", \"employee\", \"end\", \"endorse\", \"endorsement\", \"enough\", \"entire\", \"entirely\", \"environment\", \"equal\", \"especially\", \"essentially\", \"establishment\", \"establishment\", \"even\", \"even\", \"event\", \"ever\", \"ever\", \"everyone\", \"everything\", \"everything\", \"exactly\", \"excited\", \"exist\", \"experience\", \"explain\", \"extreme\", \"extremely\", \"eye\", \"face\", \"facebook_video\", \"fact\", \"factor\", \"fail\", \"failure\", \"fair\", \"fair\", \"family\", \"family\", \"favor\", \"fear\", \"federal\", \"feel\", \"feel\", \"female\", \"fight\", \"fight\", \"financial_institution\", \"find\", \"firewall\", \"first\", \"flint\", \"florida\", \"fly\", \"force\", \"forefront\", \"foreign_policy\", \"forget\", \"form\", \"former\", \"fort\", \"foundation\", \"free\", \"front_page\", \"fuck\", \"funny\", \"future\", \"gain\", \"game\", \"general\", \"george\", \"georgia\", \"get\", \"give\", \"give\", \"go\", \"go\", \"go\", \"go\", \"go\", \"goal\", \"goddamn\", \"goldman_sach\", \"good\", \"government\", \"governor\", \"grab\", \"great\", \"great\", \"great\", \"great\", \"group\", \"guide\", \"gun\", \"guy\", \"half\", \"half\", \"hand\", \"happen\", \"happen\", \"happy\", \"hard\", \"hate\", \"headline\", \"health\", \"health_care\", \"health_care\", \"healthcare\", \"healthcare\", \"hear\", \"hear\", \"hedge\", \"hell\", \"high\", \"high\", \"high\", \"high_energy\", \"hilary\", \"hillary\", \"hipster\", \"hispanic\", \"history\", \"hold\", \"holy\", \"home\", \"honestly\", \"hope\", \"hour\", \"house\", \"however\", \"http\", \"http\", \"husband\", \"idea\", \"identify\", \"ideological_purist\", \"ideologue\", \"idiot\", \"illegal\", \"illinois\", \"imagine\", \"important\", \"impossible\", \"improve_life\", \"increasingly\", \"individual\", \"industry\", \"influence\", \"information\", \"inspire\", \"instead\", \"insurance\", \"interest\", \"interested\", \"interesting\", \"intervention\", \"iowa_hampshire\", \"issue\", \"issue\", \"job\", \"journal\", \"judge\", \"justice\", \"justice\", \"keep\", \"kind\", \"know\", \"know\", \"koolaid\", \"lack\", \"large\", \"larger_electorate\", \"last\", \"later\", \"latino\", \"law\", \"lead\", \"least\", \"leave\", \"leave\", \"let\", \"leverage\", \"liberal\", \"liberal\", \"life\", \"lift\", \"like\", \"likely\", \"limit\", \"line\", \"link\", \"list\", \"literally\", \"little\", \"live\", \"local\", \"longer\", \"look\", \"looking_promotion\", \"lose\", \"loud\", \"love\", \"low\", \"lucky\", \"lump\", \"main\", \"maintain_status\", \"majority\", \"make\", \"make\", \"many\", \"mark\", \"marketing\", \"material\", \"matter\", \"may\", \"maybe\", \"maybe\", \"mean\", \"medicaid\", \"medical\", \"medicare\", \"medium\", \"medium\", \"medium\", \"medium\", \"meet\", \"member\", \"mention\", \"message\", \"middle\", \"middle_east\", \"millennial\", \"mind\", \"mindblowing\", \"minority\", \"miss\", \"moderate\", \"moment\", \"momentum\", \"money\", \"money\", \"month\", \"morehouse\", \"moron\", \"mostly\", \"mostly\", \"move\", \"movement\", \"movie\", \"much\", \"much\", \"much\", \"must\", \"name\", \"national\", \"nearly\", \"neck\", \"need\", \"neighborhood\", \"nevada\", \"never\", \"news\", \"next\", \"next\", \"nominate\", \"nomination\", \"nominee\", \"nominee\", \"none\", \"nonhispanic\", \"not\", \"number\", \"obama\", \"obstructionist\", \"office\", \"office\", \"often\", \"online\", \"oppose\", \"page\", \"panic\", \"part\", \"particular\", \"party\", \"passionate\", \"paste\", \"pay\", \"people\", \"people\", \"percent\", \"percentage\", \"perhaps\", \"person\", \"personal\", \"perspective_naturally\", \"pick\", \"place\", \"plan\", \"planned_parenthood\", \"platform\", \"play\", \"plenty\", \"point\", \"policy\", \"politic\", \"politic\", \"political\", \"political\", \"poll\", \"polltr\", \"population\", \"portion\", \"position\", \"post\", \"potential\", \"poverty\", \"power\", \"preach\", \"precedent\", \"presidency\", \"president\", \"prestige\", \"pretty\", \"pretty\", \"pretty\", \"prevent\", \"prevent\", \"previous\", \"price\", \"primary\", \"probably\", \"problem\", \"process\", \"product\", \"program\", \"prohillary\", \"properly\", \"protest\", \"protester\", \"prove\", \"public\", \"public_university\", \"pull\", \"purge_establishment\", \"pursue\", \"quickly\", \"quote\", \"quote\", \"race\", \"race\", \"raceethnicity\", \"racial\", \"racialethnic_group\", \"racism\", \"racism_sexism\", \"raise\", \"rally\", \"random\", \"rapist\", \"rate\", \"rather\", \"ratio\", \"ratio_decreas\", \"rcirclejerk\", \"read\", \"ready\", \"real\", \"reality\", \"reality\", \"really\", \"really\", \"really\", \"reason\", \"reasonable\", \"record\", \"reddit\", \"redirect\", \"refuse\", \"regardless\", \"register\", \"registration\", \"reject\", \"remain\", \"remember\", \"remove\", \"reno\", \"report\", \"republican\", \"republican\", \"respect\", \"respectively\", \"result\", \"result\", \"resume_capability\", \"return\", \"revolution\", \"ridiculous\", \"right\", \"rise\", \"rival\", \"romney\", \"rpolitic\", \"rule\", \"run\", \"running\", \"safe\", \"sander\", \"sander\", \"say\", \"say\", \"scalia\", \"search\", \"second\", \"secretary\", \"see\", \"seeking_serve\", \"seem\", \"senate\", \"senator\", \"serious\", \"seriously\", \"server\", \"several\", \"sexism\", \"ship\", \"shit\", \"show\", \"show\", \"side\", \"sign\", \"sign\", \"similar\", \"simply\", \"single\", \"single\", \"sinister\", \"site\", \"slogan\", \"slow\", \"small\", \"smear\", \"snowden\", \"social\", \"solve\", \"solve\", \"somebody\", \"someone\", \"something\", \"sometimes\", \"soon\", \"sound\", \"source\", \"source\", \"south\", \"south_carolina\", \"speak\", \"speaker\", \"speech\", \"spend\", \"spin\", \"stance\", \"stand\", \"start\", \"state\", \"stating_fact\", \"status\", \"stay\", \"step\", \"still\", \"still\", \"stop\", \"stop\", \"story\", \"straight\", \"stream\", \"strong\", \"student\", \"study\", \"stuff\", \"stupid\", \"succeed\", \"suggest\", \"super\", \"supply\", \"support\", \"supporter\", \"supporter\", \"suppose\", \"sure\", \"surely\", \"surprise\", \"surprised\", \"surround\", \"system\", \"system\", \"table\", \"tactic\", \"take\", \"take\", \"take\", \"take\", \"taking_advantage\", \"talk\", \"talk\", \"talk\", \"tax\", \"team\", \"tell\", \"term\", \"term\", \"term\", \"terrible\", \"texas\", \"thank\", \"theory\", \"thing\", \"thing\", \"think\", \"think\", \"thinking\", \"thoma\", \"thread\", \"throw\", \"tilli\", \"time\", \"time\", \"time\", \"time\", \"time\", \"time\", \"title\", \"title_appropriate\", \"toby\", \"today\", \"tomorrow\", \"tool\", \"topic\", \"tough\", \"town\", \"trade\", \"trump\", \"trump\", \"trump\", \"trump\", \"trust\", \"try\", \"try\", \"turn\", \"type\", \"uber\", \"unable\", \"understand\", \"understand\", \"understanding\", \"upset\", \"use\", \"version\", \"video\", \"vote\", \"vote\", \"voter\", \"voting\", \"wage\", \"wall_street\", \"walmart\", \"want\", \"want\", \"want\", \"want\", \"warren\", \"water\", \"way\", \"website\", \"week\", \"weird\", \"well\", \"whatev\", \"white\", \"white\", \"white\", \"whole\", \"win\", \"wing_conspiracy\", \"wish\", \"woman\", \"wonder\", \"word\", \"work\", \"worker\", \"world\", \"worth\", \"would\", \"would\", \"would\", \"would\", \"would\", \"wrong\", \"year\", \"york\", \"young\", \"young\", \"youtube\"]}, \"R\": 30, \"lambda.step\": 0.01, \"plot.opts\": {\"xlab\": \"PC1\", \"ylab\": \"PC2\"}, \"topic.order\": [8, 12, 19, 3, 20, 6, 2, 15, 18, 11, 5, 1, 14, 10, 9, 13, 4, 17, 16, 7]};\n",
       "\n",
       "function LDAvis_load_lib(url, callback){\n",
       "  var s = document.createElement('script');\n",
       "  s.src = url;\n",
       "  s.async = true;\n",
       "  s.onreadystatechange = s.onload = callback;\n",
       "  s.onerror = function(){console.warn(\"failed to load library \" + url);};\n",
       "  document.getElementsByTagName(\"head\")[0].appendChild(s);\n",
       "}\n",
       "\n",
       "if(typeof(LDAvis) !== \"undefined\"){\n",
       "   // already loaded: just create the visualization\n",
       "   !function(LDAvis){\n",
       "       new LDAvis(\"#\" + \"ldavis_el821861132864331923940246981\", ldavis_el821861132864331923940246981_data);\n",
       "   }(LDAvis);\n",
       "}else if(typeof define === \"function\" && define.amd){\n",
       "   // require.js is available: use it to load d3/LDAvis\n",
       "   require.config({paths: {d3: \"https://cdnjs.cloudflare.com/ajax/libs/d3/3.5.5/d3.min\"}});\n",
       "   require([\"d3\"], function(d3){\n",
       "      window.d3 = d3;\n",
       "      LDAvis_load_lib(\"https://cdn.rawgit.com/bmabey/pyLDAvis/files/ldavis.v1.0.0.js\", function(){\n",
       "        new LDAvis(\"#\" + \"ldavis_el821861132864331923940246981\", ldavis_el821861132864331923940246981_data);\n",
       "      });\n",
       "    });\n",
       "}else{\n",
       "    // require.js not available: dynamically load d3 & LDAvis\n",
       "    LDAvis_load_lib(\"https://cdnjs.cloudflare.com/ajax/libs/d3/3.5.5/d3.min.js\", function(){\n",
       "         LDAvis_load_lib(\"https://cdn.rawgit.com/bmabey/pyLDAvis/files/ldavis.v1.0.0.js\", function(){\n",
       "                 new LDAvis(\"#\" + \"ldavis_el821861132864331923940246981\", ldavis_el821861132864331923940246981_data);\n",
       "            })\n",
       "         });\n",
       "}\n",
       "</script>"
      ],
      "text/plain": [
       "PreparedData(topic_coordinates=            Freq  cluster  topics         x         y\n",
       "topic                                                \n",
       "7      13.874097        1       1 -0.320928 -0.061614\n",
       "11     10.720254        1       2 -0.105069  0.041894\n",
       "18      6.443686        1       3 -0.167946  0.139857\n",
       "2       5.517880        1       4  0.114792  0.028435\n",
       "19      5.366857        1       5  0.034380  0.174097\n",
       "5       5.360128        1       6 -0.124426  0.004781\n",
       "1       5.359236        1       7 -0.054906 -0.170710\n",
       "14      5.199317        1       8  0.010053 -0.100582\n",
       "17      5.151007        1       9  0.077287  0.088819\n",
       "10      4.661750        1      10  0.100968 -0.234608\n",
       "4       3.887136        1      11 -0.093569  0.042107\n",
       "0       3.661806        1      12  0.046348  0.082032\n",
       "13      3.543770        1      13  0.102442 -0.021404\n",
       "9       3.500549        1      14  0.021692 -0.182120\n",
       "8       3.436013        1      15  0.013530 -0.027968\n",
       "12      3.158005        1      16  0.134122  0.089407\n",
       "3       2.886248        1      17  0.092922  0.074120\n",
       "16      2.864946        1      18  0.077179 -0.093711\n",
       "15      2.823192        1      19 -0.016006  0.059191\n",
       "6       2.584122        1      20  0.057136  0.067977, topic_info=     Category        Freq                 Term       Total  loglift  logprob\n",
       "term                                                                        \n",
       "500   Default  543.000000               sander  543.000000  30.0000  30.0000\n",
       "256   Default  522.000000               bernie  522.000000  29.0000  29.0000\n",
       "56    Default  588.000000               people  588.000000  28.0000  28.0000\n",
       "100   Default  388.000000              hillary  388.000000  27.0000  27.0000\n",
       "736   Default  347.000000              clinton  347.000000  26.0000  26.0000\n",
       "215   Default  359.000000                  say  359.000000  25.0000  25.0000\n",
       "199   Default  316.000000             campaign  316.000000  24.0000  24.0000\n",
       "45    Default  577.000000                would  577.000000  23.0000  23.0000\n",
       "29    Default  438.000000                think  438.000000  22.0000  22.0000\n",
       "133   Default  225.000000                woman  225.000000  21.0000  21.0000\n",
       "44    Default  296.000000                 vote  296.000000  20.0000  20.0000\n",
       "230   Default  280.000000                 even  280.000000  19.0000  19.0000\n",
       "194   Default  260.000000                 make  260.000000  18.0000  18.0000\n",
       "23    Default  362.000000            president  362.000000  17.0000  17.0000\n",
       "185   Default  255.000000              support  255.000000  16.0000  16.0000\n",
       "512   Default  228.000000                black  228.000000  15.0000  15.0000\n",
       "131   Default  294.000000                 want  294.000000  14.0000  14.0000\n",
       "54    Default  225.000000                 http  225.000000  13.0000  13.0000\n",
       "408   Default  233.000000               really  233.000000  12.0000  12.0000\n",
       "241   Default  269.000000                trump  269.000000  11.0000  11.0000\n",
       "20    Default  288.000000                obama  288.000000  10.0000  10.0000\n",
       "136   Default  165.000000           government  165.000000   9.0000   9.0000\n",
       "197   Default  201.000000                thing  201.000000   8.0000   8.0000\n",
       "31    Default  271.000000                 year  271.000000   7.0000   7.0000\n",
       "321   Default  204.000000            candidate  204.000000   6.0000   6.0000\n",
       "378   Default  153.000000                voter  153.000000   5.0000   5.0000\n",
       "172   Default  233.000000                 good  233.000000   4.0000   4.0000\n",
       "153   Default  255.000000                 know  255.000000   3.0000   3.0000\n",
       "567   Default  168.000000                state  168.000000   2.0000   2.0000\n",
       "1     Default  212.000000              article  212.000000   1.0000   1.0000\n",
       "...       ...         ...                  ...         ...      ...      ...\n",
       "155   Topic20   73.355797                never   74.118973   3.6454  -2.9689\n",
       "1068  Topic20   68.083206                power   68.846382   3.6446  -3.0435\n",
       "1063  Topic20   52.190907                 live   52.954082   3.6413  -3.3093\n",
       "188   Topic20   45.982010               attack   46.745186   3.6393  -3.4359\n",
       "1139  Topic20   39.579460               carson   40.342636   3.6367  -3.5859\n",
       "524   Topic20   36.914417               agenda   37.677593   3.6353  -3.6556\n",
       "1717  Topic20   36.754875           presidency   37.518051   3.6352  -3.6599\n",
       "158   Topic20   33.287361               warren   34.050537   3.6331  -3.7590\n",
       "1675  Topic20   23.246778                death   24.009956   3.6235  -4.1180\n",
       "530   Topic20   19.970455           definitely   20.733633   3.6183  -4.2699\n",
       "2587  Topic20   17.061632           impossible   17.824810   3.6120  -4.4274\n",
       "1135  Topic20   16.540415            precedent   17.303593   3.6107  -4.4584\n",
       "1684  Topic20   16.279999                 loud   17.043177   3.6100  -4.4742\n",
       "2956  Topic20   14.536616                hedge   15.299793   3.6046  -4.5875\n",
       "2954  Topic20   14.536616                  bet   15.299793   3.6046  -4.5875\n",
       "1846  Topic20   13.786125                rival   14.549302   3.6019  -4.6405\n",
       "542   Topic20   12.440907                raise   13.204084   3.5962  -4.7432\n",
       "1674  Topic20   12.139853             confused   12.903030   3.5948  -4.7677\n",
       "3017  Topic20   11.981493                 chat   12.744670   3.5940  -4.7808\n",
       "3018  Topic20   11.981493              excited   12.744670   3.5940  -4.7808\n",
       "3019  Topic20   11.981493              youtube   12.744670   3.5940  -4.7808\n",
       "4093  Topic20   11.853227   ideological_purist   12.616404   3.5934  -4.7916\n",
       "4094  Topic20   11.853227  purge_establishment   12.616404   3.5934  -4.7916\n",
       "2959  Topic20   10.984339              koolaid   11.747516   3.5886  -4.8677\n",
       "1718  Topic20    9.797956                 safe   10.561132   3.5808  -4.9820\n",
       "496   Topic20    9.322220                worth   10.085397   3.5771  -5.0318\n",
       "1847  Topic20    8.714171              snowden    9.477352   3.5718  -5.0992\n",
       "189   Topic20   40.495552                maybe   47.582066   3.4945  -3.5630\n",
       "532   Topic20   21.742590                fight   49.551247   2.8320  -4.1849\n",
       "1714  Topic20   10.746361               defend   15.647429   3.2800  -4.8896\n",
       "\n",
       "[755 rows x 6 columns], token_table=      Topic      Freq              Term\n",
       "term                                   \n",
       "1297      9  0.990693              able\n",
       "2038     11  0.992022          abortion\n",
       "674      13  0.933456          absolute\n",
       "579      10  0.977108        absolutely\n",
       "2933     17  0.903747            abuela\n",
       "168      12  0.977547           account\n",
       "72       12  0.948545            action\n",
       "3184     16  0.971528          actively\n",
       "2102      3  0.962309            actual\n",
       "291       1  0.877861          actually\n",
       "291       7  0.050164          actually\n",
       "291       8  0.066885          actually\n",
       "2482      1  0.977510            advise\n",
       "1693      3  0.949803            affect\n",
       "4020     17  0.934337              aged\n",
       "524      20  0.982016            agenda\n",
       "2869     14  0.916785          alienate\n",
       "926       9  0.949705             allow\n",
       "926      16  0.025668             allow\n",
       "264       6  0.975575            almost\n",
       "3679      4  0.982007  almost_identical\n",
       "1102      2  0.989958             alone\n",
       "832       2  0.985870           already\n",
       "936       2  0.565127              also\n",
       "936      10  0.210981              also\n",
       "936      17  0.022605              also\n",
       "936      19  0.195911              also\n",
       "243      18  0.959424           amazing\n",
       "224       7  0.845536           america\n",
       "224      18  0.144360           america\n",
       "...     ...       ...               ...\n",
       "716       7  0.971913           website\n",
       "1588     11  0.975199              week\n",
       "659      10  0.972213             weird\n",
       "380      17  0.986767              well\n",
       "1296      5  0.956920            whatev\n",
       "578       4  0.386940             white\n",
       "578       7  0.087941             white\n",
       "578      17  0.518851             white\n",
       "987       2  0.995186             whole\n",
       "921       3  0.985660               win\n",
       "1636     17  0.940942   wing_conspiracy\n",
       "549      15  0.953863              wish\n",
       "133      17  0.998028             woman\n",
       "417      15  0.974187            wonder\n",
       "381      11  0.960294              word\n",
       "134       1  0.993410              work\n",
       "804      12  0.983269            worker\n",
       "1388     20  0.990793             world\n",
       "496      20  0.892379             worth\n",
       "45        1  0.862969             would\n",
       "45        2  0.006931             would\n",
       "45        4  0.010397             would\n",
       "45       11  0.110904             would\n",
       "45       15  0.008664             would\n",
       "418      16  0.975702             wrong\n",
       "31        1  0.996771              year\n",
       "1270     11  0.939643              york\n",
       "1046      2  0.761586             young\n",
       "1046      7  0.229685             young\n",
       "3019     20  0.941570           youtube\n",
       "\n",
       "[788 rows x 3 columns], R=30, lambda_step=0.01, plot_opts={'xlab': 'PC1', 'ylab': 'PC2'}, topic_order=[8, 12, 19, 3, 20, 6, 2, 15, 18, 11, 5, 1, 14, 10, 9, 13, 4, 17, 16, 7])"
      ]
     },
     "execution_count": 235,
     "metadata": {},
     "output_type": "execute_result"
    }
   ],
   "source": [
    "# Visualize the topics\n",
    "pyLDAvis.enable_notebook()\n",
    "vis = pyLDAvis.gensim.prepare(lda_model, corpus, id2word)\n",
    "vis"
   ]
  },
  {
   "cell_type": "code",
   "execution_count": null,
   "metadata": {},
   "outputs": [],
   "source": []
  },
  {
   "cell_type": "code",
   "execution_count": null,
   "metadata": {},
   "outputs": [],
   "source": []
  },
  {
   "cell_type": "code",
   "execution_count": null,
   "metadata": {},
   "outputs": [],
   "source": [
    "#### Another way to do the topic modelling"
   ]
  },
  {
   "cell_type": "code",
   "execution_count": 179,
   "metadata": {},
   "outputs": [],
   "source": [
    "from nltk.corpus import stopwords \n",
    "from nltk.stem.wordnet import WordNetLemmatizer\n",
    "import string\n",
    "stop = set(stopwords.words('english'))\n",
    "exclude = set(string.punctuation) \n",
    "lemma = WordNetLemmatizer()\n",
    "def clean(doc):\n",
    "    stop_free = \" \".join([i for i in doc.lower().split() if i not in stop])\n",
    "    punc_free = ''.join(ch for ch in stop_free if ch not in exclude)\n",
    "    normalized = \" \".join(lemma.lemmatize(word) for word in punc_free.split())\n",
    "    return normalized"
   ]
  },
  {
   "cell_type": "code",
   "execution_count": 204,
   "metadata": {},
   "outputs": [],
   "source": [
    "myTextDataList = news.Text.tolist()"
   ]
  },
  {
   "cell_type": "code",
   "execution_count": 205,
   "metadata": {},
   "outputs": [],
   "source": [
    "doc_clean = [clean(doc).split() for doc in myTextDataList] "
   ]
  },
  {
   "cell_type": "code",
   "execution_count": 206,
   "metadata": {},
   "outputs": [],
   "source": [
    "# Importing Gensim\n",
    "import gensim\n",
    "from gensim import corpora\n",
    "\n",
    "# Creating the term dictionary of our courpus, where every unique term is assigned an index. \n",
    "dictionary = corpora.Dictionary(doc_clean)\n",
    "\n",
    "# Converting list of documents (corpus) into Document Term Matrix using dictionary prepared above.\n",
    "doc_term_matrix = [dictionary.doc2bow(doc) for doc in doc_clean]"
   ]
  },
  {
   "cell_type": "code",
   "execution_count": 209,
   "metadata": {},
   "outputs": [],
   "source": [
    "# Creating the object for LDA model using gensim library\n",
    "Lda = gensim.models.ldamodel.LdaModel\n",
    "\n",
    "# Running and Trainign LDA model on the document term matrix.\n",
    "ldamodel = Lda(doc_term_matrix, num_topics=10, id2word = dictionary, passes=50)"
   ]
  },
  {
   "cell_type": "code",
   "execution_count": 211,
   "metadata": {},
   "outputs": [
    {
     "name": "stdout",
     "output_type": "stream",
     "text": [
      "[(0, '0.012*\"people\" + 0.011*\"like\" + 0.011*\"would\"'), (1, '0.022*\"bernie\" + 0.011*\"hillary\" + 0.011*\"vote\"'), (2, '0.015*\"article\" + 0.015*\"health\" + 0.012*\"insurance\"'), (3, '0.008*\"really\" + 0.008*\"court\" + 0.007*\"majority\"'), (4, '0.014*\"like\" + 0.008*\"think\" + 0.008*\"bernie\"'), (5, '0.020*\"would\" + 0.013*\"trump\" + 0.012*\"bernie\"'), (6, '0.015*\"people\" + 0.015*\"would\" + 0.011*\"trump\"'), (7, '0.029*\"hillary\" + 0.028*\"sander\" + 0.013*\"like\"'), (8, '0.016*\"people\" + 0.011*\"want\" + 0.009*\"bernie\"'), (9, '0.016*\"black\" + 0.011*\"people\" + 0.011*\"sander\"')]\n"
     ]
    }
   ],
   "source": [
    "print(ldamodel.print_topics(num_topics=10, num_words=3))"
   ]
  },
  {
   "cell_type": "code",
   "execution_count": null,
   "metadata": {},
   "outputs": [],
   "source": []
  }
 ],
 "metadata": {
  "kernelspec": {
   "display_name": "Python 3",
   "language": "python",
   "name": "python3"
  },
  "language_info": {
   "codemirror_mode": {
    "name": "ipython",
    "version": 3
   },
   "file_extension": ".py",
   "mimetype": "text/x-python",
   "name": "python",
   "nbconvert_exporter": "python",
   "pygments_lexer": "ipython3",
   "version": "3.6.4"
  }
 },
 "nbformat": 4,
 "nbformat_minor": 2
}
